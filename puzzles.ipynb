{
  "cells": [
    {
      "cell_type": "markdown",
      "id": "d8204266",
      "metadata": {
        "id": "d8204266"
      },
      "source": [
        "# LLM Training Puzzles\n",
        "\n",
        "by Sasha Rush ([@srush_nlp](https://twitter.com/srush_nlp))"
      ]
    },
    {
      "cell_type": "code",
      "execution_count": 1,
      "id": "c65be14b",
      "metadata": {
        "id": "c65be14b"
      },
      "outputs": [],
      "source": [
        "%%capture\n",
        "# Uncomment to run in Colab\n",
        "!pip install -qqq git+https://github.com/chalk-diagrams/chalk asyncio\n",
        "!wget https://raw.githubusercontent.com/srush/LLM-Training-Puzzles/main/lib.py https://raw.githubusercontent.com/srush/LLM-Training-Puzzles/main/drawing.py"
      ]
    },
    {
      "cell_type": "code",
      "execution_count": 2,
      "id": "d583c979",
      "metadata": {
        "id": "d583c979"
      },
      "outputs": [],
      "source": [
        "from typing import List\n",
        "from lib import Model, Dist, WeightGrad\n",
        "from drawing import draw, draw_group\n",
        "from chalk import vcat\n",
        "import asyncio\n",
        "import chalk\n",
        "chalk.set_svg_height(400)\n",
        "chalk.set_svg_draw_height(600)"
      ]
    },
    {
      "cell_type": "markdown",
      "id": "cc24dadb",
      "metadata": {
        "id": "cc24dadb"
      },
      "source": [
        "## Preliminaries\n",
        "\n",
        "The goal of these puzzles is to learn about distributed training of LLMs. However, we will be primarily concerned with a speed and memory efficiency of completing a single update of the models. To make things simpler, we will abstract away from the standard tensor-based transformer model, and just consider a state-less representation of each of the components of a multi-layer neural network.\n",
        "\n"
      ]
    },
    {
      "cell_type": "code",
      "execution_count": 3,
      "id": "ad71f90c",
      "metadata": {
        "id": "ad71f90c"
      },
      "outputs": [],
      "source": [
        "model = Model(layers=2, batches=4)\n",
        "weights, opt_states, activations, grad_activations, grad_weights = model.storage()"
      ]
    },
    {
      "cell_type": "markdown",
      "id": "61cf6388",
      "metadata": {
        "id": "61cf6388"
      },
      "source": [
        "Our library has 5 parts:\n",
        "\n",
        "* Weights\n",
        "* Optimizer States - Values needed to update the weights\n",
        "* Activations - The internal values computed on the forward pass\n",
        "* Grad Activations - The gradients of the loss wrt to activations, needed for backward pass\n",
        "* Grad Weights - The gradients of the loss wrt to weights, needed for updates\n",
        "\n",
        "For these puzzles, you are *not allowed* to have local variables. You need to store each of these in the dictionary corresponding to its type.                      \n",
        "\n",
        "We begin by tracing the lifecycle of a single model update."
      ]
    },
    {
      "cell_type": "code",
      "execution_count": 4,
      "id": "0335a17b",
      "metadata": {
        "id": "0335a17b",
        "outputId": "33d4e47f-fe5e-4559-ba98-347b1b10df0b",
        "colab": {
          "base_uri": "https://localhost:8080/",
          "height": 421
        }
      },
      "outputs": [
        {
          "output_type": "execute_result",
          "data": {
            "text/plain": [
              "Activation(layer=0, layers=2, batches=frozenset({2, 3}), total_batches=4)"
            ],
            "image/svg+xml": "<?xml version=\"1.0\" encoding=\"utf-8\" ?>\n<svg baseProfile=\"full\" height=\"400\" version=\"1.1\" width=\"233\" xmlns=\"http://www.w3.org/2000/svg\" xmlns:ev=\"http://www.w3.org/2001/xml-events\" xmlns:xlink=\"http://www.w3.org/1999/xlink\"><defs><marker id=\"arrow\" markerHeight=\"3.5\" markerWidth=\"5\" orient=\"auto\" refX=\"5.0\" refY=\"1.7\"><polygon points=\"0,0 5,1.75 0,3.5\" /></marker></defs><g style=\"fill:white;\"><g transform=\"matrix(1.0, 0.0, 0.0, 1.0, 116.50000000000001, 199.99166666666667)\"><g transform=\"matrix(73.96825396825396, 0.0, 0.0, 73.96825396825396, 0.0, 0.0)\"><g><g transform=\"matrix(1.0, 0.0, 0.0, 1.0, -0.0, -2.5749999999999997)\"><g><g style=\"stroke: black;stroke-width: 3.6;\" transform=\"matrix(1.0, 0.0, 0.0, 1.0, -0.75, 0.0)\"><path d=\"M 0.0 0.0 L 1.5 0.0 L 1.5 1.05 L 0.0 1.05 L 0.0 0.0 Z\" style=\"vector-effect: non-scaling-stroke;\" /></g><g style=\"stroke: black;stroke-width: 3.6;\" transform=\"matrix(1.0, 0.0, 0.0, 1.0, -1.5, 0.0)\"><path d=\"M 0.0 0.0 L 3.0 0.0 L 3.0 0.0 L 0.0 0.0 L 0.0 0.0 Z\" style=\"vector-effect: non-scaling-stroke;\" /></g><g transform=\"matrix(1.0, 0.0, 0.0, 1.0, 0.0, 1.05)\"><g transform=\"matrix(0.0, -1.0, 1.0, 0.0, 0.0, 0.0)\"><g /></g></g><g transform=\"matrix(1.0, 0.0, 0.0, 1.0, 0.0, 2.05)\"><g><g style=\"stroke: black;stroke-width: 3.6;\" transform=\"matrix(1.0, 0.0, 0.0, 1.0, -0.75, 0.0)\"><path d=\"M 0.0 0.0 L 1.5 0.0 L 1.5 1.05 L 0.0 1.05 L 0.0 0.0 Z\" style=\"vector-effect: non-scaling-stroke;\" /></g><g style=\"stroke: black;stroke-width: 3.6;\" transform=\"matrix(1.0, 0.0, 0.0, 1.0, -1.5, -1.0)\"><path d=\"M 0.0 0.0 L 3.0 0.0 L 3.0 1.0 L 0.0 1.0 L 0.0 0.0 Z\" style=\"vector-effect: non-scaling-stroke;\" /></g><g transform=\"matrix(1.0, 0.0, 0.0, 1.0, 0.0, 1.05)\"><g transform=\"matrix(0.0, -1.0, 1.0, 0.0, 0.0, 0.0)\"><g /></g></g><g transform=\"matrix(1.0, 0.0, 0.0, 1.0, 0.0, 2.05)\"><g><g style=\"stroke: black;stroke-width: 3.6;\" transform=\"matrix(1.0, 0.0, 0.0, 1.0, -0.75, 0.0)\"><path d=\"M 0.0 0.0 L 1.5 0.0 L 1.5 1.05 L 0.0 1.05 L 0.0 0.0 Z\" style=\"vector-effect: non-scaling-stroke;\" /></g><g style=\"stroke: black;stroke-width: 3.6;\" transform=\"matrix(1.0, 0.0, 0.0, 1.0, -1.5, -1.0)\"><path d=\"M 0.0 0.0 L 3.0 0.0 L 3.0 1.0 L 0.0 1.0 L 0.0 0.0 Z\" style=\"vector-effect: non-scaling-stroke;\" /></g></g></g></g></g><g /><g /><g /><g transform=\"matrix(1.0, 0.0, 0.0, 1.0, 0.0, 1.05)\"><g transform=\"matrix(0.0, -1.0, 1.0, 0.0, 0.0, 0.0)\"><g /></g></g><g transform=\"matrix(1.0, 0.0, 0.0, 1.0, 0.0, 2.05)\"><g><g /><g /><g /><g transform=\"matrix(1.0, 0.0, 0.0, 1.0, 0.0, 1.05)\"><g transform=\"matrix(0.0, -1.0, 1.0, 0.0, 0.0, 0.0)\"><g /></g></g><g transform=\"matrix(1.0, 0.0, 0.0, 1.0, 0.0, 2.05)\"><g><g transform=\"matrix(1.0, 0.0, 0.0, 1.0, 0.0, 0.025)\"><g transform=\"matrix(1.0, 0.0, 0.0, 1.0, 0.0, 0.5)\"><g><g style=\"fill: #008000;stroke: #ffffff;stroke-width: 0.18;fill-opacity: 1;\" transform=\"matrix(1.0, 0.0, 0.0, 1.0, 0.0, -0.5)\"><path d=\"M 0.0 0.0 L 0.375 0.0 L 0.375 1.0 L 0.0 1.0 L 0.0 0.0 Z\" style=\"vector-effect: non-scaling-stroke;\" /></g><g style=\"fill: #008000;stroke: #ffffff;stroke-width: 0.18;fill-opacity: 1;\" transform=\"matrix(1.0, 0.0, 0.0, 1.0, 0.375, -0.5)\"><path d=\"M 0.0 0.0 L 0.375 0.0 L 0.375 1.0 L 0.0 1.0 L 0.0 0.0 Z\" style=\"vector-effect: non-scaling-stroke;\" /></g></g></g></g><g /><g /></g></g></g></g></g></g><g /></g></g></g></g></svg>"
          },
          "metadata": {},
          "execution_count": 4
        }
      ],
      "source": [
        "# Get the input activations to the model for batches 2, 3\n",
        "activations[0] = model.get_activation(batches=[2, 3])\n",
        "activations[0]"
      ]
    },
    {
      "cell_type": "code",
      "execution_count": 5,
      "id": "962ac1d8",
      "metadata": {
        "id": "962ac1d8",
        "outputId": "4d8649d3-efdf-453f-fb53-5147b36b62a1",
        "colab": {
          "base_uri": "https://localhost:8080/",
          "height": 421
        }
      },
      "outputs": [
        {
          "output_type": "execute_result",
          "data": {
            "text/plain": [
              "Weight(layer=0, layers=2, step=0, shards=frozenset({0}), total=1)"
            ],
            "image/svg+xml": "<?xml version=\"1.0\" encoding=\"utf-8\" ?>\n<svg baseProfile=\"full\" height=\"400\" version=\"1.1\" width=\"233\" xmlns=\"http://www.w3.org/2000/svg\" xmlns:ev=\"http://www.w3.org/2001/xml-events\" xmlns:xlink=\"http://www.w3.org/1999/xlink\"><defs><marker id=\"arrow\" markerHeight=\"3.5\" markerWidth=\"5\" orient=\"auto\" refX=\"5.0\" refY=\"1.7\"><polygon points=\"0,0 5,1.75 0,3.5\" /></marker></defs><g style=\"fill:white;\"><g transform=\"matrix(1.0, 0.0, 0.0, 1.0, 116.50000000000001, 199.99166666666667)\"><g transform=\"matrix(73.96825396825396, 0.0, 0.0, 73.96825396825396, 0.0, 0.0)\"><g><g transform=\"matrix(1.0, 0.0, 0.0, 1.0, -0.0, -2.5749999999999997)\"><g><g style=\"stroke: black;stroke-width: 3.6;\" transform=\"matrix(1.0, 0.0, 0.0, 1.0, -0.75, 0.0)\"><path d=\"M 0.0 0.0 L 1.5 0.0 L 1.5 1.05 L 0.0 1.05 L 0.0 0.0 Z\" style=\"vector-effect: non-scaling-stroke;\" /></g><g style=\"stroke: black;stroke-width: 3.6;\" transform=\"matrix(1.0, 0.0, 0.0, 1.0, -1.5, 0.0)\"><path d=\"M 0.0 0.0 L 3.0 0.0 L 3.0 0.0 L 0.0 0.0 L 0.0 0.0 Z\" style=\"vector-effect: non-scaling-stroke;\" /></g><g transform=\"matrix(1.0, 0.0, 0.0, 1.0, 0.0, 1.05)\"><g transform=\"matrix(0.0, -1.0, 1.0, 0.0, 0.0, 0.0)\"><g /></g></g><g transform=\"matrix(1.0, 0.0, 0.0, 1.0, 0.0, 2.05)\"><g><g style=\"stroke: black;stroke-width: 3.6;\" transform=\"matrix(1.0, 0.0, 0.0, 1.0, -0.75, 0.0)\"><path d=\"M 0.0 0.0 L 1.5 0.0 L 1.5 1.05 L 0.0 1.05 L 0.0 0.0 Z\" style=\"vector-effect: non-scaling-stroke;\" /></g><g style=\"stroke: black;stroke-width: 3.6;\" transform=\"matrix(1.0, 0.0, 0.0, 1.0, -1.5, -1.0)\"><path d=\"M 0.0 0.0 L 3.0 0.0 L 3.0 1.0 L 0.0 1.0 L 0.0 0.0 Z\" style=\"vector-effect: non-scaling-stroke;\" /></g><g transform=\"matrix(1.0, 0.0, 0.0, 1.0, 0.0, 1.05)\"><g transform=\"matrix(0.0, -1.0, 1.0, 0.0, 0.0, 0.0)\"><g /></g></g><g transform=\"matrix(1.0, 0.0, 0.0, 1.0, 0.0, 2.05)\"><g><g style=\"stroke: black;stroke-width: 3.6;\" transform=\"matrix(1.0, 0.0, 0.0, 1.0, -0.75, 0.0)\"><path d=\"M 0.0 0.0 L 1.5 0.0 L 1.5 1.05 L 0.0 1.05 L 0.0 0.0 Z\" style=\"vector-effect: non-scaling-stroke;\" /></g><g style=\"stroke: black;stroke-width: 3.6;\" transform=\"matrix(1.0, 0.0, 0.0, 1.0, -1.5, -1.0)\"><path d=\"M 0.0 0.0 L 3.0 0.0 L 3.0 1.0 L 0.0 1.0 L 0.0 0.0 Z\" style=\"vector-effect: non-scaling-stroke;\" /></g></g></g></g></g><g /><g /><g /><g transform=\"matrix(1.0, 0.0, 0.0, 1.0, 0.0, 1.05)\"><g transform=\"matrix(0.0, -1.0, 1.0, 0.0, 0.0, 0.0)\"><g /></g></g><g transform=\"matrix(1.0, 0.0, 0.0, 1.0, 0.0, 2.05)\"><g><g /><g /><g /><g transform=\"matrix(1.0, 0.0, 0.0, 1.0, 0.0, 1.05)\"><g transform=\"matrix(0.0, -1.0, 1.0, 0.0, 0.0, 0.0)\"><g /></g></g><g transform=\"matrix(1.0, 0.0, 0.0, 1.0, 0.0, 2.05)\"><g><g /><g style=\"fill: #008000;stroke: #ffffff;stroke-width: 0.18;\" transform=\"matrix(1.0, 0.0, 0.0, 1.0, -1.5, -1.0)\"><path d=\"M 0.0 0.0 L 3.0 0.0 L 3.0 1.0 L 0.0 1.0 L 0.0 0.0 Z\" style=\"vector-effect: non-scaling-stroke;\" /></g><g /></g></g></g></g></g></g><g /></g></g></g></g></svg>"
          },
          "metadata": {},
          "execution_count": 5
        }
      ],
      "source": [
        "# Load the weights (random) for layers 0 and 1\n",
        "for i in range(model.LAYERS):\n",
        "    weights[i], opt_states[i] = model.load_weights(i)\n",
        "weights[0]"
      ]
    },
    {
      "cell_type": "code",
      "execution_count": 6,
      "id": "f7a83439",
      "metadata": {
        "id": "f7a83439",
        "outputId": "ad8c1b50-4108-49bc-fed1-93dc549b7966",
        "colab": {
          "base_uri": "https://localhost:8080/",
          "height": 421
        }
      },
      "outputs": [
        {
          "output_type": "execute_result",
          "data": {
            "text/plain": [
              "Activation(layer=1, layers=2, batches=frozenset({2, 3}), total_batches=4)"
            ],
            "image/svg+xml": "<?xml version=\"1.0\" encoding=\"utf-8\" ?>\n<svg baseProfile=\"full\" height=\"400\" version=\"1.1\" width=\"233\" xmlns=\"http://www.w3.org/2000/svg\" xmlns:ev=\"http://www.w3.org/2001/xml-events\" xmlns:xlink=\"http://www.w3.org/1999/xlink\"><defs><marker id=\"arrow\" markerHeight=\"3.5\" markerWidth=\"5\" orient=\"auto\" refX=\"5.0\" refY=\"1.7\"><polygon points=\"0,0 5,1.75 0,3.5\" /></marker></defs><g style=\"fill:white;\"><g transform=\"matrix(1.0, 0.0, 0.0, 1.0, 116.50000000000001, 199.99166666666667)\"><g transform=\"matrix(73.96825396825396, 0.0, 0.0, 73.96825396825396, 0.0, 0.0)\"><g><g transform=\"matrix(1.0, 0.0, 0.0, 1.0, -0.0, -2.5749999999999997)\"><g><g style=\"stroke: black;stroke-width: 3.6;\" transform=\"matrix(1.0, 0.0, 0.0, 1.0, -0.75, 0.0)\"><path d=\"M 0.0 0.0 L 1.5 0.0 L 1.5 1.05 L 0.0 1.05 L 0.0 0.0 Z\" style=\"vector-effect: non-scaling-stroke;\" /></g><g style=\"stroke: black;stroke-width: 3.6;\" transform=\"matrix(1.0, 0.0, 0.0, 1.0, -1.5, 0.0)\"><path d=\"M 0.0 0.0 L 3.0 0.0 L 3.0 0.0 L 0.0 0.0 L 0.0 0.0 Z\" style=\"vector-effect: non-scaling-stroke;\" /></g><g transform=\"matrix(1.0, 0.0, 0.0, 1.0, 0.0, 1.05)\"><g transform=\"matrix(0.0, -1.0, 1.0, 0.0, 0.0, 0.0)\"><g /></g></g><g transform=\"matrix(1.0, 0.0, 0.0, 1.0, 0.0, 2.05)\"><g><g style=\"stroke: black;stroke-width: 3.6;\" transform=\"matrix(1.0, 0.0, 0.0, 1.0, -0.75, 0.0)\"><path d=\"M 0.0 0.0 L 1.5 0.0 L 1.5 1.05 L 0.0 1.05 L 0.0 0.0 Z\" style=\"vector-effect: non-scaling-stroke;\" /></g><g style=\"stroke: black;stroke-width: 3.6;\" transform=\"matrix(1.0, 0.0, 0.0, 1.0, -1.5, -1.0)\"><path d=\"M 0.0 0.0 L 3.0 0.0 L 3.0 1.0 L 0.0 1.0 L 0.0 0.0 Z\" style=\"vector-effect: non-scaling-stroke;\" /></g><g transform=\"matrix(1.0, 0.0, 0.0, 1.0, 0.0, 1.05)\"><g transform=\"matrix(0.0, -1.0, 1.0, 0.0, 0.0, 0.0)\"><g /></g></g><g transform=\"matrix(1.0, 0.0, 0.0, 1.0, 0.0, 2.05)\"><g><g style=\"stroke: black;stroke-width: 3.6;\" transform=\"matrix(1.0, 0.0, 0.0, 1.0, -0.75, 0.0)\"><path d=\"M 0.0 0.0 L 1.5 0.0 L 1.5 1.05 L 0.0 1.05 L 0.0 0.0 Z\" style=\"vector-effect: non-scaling-stroke;\" /></g><g style=\"stroke: black;stroke-width: 3.6;\" transform=\"matrix(1.0, 0.0, 0.0, 1.0, -1.5, -1.0)\"><path d=\"M 0.0 0.0 L 3.0 0.0 L 3.0 1.0 L 0.0 1.0 L 0.0 0.0 Z\" style=\"vector-effect: non-scaling-stroke;\" /></g></g></g></g></g><g /><g /><g /><g transform=\"matrix(1.0, 0.0, 0.0, 1.0, 0.0, 1.05)\"><g transform=\"matrix(0.0, -1.0, 1.0, 0.0, 0.0, 0.0)\"><g /></g></g><g transform=\"matrix(1.0, 0.0, 0.0, 1.0, 0.0, 2.05)\"><g><g transform=\"matrix(1.0, 0.0, 0.0, 1.0, 0.0, 0.025)\"><g transform=\"matrix(1.0, 0.0, 0.0, 1.0, 0.0, 0.5)\"><g><g style=\"fill: #bfbf00;stroke: #ffffff;stroke-width: 0.18;fill-opacity: 1;\" transform=\"matrix(1.0, 0.0, 0.0, 1.0, 0.0, -0.5)\"><path d=\"M 0.0 0.0 L 0.375 0.0 L 0.375 1.0 L 0.0 1.0 L 0.0 0.0 Z\" style=\"vector-effect: non-scaling-stroke;\" /></g><g style=\"fill: #bfbf00;stroke: #ffffff;stroke-width: 0.18;fill-opacity: 1;\" transform=\"matrix(1.0, 0.0, 0.0, 1.0, 0.375, -0.5)\"><path d=\"M 0.0 0.0 L 0.375 0.0 L 0.375 1.0 L 0.0 1.0 L 0.0 0.0 Z\" style=\"vector-effect: non-scaling-stroke;\" /></g></g></g></g><g /><g /><g transform=\"matrix(1.0, 0.0, 0.0, 1.0, 0.0, 1.05)\"><g transform=\"matrix(0.0, -1.0, 1.0, 0.0, 0.0, 0.0)\"><g /></g></g><g transform=\"matrix(1.0, 0.0, 0.0, 1.0, 0.0, 2.05)\"><g><g /><g /><g /></g></g></g></g></g></g><g /></g></g></g></g></svg>"
          },
          "metadata": {},
          "execution_count": 6
        }
      ],
      "source": [
        "# Activations can be moved forward a layer if you have the weights.\n",
        "activations[1] = model.forward(layer=0, inp=activations[0], weight=weights[0])\n",
        "activations[2] = model.forward(layer=1, inp=activations[1], weight=weights[1])\n",
        "activations[1]"
      ]
    },
    {
      "cell_type": "code",
      "execution_count": 7,
      "id": "81d904e3",
      "metadata": {
        "id": "81d904e3",
        "outputId": "ad92aa18-2700-4bd3-9119-2138106cd05a",
        "colab": {
          "base_uri": "https://localhost:8080/",
          "height": 421
        }
      },
      "outputs": [
        {
          "output_type": "execute_result",
          "data": {
            "text/plain": [
              "Compose(envelope=<chalk.envelope.Envelope object at 0x7dd8e5f74910>, diagrams=[Primitive(shape=Path(loc_trails=[Located(trail=Trail(segments=[Segment(offset=Vec2(1.5, 0.0), origin=Vec2(0.0, 0.0)), Segment(offset=Vec2(0.0, 1.05), origin=Vec2(0.0, 0.0)), Segment(offset=Vec2(-1.5, 0.0), origin=Vec2(0.0, 0.0)), Segment(offset=Vec2(0.0, -1.05), origin=Vec2(0.0, 0.0))], closed=True), location=Vec2(0.0, 0.0))]), style=Style(line_width_=(<WidthType.NORMALIZED: 2>, 0.2), line_color_=None, fill_color_=None, fill_opacity_=None, dashing_=None, output_size=None), transform=Affine(1.0, 0.0, -0.75,\n",
              "       0.0, 1.0, 0.0)), Primitive(shape=Path(loc_trails=[Located(trail=Trail(segments=[Segment(offset=Vec2(3.0, 0.0), origin=Vec2(0.0, 0.0)), Segment(offset=Vec2(0.0, 0.0), origin=Vec2(0.0, 0.0)), Segment(offset=Vec2(-3.0, 0.0), origin=Vec2(0.0, 0.0)), Segment(offset=Vec2(0.0, 0.0), origin=Vec2(0.0, 0.0))], closed=True), location=Vec2(0.0, 0.0))]), style=Style(line_width_=(<WidthType.NORMALIZED: 2>, 0.2), line_color_=None, fill_color_=None, fill_opacity_=None, dashing_=None, output_size=None), transform=Affine(1.0, 0.0, -1.5,\n",
              "       0.0, 1.0, 0.0)), ApplyTransform(transform=Affine(1.0, 0.0, 0.0,\n",
              "       0.0, 1.0, 1.05), diagram=ApplyTransform(transform=Affine(0.0, 1.0, 0.0,\n",
              "       -1.0, 0.0, 0.0), diagram=Empty())), ApplyTransform(transform=Affine(1.0, 0.0, 0.0,\n",
              "       0.0, 1.0, 2.05), diagram=Compose(envelope=<chalk.envelope.Envelope object at 0x7dd8e5fd21d0>, diagrams=[Primitive(shape=Path(loc_trails=[Located(trail=Trail(segments=[Segment(offset=Vec2(1.5, 0.0), origin=Vec2(0.0, 0.0)), Segment(offset=Vec2(0.0, 1.05), origin=Vec2(0.0, 0.0)), Segment(offset=Vec2(-1.5, 0.0), origin=Vec2(0.0, 0.0)), Segment(offset=Vec2(0.0, -1.05), origin=Vec2(0.0, 0.0))], closed=True), location=Vec2(0.0, 0.0))]), style=Style(line_width_=(<WidthType.NORMALIZED: 2>, 0.2), line_color_=None, fill_color_=None, fill_opacity_=None, dashing_=None, output_size=None), transform=Affine(1.0, 0.0, -0.75,\n",
              "       0.0, 1.0, 0.0)), Primitive(shape=Path(loc_trails=[Located(trail=Trail(segments=[Segment(offset=Vec2(3.0, 0.0), origin=Vec2(0.0, 0.0)), Segment(offset=Vec2(0.0, 1.0), origin=Vec2(0.0, 0.0)), Segment(offset=Vec2(-3.0, 0.0), origin=Vec2(0.0, 0.0)), Segment(offset=Vec2(0.0, -1.0), origin=Vec2(0.0, 0.0))], closed=True), location=Vec2(0.0, 0.0))]), style=Style(line_width_=(<WidthType.NORMALIZED: 2>, 0.2), line_color_=None, fill_color_=None, fill_opacity_=None, dashing_=None, output_size=None), transform=Affine(1.0, 0.0, -1.5,\n",
              "       0.0, 1.0, -1.0)), ApplyTransform(transform=Affine(1.0, 0.0, 0.0,\n",
              "       0.0, 1.0, 1.05), diagram=ApplyTransform(transform=Affine(0.0, 1.0, 0.0,\n",
              "       -1.0, 0.0, 0.0), diagram=Empty())), ApplyTransform(transform=Affine(1.0, 0.0, 0.0,\n",
              "       0.0, 1.0, 2.05), diagram=Compose(envelope=<chalk.envelope.Envelope object at 0x7dd8e5fc3c70>, diagrams=[Primitive(shape=Path(loc_trails=[Located(trail=Trail(segments=[Segment(offset=Vec2(1.5, 0.0), origin=Vec2(0.0, 0.0)), Segment(offset=Vec2(0.0, 1.05), origin=Vec2(0.0, 0.0)), Segment(offset=Vec2(-1.5, 0.0), origin=Vec2(0.0, 0.0)), Segment(offset=Vec2(0.0, -1.05), origin=Vec2(0.0, 0.0))], closed=True), location=Vec2(0.0, 0.0))]), style=Style(line_width_=(<WidthType.NORMALIZED: 2>, 0.2), line_color_=None, fill_color_=None, fill_opacity_=None, dashing_=None, output_size=None), transform=Affine(1.0, 0.0, -0.75,\n",
              "       0.0, 1.0, 0.0)), Primitive(shape=Path(loc_trails=[Located(trail=Trail(segments=[Segment(offset=Vec2(3.0, 0.0), origin=Vec2(0.0, 0.0)), Segment(offset=Vec2(0.0, 1.0), origin=Vec2(0.0, 0.0)), Segment(offset=Vec2(-3.0, 0.0), origin=Vec2(0.0, 0.0)), Segment(offset=Vec2(0.0, -1.0), origin=Vec2(0.0, 0.0))], closed=True), location=Vec2(0.0, 0.0))]), style=Style(line_width_=(<WidthType.NORMALIZED: 2>, 0.2), line_color_=None, fill_color_=None, fill_opacity_=None, dashing_=None, output_size=None), transform=Affine(1.0, 0.0, -1.5,\n",
              "       0.0, 1.0, -1.0))]))])), Empty(), Empty(), Empty(), ApplyTransform(transform=Affine(1.0, 0.0, 0.0,\n",
              "       0.0, 1.0, 1.05), diagram=ApplyTransform(transform=Affine(0.0, 1.0, 0.0,\n",
              "       -1.0, 0.0, 0.0), diagram=Empty())), ApplyTransform(transform=Affine(1.0, 0.0, 0.0,\n",
              "       0.0, 1.0, 2.05), diagram=Compose(envelope=<chalk.envelope.Envelope object at 0x7dd8e5fdc1f0>, diagrams=[Empty(), Empty(), Empty(), ApplyTransform(transform=Affine(1.0, 0.0, 0.0,\n",
              "       0.0, 1.0, 1.05), diagram=ApplyTransform(transform=Affine(0.0, 1.0, 0.0,\n",
              "       -1.0, 0.0, 0.0), diagram=Empty())), ApplyTransform(transform=Affine(1.0, 0.0, 0.0,\n",
              "       0.0, 1.0, 2.05), diagram=Compose(envelope=<chalk.envelope.Envelope object at 0x7dd8e4b419f0>, diagrams=[ApplyStyle(style=Style(line_width_=None, line_color_=None, fill_color_=None, fill_opacity_=1, dashing_=None, output_size=None), diagram=ApplyStyle(style=Style(line_width_=None, line_color_=None, fill_color_=<Color green>, fill_opacity_=None, dashing_=None, output_size=None), diagram=ApplyTransform(transform=Affine(1.0, 0.0, 0.0,\n",
              "       0.0, 1.0, 0.025), diagram=ApplyTransform(transform=Affine(1.0, 0.0, 0.0,\n",
              "       0.0, 1.0, 0.5), diagram=Compose(envelope=<chalk.envelope.Envelope object at 0x7dd8e5fdd2d0>, diagrams=[Primitive(shape=Path(loc_trails=[Located(trail=Trail(segments=[Segment(offset=Vec2(0.375, 0.0), origin=Vec2(0.0, 0.0)), Segment(offset=Vec2(0.0, 1.0), origin=Vec2(0.0, 0.0)), Segment(offset=Vec2(-0.375, 0.0), origin=Vec2(0.0, 0.0)), Segment(offset=Vec2(0.0, -1.0), origin=Vec2(0.0, 0.0))], closed=True), location=Vec2(0.0, 0.0))]), style=Style(line_width_=(<WidthType.NORMALIZED: 2>, 0.01), line_color_=<Color white>, fill_color_=None, fill_opacity_=None, dashing_=None, output_size=None), transform=Affine(1.0, 0.0, 0.0,\n",
              "       0.0, 1.0, -0.5)), Primitive(shape=Path(loc_trails=[Located(trail=Trail(segments=[Segment(offset=Vec2(0.375, 0.0), origin=Vec2(0.0, 0.0)), Segment(offset=Vec2(0.0, 1.0), origin=Vec2(0.0, 0.0)), Segment(offset=Vec2(-0.375, 0.0), origin=Vec2(0.0, 0.0)), Segment(offset=Vec2(0.0, -1.0), origin=Vec2(0.0, 0.0))], closed=True), location=Vec2(0.0, 0.0))]), style=Style(line_width_=(<WidthType.NORMALIZED: 2>, 0.01), line_color_=<Color white>, fill_color_=None, fill_opacity_=None, dashing_=None, output_size=None), transform=Affine(1.0, 0.0, 0.375,\n",
              "       0.0, 1.0, -0.5))]))))), Empty(), Empty()]))])), Empty(), Empty(), Empty(), ApplyTransform(transform=Affine(1.0, 0.0, 0.0,\n",
              "       0.0, 1.0, 1.05), diagram=ApplyTransform(transform=Affine(0.0, 1.0, 0.0,\n",
              "       -1.0, 0.0, 0.0), diagram=Empty())), ApplyTransform(transform=Affine(1.0, 0.0, 0.0,\n",
              "       0.0, 1.0, 2.05), diagram=Compose(envelope=<chalk.envelope.Envelope object at 0x7dd8e4b52380>, diagrams=[ApplyStyle(style=Style(line_width_=None, line_color_=None, fill_color_=None, fill_opacity_=1, dashing_=None, output_size=None), diagram=ApplyStyle(style=Style(line_width_=None, line_color_=None, fill_color_=<Color #bfbf00>, fill_opacity_=None, dashing_=None, output_size=None), diagram=ApplyTransform(transform=Affine(1.0, 0.0, 0.0,\n",
              "       0.0, 1.0, 0.025), diagram=ApplyTransform(transform=Affine(1.0, 0.0, 0.0,\n",
              "       0.0, 1.0, 0.5), diagram=Compose(envelope=<chalk.envelope.Envelope object at 0x7dd8e4b5cb20>, diagrams=[Primitive(shape=Path(loc_trails=[Located(trail=Trail(segments=[Segment(offset=Vec2(0.375, 0.0), origin=Vec2(0.0, 0.0)), Segment(offset=Vec2(0.0, 1.0), origin=Vec2(0.0, 0.0)), Segment(offset=Vec2(-0.375, 0.0), origin=Vec2(0.0, 0.0)), Segment(offset=Vec2(0.0, -1.0), origin=Vec2(0.0, 0.0))], closed=True), location=Vec2(0.0, 0.0))]), style=Style(line_width_=(<WidthType.NORMALIZED: 2>, 0.01), line_color_=<Color white>, fill_color_=None, fill_opacity_=None, dashing_=None, output_size=None), transform=Affine(1.0, 0.0, 0.0,\n",
              "       0.0, 1.0, -0.5)), Primitive(shape=Path(loc_trails=[Located(trail=Trail(segments=[Segment(offset=Vec2(0.375, 0.0), origin=Vec2(0.0, 0.0)), Segment(offset=Vec2(0.0, 1.0), origin=Vec2(0.0, 0.0)), Segment(offset=Vec2(-0.375, 0.0), origin=Vec2(0.0, 0.0)), Segment(offset=Vec2(0.0, -1.0), origin=Vec2(0.0, 0.0))], closed=True), location=Vec2(0.0, 0.0))]), style=Style(line_width_=(<WidthType.NORMALIZED: 2>, 0.01), line_color_=<Color white>, fill_color_=None, fill_opacity_=None, dashing_=None, output_size=None), transform=Affine(1.0, 0.0, 0.375,\n",
              "       0.0, 1.0, -0.5))]))))), Empty(), Empty(), ApplyTransform(transform=Affine(1.0, 0.0, 0.0,\n",
              "       0.0, 1.0, 1.05), diagram=ApplyTransform(transform=Affine(0.0, 1.0, 0.0,\n",
              "       -1.0, 0.0, 0.0), diagram=Empty())), ApplyTransform(transform=Affine(1.0, 0.0, 0.0,\n",
              "       0.0, 1.0, 2.05), diagram=Compose(envelope=<chalk.envelope.Envelope object at 0x7dd8e4b51d20>, diagrams=[Empty(), Empty(), Empty()]))])), ApplyStyle(style=Style(line_width_=None, line_color_=None, fill_color_=None, fill_opacity_=1, dashing_=None, output_size=None), diagram=ApplyStyle(style=Style(line_width_=None, line_color_=None, fill_color_=<Color red>, fill_opacity_=None, dashing_=None, output_size=None), diagram=ApplyTransform(transform=Affine(1.0, 0.0, 0.0,\n",
              "       0.0, 1.0, 0.025), diagram=ApplyTransform(transform=Affine(1.0, 0.0, 0.0,\n",
              "       0.0, 1.0, 0.5), diagram=Compose(envelope=<chalk.envelope.Envelope object at 0x7dd8e4b7e170>, diagrams=[Primitive(shape=Path(loc_trails=[Located(trail=Trail(segments=[Segment(offset=Vec2(0.375, 0.0), origin=Vec2(0.0, 0.0)), Segment(offset=Vec2(0.0, 1.0), origin=Vec2(0.0, 0.0)), Segment(offset=Vec2(-0.375, 0.0), origin=Vec2(0.0, 0.0)), Segment(offset=Vec2(0.0, -1.0), origin=Vec2(0.0, 0.0))], closed=True), location=Vec2(0.0, 0.0))]), style=Style(line_width_=(<WidthType.NORMALIZED: 2>, 0.01), line_color_=<Color white>, fill_color_=None, fill_opacity_=None, dashing_=None, output_size=None), transform=Affine(1.0, 0.0, 0.0,\n",
              "       0.0, 1.0, -0.5)), Primitive(shape=Path(loc_trails=[Located(trail=Trail(segments=[Segment(offset=Vec2(0.375, 0.0), origin=Vec2(0.0, 0.0)), Segment(offset=Vec2(0.0, 1.0), origin=Vec2(0.0, 0.0)), Segment(offset=Vec2(-0.375, 0.0), origin=Vec2(0.0, 0.0)), Segment(offset=Vec2(0.0, -1.0), origin=Vec2(0.0, 0.0))], closed=True), location=Vec2(0.0, 0.0))]), style=Style(line_width_=(<WidthType.NORMALIZED: 2>, 0.01), line_color_=<Color white>, fill_color_=None, fill_opacity_=None, dashing_=None, output_size=None), transform=Affine(1.0, 0.0, 0.375,\n",
              "       0.0, 1.0, -0.5))]))))), Empty(), Empty(), ApplyTransform(transform=Affine(1.0, 0.0, 0.0,\n",
              "       0.0, 1.0, 1.05), diagram=ApplyTransform(transform=Affine(0.0, 1.0, 0.0,\n",
              "       -1.0, 0.0, 0.0), diagram=Empty())), ApplyTransform(transform=Affine(1.0, 0.0, 0.0,\n",
              "       0.0, 1.0, 2.05), diagram=Compose(envelope=<chalk.envelope.Envelope object at 0x7dd8e4b6bb80>, diagrams=[Empty(), Empty(), Empty(), ApplyTransform(transform=Affine(1.0, 0.0, 0.0,\n",
              "       0.0, 1.0, 1.05), diagram=ApplyTransform(transform=Affine(0.0, 1.0, 0.0,\n",
              "       -1.0, 0.0, 0.0), diagram=Empty())), ApplyTransform(transform=Affine(1.0, 0.0, 0.0,\n",
              "       0.0, 1.0, 2.05), diagram=Compose(envelope=<chalk.envelope.Envelope object at 0x7dd8e4b6a260>, diagrams=[Empty(), Empty(), Empty()]))]))])"
            ],
            "text/html": [
              "<?xml version=\"1.0\" encoding=\"utf-8\" ?>\n",
              "<svg baseProfile=\"full\" height=\"400\" version=\"1.1\" width=\"233\" xmlns=\"http://www.w3.org/2000/svg\" xmlns:ev=\"http://www.w3.org/2001/xml-events\" xmlns:xlink=\"http://www.w3.org/1999/xlink\"><defs><marker id=\"arrow\" markerHeight=\"3.5\" markerWidth=\"5\" orient=\"auto\" refX=\"5.0\" refY=\"1.7\"><polygon points=\"0,0 5,1.75 0,3.5\" /></marker></defs><g style=\"fill:white;\"><g transform=\"matrix(1.0, 0.0, 0.0, 1.0, 116.50000000000001, 199.99166666666667)\"><g transform=\"matrix(73.96825396825396, 0.0, 0.0, 73.96825396825396, 0.0, 0.0)\"><g><g transform=\"matrix(1.0, 0.0, 0.0, 1.0, -0.0, -2.5749999999999997)\"><g><g style=\"stroke: black;stroke-width: 3.6;\" transform=\"matrix(1.0, 0.0, 0.0, 1.0, -0.75, 0.0)\"><path d=\"M 0.0 0.0 L 1.5 0.0 L 1.5 1.05 L 0.0 1.05 L 0.0 0.0 Z\" style=\"vector-effect: non-scaling-stroke;\" /></g><g style=\"stroke: black;stroke-width: 3.6;\" transform=\"matrix(1.0, 0.0, 0.0, 1.0, -1.5, 0.0)\"><path d=\"M 0.0 0.0 L 3.0 0.0 L 3.0 0.0 L 0.0 0.0 L 0.0 0.0 Z\" style=\"vector-effect: non-scaling-stroke;\" /></g><g transform=\"matrix(1.0, 0.0, 0.0, 1.0, 0.0, 1.05)\"><g transform=\"matrix(0.0, -1.0, 1.0, 0.0, 0.0, 0.0)\"><g /></g></g><g transform=\"matrix(1.0, 0.0, 0.0, 1.0, 0.0, 2.05)\"><g><g style=\"stroke: black;stroke-width: 3.6;\" transform=\"matrix(1.0, 0.0, 0.0, 1.0, -0.75, 0.0)\"><path d=\"M 0.0 0.0 L 1.5 0.0 L 1.5 1.05 L 0.0 1.05 L 0.0 0.0 Z\" style=\"vector-effect: non-scaling-stroke;\" /></g><g style=\"stroke: black;stroke-width: 3.6;\" transform=\"matrix(1.0, 0.0, 0.0, 1.0, -1.5, -1.0)\"><path d=\"M 0.0 0.0 L 3.0 0.0 L 3.0 1.0 L 0.0 1.0 L 0.0 0.0 Z\" style=\"vector-effect: non-scaling-stroke;\" /></g><g transform=\"matrix(1.0, 0.0, 0.0, 1.0, 0.0, 1.05)\"><g transform=\"matrix(0.0, -1.0, 1.0, 0.0, 0.0, 0.0)\"><g /></g></g><g transform=\"matrix(1.0, 0.0, 0.0, 1.0, 0.0, 2.05)\"><g><g style=\"stroke: black;stroke-width: 3.6;\" transform=\"matrix(1.0, 0.0, 0.0, 1.0, -0.75, 0.0)\"><path d=\"M 0.0 0.0 L 1.5 0.0 L 1.5 1.05 L 0.0 1.05 L 0.0 0.0 Z\" style=\"vector-effect: non-scaling-stroke;\" /></g><g style=\"stroke: black;stroke-width: 3.6;\" transform=\"matrix(1.0, 0.0, 0.0, 1.0, -1.5, -1.0)\"><path d=\"M 0.0 0.0 L 3.0 0.0 L 3.0 1.0 L 0.0 1.0 L 0.0 0.0 Z\" style=\"vector-effect: non-scaling-stroke;\" /></g></g></g></g></g><g /><g /><g /><g transform=\"matrix(1.0, 0.0, 0.0, 1.0, 0.0, 1.05)\"><g transform=\"matrix(0.0, -1.0, 1.0, 0.0, 0.0, 0.0)\"><g /></g></g><g transform=\"matrix(1.0, 0.0, 0.0, 1.0, 0.0, 2.05)\"><g><g /><g /><g /><g transform=\"matrix(1.0, 0.0, 0.0, 1.0, 0.0, 1.05)\"><g transform=\"matrix(0.0, -1.0, 1.0, 0.0, 0.0, 0.0)\"><g /></g></g><g transform=\"matrix(1.0, 0.0, 0.0, 1.0, 0.0, 2.05)\"><g><g transform=\"matrix(1.0, 0.0, 0.0, 1.0, 0.0, 0.025)\"><g transform=\"matrix(1.0, 0.0, 0.0, 1.0, 0.0, 0.5)\"><g><g style=\"fill: #008000;stroke: #ffffff;stroke-width: 0.18;fill-opacity: 1;\" transform=\"matrix(1.0, 0.0, 0.0, 1.0, 0.0, -0.5)\"><path d=\"M 0.0 0.0 L 0.375 0.0 L 0.375 1.0 L 0.0 1.0 L 0.0 0.0 Z\" style=\"vector-effect: non-scaling-stroke;\" /></g><g style=\"fill: #008000;stroke: #ffffff;stroke-width: 0.18;fill-opacity: 1;\" transform=\"matrix(1.0, 0.0, 0.0, 1.0, 0.375, -0.5)\"><path d=\"M 0.0 0.0 L 0.375 0.0 L 0.375 1.0 L 0.0 1.0 L 0.0 0.0 Z\" style=\"vector-effect: non-scaling-stroke;\" /></g></g></g></g><g /><g /></g></g></g></g><g /><g /><g /><g transform=\"matrix(1.0, 0.0, 0.0, 1.0, 0.0, 1.05)\"><g transform=\"matrix(0.0, -1.0, 1.0, 0.0, 0.0, 0.0)\"><g /></g></g><g transform=\"matrix(1.0, 0.0, 0.0, 1.0, 0.0, 2.05)\"><g><g transform=\"matrix(1.0, 0.0, 0.0, 1.0, 0.0, 0.025)\"><g transform=\"matrix(1.0, 0.0, 0.0, 1.0, 0.0, 0.5)\"><g><g style=\"fill: #bfbf00;stroke: #ffffff;stroke-width: 0.18;fill-opacity: 1;\" transform=\"matrix(1.0, 0.0, 0.0, 1.0, 0.0, -0.5)\"><path d=\"M 0.0 0.0 L 0.375 0.0 L 0.375 1.0 L 0.0 1.0 L 0.0 0.0 Z\" style=\"vector-effect: non-scaling-stroke;\" /></g><g style=\"fill: #bfbf00;stroke: #ffffff;stroke-width: 0.18;fill-opacity: 1;\" transform=\"matrix(1.0, 0.0, 0.0, 1.0, 0.375, -0.5)\"><path d=\"M 0.0 0.0 L 0.375 0.0 L 0.375 1.0 L 0.0 1.0 L 0.0 0.0 Z\" style=\"vector-effect: non-scaling-stroke;\" /></g></g></g></g><g /><g /><g transform=\"matrix(1.0, 0.0, 0.0, 1.0, 0.0, 1.05)\"><g transform=\"matrix(0.0, -1.0, 1.0, 0.0, 0.0, 0.0)\"><g /></g></g><g transform=\"matrix(1.0, 0.0, 0.0, 1.0, 0.0, 2.05)\"><g><g /><g /><g /></g></g></g></g><g transform=\"matrix(1.0, 0.0, 0.0, 1.0, 0.0, 0.025)\"><g transform=\"matrix(1.0, 0.0, 0.0, 1.0, 0.0, 0.5)\"><g><g style=\"fill: #ff0000;stroke: #ffffff;stroke-width: 0.18;fill-opacity: 1;\" transform=\"matrix(1.0, 0.0, 0.0, 1.0, 0.0, -0.5)\"><path d=\"M 0.0 0.0 L 0.375 0.0 L 0.375 1.0 L 0.0 1.0 L 0.0 0.0 Z\" style=\"vector-effect: non-scaling-stroke;\" /></g><g style=\"fill: #ff0000;stroke: #ffffff;stroke-width: 0.18;fill-opacity: 1;\" transform=\"matrix(1.0, 0.0, 0.0, 1.0, 0.375, -0.5)\"><path d=\"M 0.0 0.0 L 0.375 0.0 L 0.375 1.0 L 0.0 1.0 L 0.0 0.0 Z\" style=\"vector-effect: non-scaling-stroke;\" /></g></g></g></g><g /><g /><g transform=\"matrix(1.0, 0.0, 0.0, 1.0, 0.0, 1.05)\"><g transform=\"matrix(0.0, -1.0, 1.0, 0.0, 0.0, 0.0)\"><g /></g></g><g transform=\"matrix(1.0, 0.0, 0.0, 1.0, 0.0, 2.05)\"><g><g /><g /><g /><g transform=\"matrix(1.0, 0.0, 0.0, 1.0, 0.0, 1.05)\"><g transform=\"matrix(0.0, -1.0, 1.0, 0.0, 0.0, 0.0)\"><g /></g></g><g transform=\"matrix(1.0, 0.0, 0.0, 1.0, 0.0, 2.05)\"><g><g /><g /><g /></g></g></g></g></g></g><g /></g></g></g></g></svg>"
            ],
            "image/svg+xml": "<?xml version=\"1.0\" encoding=\"utf-8\" ?>\n<svg baseProfile=\"full\" height=\"400\" version=\"1.1\" width=\"233\" xmlns=\"http://www.w3.org/2000/svg\" xmlns:ev=\"http://www.w3.org/2001/xml-events\" xmlns:xlink=\"http://www.w3.org/1999/xlink\"><defs><marker id=\"arrow\" markerHeight=\"3.5\" markerWidth=\"5\" orient=\"auto\" refX=\"5.0\" refY=\"1.7\"><polygon points=\"0,0 5,1.75 0,3.5\" /></marker></defs><g style=\"fill:white;\"><g transform=\"matrix(1.0, 0.0, 0.0, 1.0, 116.50000000000001, 199.99166666666667)\"><g transform=\"matrix(73.96825396825396, 0.0, 0.0, 73.96825396825396, 0.0, 0.0)\"><g><g transform=\"matrix(1.0, 0.0, 0.0, 1.0, -0.0, -2.5749999999999997)\"><g><g style=\"stroke: black;stroke-width: 3.6;\" transform=\"matrix(1.0, 0.0, 0.0, 1.0, -0.75, 0.0)\"><path d=\"M 0.0 0.0 L 1.5 0.0 L 1.5 1.05 L 0.0 1.05 L 0.0 0.0 Z\" style=\"vector-effect: non-scaling-stroke;\" /></g><g style=\"stroke: black;stroke-width: 3.6;\" transform=\"matrix(1.0, 0.0, 0.0, 1.0, -1.5, 0.0)\"><path d=\"M 0.0 0.0 L 3.0 0.0 L 3.0 0.0 L 0.0 0.0 L 0.0 0.0 Z\" style=\"vector-effect: non-scaling-stroke;\" /></g><g transform=\"matrix(1.0, 0.0, 0.0, 1.0, 0.0, 1.05)\"><g transform=\"matrix(0.0, -1.0, 1.0, 0.0, 0.0, 0.0)\"><g /></g></g><g transform=\"matrix(1.0, 0.0, 0.0, 1.0, 0.0, 2.05)\"><g><g style=\"stroke: black;stroke-width: 3.6;\" transform=\"matrix(1.0, 0.0, 0.0, 1.0, -0.75, 0.0)\"><path d=\"M 0.0 0.0 L 1.5 0.0 L 1.5 1.05 L 0.0 1.05 L 0.0 0.0 Z\" style=\"vector-effect: non-scaling-stroke;\" /></g><g style=\"stroke: black;stroke-width: 3.6;\" transform=\"matrix(1.0, 0.0, 0.0, 1.0, -1.5, -1.0)\"><path d=\"M 0.0 0.0 L 3.0 0.0 L 3.0 1.0 L 0.0 1.0 L 0.0 0.0 Z\" style=\"vector-effect: non-scaling-stroke;\" /></g><g transform=\"matrix(1.0, 0.0, 0.0, 1.0, 0.0, 1.05)\"><g transform=\"matrix(0.0, -1.0, 1.0, 0.0, 0.0, 0.0)\"><g /></g></g><g transform=\"matrix(1.0, 0.0, 0.0, 1.0, 0.0, 2.05)\"><g><g style=\"stroke: black;stroke-width: 3.6;\" transform=\"matrix(1.0, 0.0, 0.0, 1.0, -0.75, 0.0)\"><path d=\"M 0.0 0.0 L 1.5 0.0 L 1.5 1.05 L 0.0 1.05 L 0.0 0.0 Z\" style=\"vector-effect: non-scaling-stroke;\" /></g><g style=\"stroke: black;stroke-width: 3.6;\" transform=\"matrix(1.0, 0.0, 0.0, 1.0, -1.5, -1.0)\"><path d=\"M 0.0 0.0 L 3.0 0.0 L 3.0 1.0 L 0.0 1.0 L 0.0 0.0 Z\" style=\"vector-effect: non-scaling-stroke;\" /></g></g></g></g></g><g /><g /><g /><g transform=\"matrix(1.0, 0.0, 0.0, 1.0, 0.0, 1.05)\"><g transform=\"matrix(0.0, -1.0, 1.0, 0.0, 0.0, 0.0)\"><g /></g></g><g transform=\"matrix(1.0, 0.0, 0.0, 1.0, 0.0, 2.05)\"><g><g /><g /><g /><g transform=\"matrix(1.0, 0.0, 0.0, 1.0, 0.0, 1.05)\"><g transform=\"matrix(0.0, -1.0, 1.0, 0.0, 0.0, 0.0)\"><g /></g></g><g transform=\"matrix(1.0, 0.0, 0.0, 1.0, 0.0, 2.05)\"><g><g transform=\"matrix(1.0, 0.0, 0.0, 1.0, 0.0, 0.025)\"><g transform=\"matrix(1.0, 0.0, 0.0, 1.0, 0.0, 0.5)\"><g><g style=\"fill: #008000;stroke: #ffffff;stroke-width: 0.18;fill-opacity: 1;\" transform=\"matrix(1.0, 0.0, 0.0, 1.0, 0.0, -0.5)\"><path d=\"M 0.0 0.0 L 0.375 0.0 L 0.375 1.0 L 0.0 1.0 L 0.0 0.0 Z\" style=\"vector-effect: non-scaling-stroke;\" /></g><g style=\"fill: #008000;stroke: #ffffff;stroke-width: 0.18;fill-opacity: 1;\" transform=\"matrix(1.0, 0.0, 0.0, 1.0, 0.375, -0.5)\"><path d=\"M 0.0 0.0 L 0.375 0.0 L 0.375 1.0 L 0.0 1.0 L 0.0 0.0 Z\" style=\"vector-effect: non-scaling-stroke;\" /></g></g></g></g><g /><g /></g></g></g></g><g /><g /><g /><g transform=\"matrix(1.0, 0.0, 0.0, 1.0, 0.0, 1.05)\"><g transform=\"matrix(0.0, -1.0, 1.0, 0.0, 0.0, 0.0)\"><g /></g></g><g transform=\"matrix(1.0, 0.0, 0.0, 1.0, 0.0, 2.05)\"><g><g transform=\"matrix(1.0, 0.0, 0.0, 1.0, 0.0, 0.025)\"><g transform=\"matrix(1.0, 0.0, 0.0, 1.0, 0.0, 0.5)\"><g><g style=\"fill: #bfbf00;stroke: #ffffff;stroke-width: 0.18;fill-opacity: 1;\" transform=\"matrix(1.0, 0.0, 0.0, 1.0, 0.0, -0.5)\"><path d=\"M 0.0 0.0 L 0.375 0.0 L 0.375 1.0 L 0.0 1.0 L 0.0 0.0 Z\" style=\"vector-effect: non-scaling-stroke;\" /></g><g style=\"fill: #bfbf00;stroke: #ffffff;stroke-width: 0.18;fill-opacity: 1;\" transform=\"matrix(1.0, 0.0, 0.0, 1.0, 0.375, -0.5)\"><path d=\"M 0.0 0.0 L 0.375 0.0 L 0.375 1.0 L 0.0 1.0 L 0.0 0.0 Z\" style=\"vector-effect: non-scaling-stroke;\" /></g></g></g></g><g /><g /><g transform=\"matrix(1.0, 0.0, 0.0, 1.0, 0.0, 1.05)\"><g transform=\"matrix(0.0, -1.0, 1.0, 0.0, 0.0, 0.0)\"><g /></g></g><g transform=\"matrix(1.0, 0.0, 0.0, 1.0, 0.0, 2.05)\"><g><g /><g /><g /></g></g></g></g><g transform=\"matrix(1.0, 0.0, 0.0, 1.0, 0.0, 0.025)\"><g transform=\"matrix(1.0, 0.0, 0.0, 1.0, 0.0, 0.5)\"><g><g style=\"fill: #ff0000;stroke: #ffffff;stroke-width: 0.18;fill-opacity: 1;\" transform=\"matrix(1.0, 0.0, 0.0, 1.0, 0.0, -0.5)\"><path d=\"M 0.0 0.0 L 0.375 0.0 L 0.375 1.0 L 0.0 1.0 L 0.0 0.0 Z\" style=\"vector-effect: non-scaling-stroke;\" /></g><g style=\"fill: #ff0000;stroke: #ffffff;stroke-width: 0.18;fill-opacity: 1;\" transform=\"matrix(1.0, 0.0, 0.0, 1.0, 0.375, -0.5)\"><path d=\"M 0.0 0.0 L 0.375 0.0 L 0.375 1.0 L 0.0 1.0 L 0.0 0.0 Z\" style=\"vector-effect: non-scaling-stroke;\" /></g></g></g></g><g /><g /><g transform=\"matrix(1.0, 0.0, 0.0, 1.0, 0.0, 1.05)\"><g transform=\"matrix(0.0, -1.0, 1.0, 0.0, 0.0, 0.0)\"><g /></g></g><g transform=\"matrix(1.0, 0.0, 0.0, 1.0, 0.0, 2.05)\"><g><g /><g /><g /><g transform=\"matrix(1.0, 0.0, 0.0, 1.0, 0.0, 1.05)\"><g transform=\"matrix(0.0, -1.0, 1.0, 0.0, 0.0, 0.0)\"><g /></g></g><g transform=\"matrix(1.0, 0.0, 0.0, 1.0, 0.0, 2.05)\"><g><g /><g /><g /></g></g></g></g></g></g><g /></g></g></g></g></svg>"
          },
          "metadata": {},
          "execution_count": 7
        }
      ],
      "source": [
        "# Draw all the current activations in memory.\n",
        "draw_group(activations)"
      ]
    },
    {
      "cell_type": "code",
      "execution_count": 9,
      "id": "80e8769a",
      "metadata": {
        "id": "80e8769a",
        "outputId": "0f6774eb-746b-4ea7-f43e-a2ba5ce1758f",
        "colab": {
          "base_uri": "https://localhost:8080/",
          "height": 421
        }
      },
      "outputs": [
        {
          "output_type": "execute_result",
          "data": {
            "text/plain": [
              "ActivationGrad(layer=1, layers=2, batches=frozenset({2, 3}), total_batches=4)"
            ],
            "image/svg+xml": "<?xml version=\"1.0\" encoding=\"utf-8\" ?>\n<svg baseProfile=\"full\" height=\"400\" version=\"1.1\" width=\"233\" xmlns=\"http://www.w3.org/2000/svg\" xmlns:ev=\"http://www.w3.org/2001/xml-events\" xmlns:xlink=\"http://www.w3.org/1999/xlink\"><defs><marker id=\"arrow\" markerHeight=\"3.5\" markerWidth=\"5\" orient=\"auto\" refX=\"5.0\" refY=\"1.7\"><polygon points=\"0,0 5,1.75 0,3.5\" /></marker></defs><g style=\"fill:white;\"><g transform=\"matrix(1.0, 0.0, 0.0, 1.0, 116.50000000000001, 199.99166666666667)\"><g transform=\"matrix(73.96825396825396, 0.0, 0.0, 73.96825396825396, 0.0, 0.0)\"><g><g transform=\"matrix(1.0, 0.0, 0.0, 1.0, -0.0, -2.5749999999999997)\"><g><g style=\"stroke: black;stroke-width: 3.6;\" transform=\"matrix(1.0, 0.0, 0.0, 1.0, -0.75, 0.0)\"><path d=\"M 0.0 0.0 L 1.5 0.0 L 1.5 1.05 L 0.0 1.05 L 0.0 0.0 Z\" style=\"vector-effect: non-scaling-stroke;\" /></g><g style=\"stroke: black;stroke-width: 3.6;\" transform=\"matrix(1.0, 0.0, 0.0, 1.0, -1.5, 0.0)\"><path d=\"M 0.0 0.0 L 3.0 0.0 L 3.0 0.0 L 0.0 0.0 L 0.0 0.0 Z\" style=\"vector-effect: non-scaling-stroke;\" /></g><g transform=\"matrix(1.0, 0.0, 0.0, 1.0, 0.0, 1.05)\"><g transform=\"matrix(0.0, -1.0, 1.0, 0.0, 0.0, 0.0)\"><g /></g></g><g transform=\"matrix(1.0, 0.0, 0.0, 1.0, 0.0, 2.05)\"><g><g style=\"stroke: black;stroke-width: 3.6;\" transform=\"matrix(1.0, 0.0, 0.0, 1.0, -0.75, 0.0)\"><path d=\"M 0.0 0.0 L 1.5 0.0 L 1.5 1.05 L 0.0 1.05 L 0.0 0.0 Z\" style=\"vector-effect: non-scaling-stroke;\" /></g><g style=\"stroke: black;stroke-width: 3.6;\" transform=\"matrix(1.0, 0.0, 0.0, 1.0, -1.5, -1.0)\"><path d=\"M 0.0 0.0 L 3.0 0.0 L 3.0 1.0 L 0.0 1.0 L 0.0 0.0 Z\" style=\"vector-effect: non-scaling-stroke;\" /></g><g transform=\"matrix(1.0, 0.0, 0.0, 1.0, 0.0, 1.05)\"><g transform=\"matrix(0.0, -1.0, 1.0, 0.0, 0.0, 0.0)\"><g /></g></g><g transform=\"matrix(1.0, 0.0, 0.0, 1.0, 0.0, 2.05)\"><g><g style=\"stroke: black;stroke-width: 3.6;\" transform=\"matrix(1.0, 0.0, 0.0, 1.0, -0.75, 0.0)\"><path d=\"M 0.0 0.0 L 1.5 0.0 L 1.5 1.05 L 0.0 1.05 L 0.0 0.0 Z\" style=\"vector-effect: non-scaling-stroke;\" /></g><g style=\"stroke: black;stroke-width: 3.6;\" transform=\"matrix(1.0, 0.0, 0.0, 1.0, -1.5, -1.0)\"><path d=\"M 0.0 0.0 L 3.0 0.0 L 3.0 1.0 L 0.0 1.0 L 0.0 0.0 Z\" style=\"vector-effect: non-scaling-stroke;\" /></g></g></g></g></g><g transform=\"matrix(1.0, 0.0, 0.0, 1.0, 0.0, 0.025)\"><g transform=\"matrix(1.0, 0.0, 0.0, 1.0, 0.0, 0.5)\"><g><g style=\"fill: #ff0000;stroke: #ffffff;stroke-width: 0.18;fill-opacity: 0.5;\" transform=\"matrix(1.0, 0.0, 0.0, 1.0, 0.0, -0.5)\"><path d=\"M 0.0 0.0 L 0.375 0.0 L 0.375 1.0 L 0.0 1.0 L 0.0 0.0 Z\" style=\"vector-effect: non-scaling-stroke;\" /></g><g style=\"fill: #ff0000;stroke: #ffffff;stroke-width: 0.18;fill-opacity: 0.5;\" transform=\"matrix(1.0, 0.0, 0.0, 1.0, 0.375, -0.5)\"><path d=\"M 0.0 0.0 L 0.375 0.0 L 0.375 1.0 L 0.0 1.0 L 0.0 0.0 Z\" style=\"vector-effect: non-scaling-stroke;\" /></g></g></g></g><g /><g /><g transform=\"matrix(1.0, 0.0, 0.0, 1.0, 0.0, 1.05)\"><g transform=\"matrix(0.0, -1.0, 1.0, 0.0, 0.0, 0.0)\"><g /></g></g><g transform=\"matrix(1.0, 0.0, 0.0, 1.0, 0.0, 2.05)\"><g><g /><g /><g /><g transform=\"matrix(1.0, 0.0, 0.0, 1.0, 0.0, 1.05)\"><g transform=\"matrix(0.0, -1.0, 1.0, 0.0, 0.0, 0.0)\"><g /></g></g><g transform=\"matrix(1.0, 0.0, 0.0, 1.0, 0.0, 2.05)\"><g><g /><g /><g /></g></g></g></g></g></g><g /></g></g></g></g></svg>"
          },
          "metadata": {},
          "execution_count": 9
        }
      ],
      "source": [
        "# At the last layer, we can convert an activation to a grad activation by calling `loss`\n",
        "grad_activations[model.LAYERS] = model.loss(activations[model.LAYERS])\n",
        "grad_activations[model.LAYERS]"
      ]
    },
    {
      "cell_type": "code",
      "execution_count": 10,
      "id": "b3299042",
      "metadata": {
        "id": "b3299042",
        "outputId": "b8a46e79-c114-4cf5-cc3d-8d46261d7b15",
        "colab": {
          "base_uri": "https://localhost:8080/",
          "height": 421
        }
      },
      "outputs": [
        {
          "output_type": "execute_result",
          "data": {
            "text/plain": [
              "ActivationGrad(layer=0, layers=2, batches=frozenset({2, 3}), total_batches=4)"
            ],
            "image/svg+xml": "<?xml version=\"1.0\" encoding=\"utf-8\" ?>\n<svg baseProfile=\"full\" height=\"400\" version=\"1.1\" width=\"233\" xmlns=\"http://www.w3.org/2000/svg\" xmlns:ev=\"http://www.w3.org/2001/xml-events\" xmlns:xlink=\"http://www.w3.org/1999/xlink\"><defs><marker id=\"arrow\" markerHeight=\"3.5\" markerWidth=\"5\" orient=\"auto\" refX=\"5.0\" refY=\"1.7\"><polygon points=\"0,0 5,1.75 0,3.5\" /></marker></defs><g style=\"fill:white;\"><g transform=\"matrix(1.0, 0.0, 0.0, 1.0, 116.50000000000001, 199.99166666666667)\"><g transform=\"matrix(73.96825396825396, 0.0, 0.0, 73.96825396825396, 0.0, 0.0)\"><g><g transform=\"matrix(1.0, 0.0, 0.0, 1.0, -0.0, -2.5749999999999997)\"><g><g style=\"stroke: black;stroke-width: 3.6;\" transform=\"matrix(1.0, 0.0, 0.0, 1.0, -0.75, 0.0)\"><path d=\"M 0.0 0.0 L 1.5 0.0 L 1.5 1.05 L 0.0 1.05 L 0.0 0.0 Z\" style=\"vector-effect: non-scaling-stroke;\" /></g><g style=\"stroke: black;stroke-width: 3.6;\" transform=\"matrix(1.0, 0.0, 0.0, 1.0, -1.5, 0.0)\"><path d=\"M 0.0 0.0 L 3.0 0.0 L 3.0 0.0 L 0.0 0.0 L 0.0 0.0 Z\" style=\"vector-effect: non-scaling-stroke;\" /></g><g transform=\"matrix(1.0, 0.0, 0.0, 1.0, 0.0, 1.05)\"><g transform=\"matrix(0.0, -1.0, 1.0, 0.0, 0.0, 0.0)\"><g /></g></g><g transform=\"matrix(1.0, 0.0, 0.0, 1.0, 0.0, 2.05)\"><g><g style=\"stroke: black;stroke-width: 3.6;\" transform=\"matrix(1.0, 0.0, 0.0, 1.0, -0.75, 0.0)\"><path d=\"M 0.0 0.0 L 1.5 0.0 L 1.5 1.05 L 0.0 1.05 L 0.0 0.0 Z\" style=\"vector-effect: non-scaling-stroke;\" /></g><g style=\"stroke: black;stroke-width: 3.6;\" transform=\"matrix(1.0, 0.0, 0.0, 1.0, -1.5, -1.0)\"><path d=\"M 0.0 0.0 L 3.0 0.0 L 3.0 1.0 L 0.0 1.0 L 0.0 0.0 Z\" style=\"vector-effect: non-scaling-stroke;\" /></g><g transform=\"matrix(1.0, 0.0, 0.0, 1.0, 0.0, 1.05)\"><g transform=\"matrix(0.0, -1.0, 1.0, 0.0, 0.0, 0.0)\"><g /></g></g><g transform=\"matrix(1.0, 0.0, 0.0, 1.0, 0.0, 2.05)\"><g><g style=\"stroke: black;stroke-width: 3.6;\" transform=\"matrix(1.0, 0.0, 0.0, 1.0, -0.75, 0.0)\"><path d=\"M 0.0 0.0 L 1.5 0.0 L 1.5 1.05 L 0.0 1.05 L 0.0 0.0 Z\" style=\"vector-effect: non-scaling-stroke;\" /></g><g style=\"stroke: black;stroke-width: 3.6;\" transform=\"matrix(1.0, 0.0, 0.0, 1.0, -1.5, -1.0)\"><path d=\"M 0.0 0.0 L 3.0 0.0 L 3.0 1.0 L 0.0 1.0 L 0.0 0.0 Z\" style=\"vector-effect: non-scaling-stroke;\" /></g></g></g></g></g><g /><g /><g /><g transform=\"matrix(1.0, 0.0, 0.0, 1.0, 0.0, 1.05)\"><g transform=\"matrix(0.0, -1.0, 1.0, 0.0, 0.0, 0.0)\"><g /></g></g><g transform=\"matrix(1.0, 0.0, 0.0, 1.0, 0.0, 2.05)\"><g><g transform=\"matrix(1.0, 0.0, 0.0, 1.0, 0.0, 0.025)\"><g transform=\"matrix(1.0, 0.0, 0.0, 1.0, 0.0, 0.5)\"><g><g style=\"fill: #bfbf00;stroke: #ffffff;stroke-width: 0.18;fill-opacity: 0.5;\" transform=\"matrix(1.0, 0.0, 0.0, 1.0, 0.0, -0.5)\"><path d=\"M 0.0 0.0 L 0.375 0.0 L 0.375 1.0 L 0.0 1.0 L 0.0 0.0 Z\" style=\"vector-effect: non-scaling-stroke;\" /></g><g style=\"fill: #bfbf00;stroke: #ffffff;stroke-width: 0.18;fill-opacity: 0.5;\" transform=\"matrix(1.0, 0.0, 0.0, 1.0, 0.375, -0.5)\"><path d=\"M 0.0 0.0 L 0.375 0.0 L 0.375 1.0 L 0.0 1.0 L 0.0 0.0 Z\" style=\"vector-effect: non-scaling-stroke;\" /></g></g></g></g><g /><g /><g transform=\"matrix(1.0, 0.0, 0.0, 1.0, 0.0, 1.05)\"><g transform=\"matrix(0.0, -1.0, 1.0, 0.0, 0.0, 0.0)\"><g /></g></g><g transform=\"matrix(1.0, 0.0, 0.0, 1.0, 0.0, 2.05)\"><g><g /><g /><g /></g></g></g></g></g></g><g /></g></g></g></g></svg>"
          },
          "metadata": {},
          "execution_count": 10
        }
      ],
      "source": [
        "# Calling `backward` requires the forward activation, the backward grad activation, and the weights.\n",
        "# It returns the grad weights and the backward activation.\n",
        "grad_weights[1], grad_activations[1] = model.backward(1, activations[1], grad_activations[2], weights[1])\n",
        "grad_weights[0], grad_activations[0] = model.backward(0, activations[0], grad_activations[1], weights[0])\n",
        "grad_activations[1]"
      ]
    },
    {
      "cell_type": "code",
      "execution_count": 11,
      "id": "33d82618",
      "metadata": {
        "id": "33d82618",
        "outputId": "05b24906-a2c4-495d-af33-87a33220f52f",
        "colab": {
          "base_uri": "https://localhost:8080/",
          "height": 474
        }
      },
      "outputs": [
        {
          "output_type": "stream",
          "name": "stdout",
          "text": [
            "Before memory: 3145728.0\n",
            "After memory: 2883584.0\n",
            "0 <class 'lib.Weight'>,1 <class 'lib.Weight'>,0 <class 'lib.OptState'>,1 <class 'lib.OptState'>,0 <class 'lib.Activation'>,1 <class 'lib.Activation'>,2 <class 'lib.Activation'>,2 <class 'lib.ActivationGrad'>,0 <class 'lib.ActivationGrad'>,1 <class 'lib.WeightGrad'>,0 <class 'lib.WeightGrad'>,\n"
          ]
        },
        {
          "output_type": "execute_result",
          "data": {
            "text/plain": [
              "Compose(envelope=<chalk.envelope.Envelope object at 0x7dd8e4ba13c0>, diagrams=[Primitive(shape=Path(loc_trails=[Located(trail=Trail(segments=[Segment(offset=Vec2(1.5, 0.0), origin=Vec2(0.0, 0.0)), Segment(offset=Vec2(0.0, 1.05), origin=Vec2(0.0, 0.0)), Segment(offset=Vec2(-1.5, 0.0), origin=Vec2(0.0, 0.0)), Segment(offset=Vec2(0.0, -1.05), origin=Vec2(0.0, 0.0))], closed=True), location=Vec2(0.0, 0.0))]), style=Style(line_width_=(<WidthType.NORMALIZED: 2>, 0.2), line_color_=None, fill_color_=None, fill_opacity_=None, dashing_=None, output_size=None), transform=Affine(1.0, 0.0, -0.75,\n",
              "       0.0, 1.0, 0.0)), Primitive(shape=Path(loc_trails=[Located(trail=Trail(segments=[Segment(offset=Vec2(3.0, 0.0), origin=Vec2(0.0, 0.0)), Segment(offset=Vec2(0.0, 0.0), origin=Vec2(0.0, 0.0)), Segment(offset=Vec2(-3.0, 0.0), origin=Vec2(0.0, 0.0)), Segment(offset=Vec2(0.0, 0.0), origin=Vec2(0.0, 0.0))], closed=True), location=Vec2(0.0, 0.0))]), style=Style(line_width_=(<WidthType.NORMALIZED: 2>, 0.2), line_color_=None, fill_color_=None, fill_opacity_=None, dashing_=None, output_size=None), transform=Affine(1.0, 0.0, -1.5,\n",
              "       0.0, 1.0, 0.0)), ApplyTransform(transform=Affine(1.0, 0.0, 0.0,\n",
              "       0.0, 1.0, 1.05), diagram=ApplyTransform(transform=Affine(0.0, 1.0, 0.0,\n",
              "       -1.0, 0.0, 0.0), diagram=Empty())), ApplyTransform(transform=Affine(1.0, 0.0, 0.0,\n",
              "       0.0, 1.0, 2.05), diagram=Compose(envelope=<chalk.envelope.Envelope object at 0x7dd8e5fde9e0>, diagrams=[Primitive(shape=Path(loc_trails=[Located(trail=Trail(segments=[Segment(offset=Vec2(1.5, 0.0), origin=Vec2(0.0, 0.0)), Segment(offset=Vec2(0.0, 1.05), origin=Vec2(0.0, 0.0)), Segment(offset=Vec2(-1.5, 0.0), origin=Vec2(0.0, 0.0)), Segment(offset=Vec2(0.0, -1.05), origin=Vec2(0.0, 0.0))], closed=True), location=Vec2(0.0, 0.0))]), style=Style(line_width_=(<WidthType.NORMALIZED: 2>, 0.2), line_color_=None, fill_color_=None, fill_opacity_=None, dashing_=None, output_size=None), transform=Affine(1.0, 0.0, -0.75,\n",
              "       0.0, 1.0, 0.0)), Primitive(shape=Path(loc_trails=[Located(trail=Trail(segments=[Segment(offset=Vec2(3.0, 0.0), origin=Vec2(0.0, 0.0)), Segment(offset=Vec2(0.0, 1.0), origin=Vec2(0.0, 0.0)), Segment(offset=Vec2(-3.0, 0.0), origin=Vec2(0.0, 0.0)), Segment(offset=Vec2(0.0, -1.0), origin=Vec2(0.0, 0.0))], closed=True), location=Vec2(0.0, 0.0))]), style=Style(line_width_=(<WidthType.NORMALIZED: 2>, 0.2), line_color_=None, fill_color_=None, fill_opacity_=None, dashing_=None, output_size=None), transform=Affine(1.0, 0.0, -1.5,\n",
              "       0.0, 1.0, -1.0)), ApplyTransform(transform=Affine(1.0, 0.0, 0.0,\n",
              "       0.0, 1.0, 1.05), diagram=ApplyTransform(transform=Affine(0.0, 1.0, 0.0,\n",
              "       -1.0, 0.0, 0.0), diagram=Empty())), ApplyTransform(transform=Affine(1.0, 0.0, 0.0,\n",
              "       0.0, 1.0, 2.05), diagram=Compose(envelope=<chalk.envelope.Envelope object at 0x7dd8e4b69180>, diagrams=[Primitive(shape=Path(loc_trails=[Located(trail=Trail(segments=[Segment(offset=Vec2(1.5, 0.0), origin=Vec2(0.0, 0.0)), Segment(offset=Vec2(0.0, 1.05), origin=Vec2(0.0, 0.0)), Segment(offset=Vec2(-1.5, 0.0), origin=Vec2(0.0, 0.0)), Segment(offset=Vec2(0.0, -1.05), origin=Vec2(0.0, 0.0))], closed=True), location=Vec2(0.0, 0.0))]), style=Style(line_width_=(<WidthType.NORMALIZED: 2>, 0.2), line_color_=None, fill_color_=None, fill_opacity_=None, dashing_=None, output_size=None), transform=Affine(1.0, 0.0, -0.75,\n",
              "       0.0, 1.0, 0.0)), Primitive(shape=Path(loc_trails=[Located(trail=Trail(segments=[Segment(offset=Vec2(3.0, 0.0), origin=Vec2(0.0, 0.0)), Segment(offset=Vec2(0.0, 1.0), origin=Vec2(0.0, 0.0)), Segment(offset=Vec2(-3.0, 0.0), origin=Vec2(0.0, 0.0)), Segment(offset=Vec2(0.0, -1.0), origin=Vec2(0.0, 0.0))], closed=True), location=Vec2(0.0, 0.0))]), style=Style(line_width_=(<WidthType.NORMALIZED: 2>, 0.2), line_color_=None, fill_color_=None, fill_opacity_=None, dashing_=None, output_size=None), transform=Affine(1.0, 0.0, -1.5,\n",
              "       0.0, 1.0, -1.0))]))])), ApplyStyle(style=Style(line_width_=None, line_color_=None, fill_color_=None, fill_opacity_=0.5, dashing_=None, output_size=None), diagram=ApplyStyle(style=Style(line_width_=None, line_color_=None, fill_color_=<Color red>, fill_opacity_=None, dashing_=None, output_size=None), diagram=ApplyTransform(transform=Affine(1.0, 0.0, 0.0,\n",
              "       0.0, 1.0, 0.025), diagram=ApplyTransform(transform=Affine(1.0, 0.0, 0.0,\n",
              "       0.0, 1.0, 0.5), diagram=Compose(envelope=<chalk.envelope.Envelope object at 0x7dd8e4b98c70>, diagrams=[Primitive(shape=Path(loc_trails=[Located(trail=Trail(segments=[Segment(offset=Vec2(0.375, 0.0), origin=Vec2(0.0, 0.0)), Segment(offset=Vec2(0.0, 1.0), origin=Vec2(0.0, 0.0)), Segment(offset=Vec2(-0.375, 0.0), origin=Vec2(0.0, 0.0)), Segment(offset=Vec2(0.0, -1.0), origin=Vec2(0.0, 0.0))], closed=True), location=Vec2(0.0, 0.0))]), style=Style(line_width_=(<WidthType.NORMALIZED: 2>, 0.01), line_color_=<Color white>, fill_color_=None, fill_opacity_=None, dashing_=None, output_size=None), transform=Affine(1.0, 0.0, 0.0,\n",
              "       0.0, 1.0, -0.5)), Primitive(shape=Path(loc_trails=[Located(trail=Trail(segments=[Segment(offset=Vec2(0.375, 0.0), origin=Vec2(0.0, 0.0)), Segment(offset=Vec2(0.0, 1.0), origin=Vec2(0.0, 0.0)), Segment(offset=Vec2(-0.375, 0.0), origin=Vec2(0.0, 0.0)), Segment(offset=Vec2(0.0, -1.0), origin=Vec2(0.0, 0.0))], closed=True), location=Vec2(0.0, 0.0))]), style=Style(line_width_=(<WidthType.NORMALIZED: 2>, 0.01), line_color_=<Color white>, fill_color_=None, fill_opacity_=None, dashing_=None, output_size=None), transform=Affine(1.0, 0.0, 0.375,\n",
              "       0.0, 1.0, -0.5))]))))), Empty(), Empty(), ApplyTransform(transform=Affine(1.0, 0.0, 0.0,\n",
              "       0.0, 1.0, 1.05), diagram=ApplyTransform(transform=Affine(0.0, 1.0, 0.0,\n",
              "       -1.0, 0.0, 0.0), diagram=Empty())), ApplyTransform(transform=Affine(1.0, 0.0, 0.0,\n",
              "       0.0, 1.0, 2.05), diagram=Compose(envelope=<chalk.envelope.Envelope object at 0x7dd8e4b84e80>, diagrams=[Empty(), Empty(), Empty(), ApplyTransform(transform=Affine(1.0, 0.0, 0.0,\n",
              "       0.0, 1.0, 1.05), diagram=ApplyTransform(transform=Affine(0.0, 1.0, 0.0,\n",
              "       -1.0, 0.0, 0.0), diagram=Empty())), ApplyTransform(transform=Affine(1.0, 0.0, 0.0,\n",
              "       0.0, 1.0, 2.05), diagram=Compose(envelope=<chalk.envelope.Envelope object at 0x7dd8e4bb1210>, diagrams=[Empty(), Empty(), Empty()]))])), Empty(), Empty(), Empty(), ApplyTransform(transform=Affine(1.0, 0.0, 0.0,\n",
              "       0.0, 1.0, 1.05), diagram=ApplyTransform(transform=Affine(0.0, 1.0, 0.0,\n",
              "       -1.0, 0.0, 0.0), diagram=Empty())), ApplyTransform(transform=Affine(1.0, 0.0, 0.0,\n",
              "       0.0, 1.0, 2.05), diagram=Compose(envelope=<chalk.envelope.Envelope object at 0x7dd8e4bcda80>, diagrams=[Empty(), Empty(), Empty(), ApplyTransform(transform=Affine(1.0, 0.0, 0.0,\n",
              "       0.0, 1.0, 1.05), diagram=ApplyTransform(transform=Affine(0.0, 1.0, 0.0,\n",
              "       -1.0, 0.0, 0.0), diagram=Empty())), ApplyTransform(transform=Affine(1.0, 0.0, 0.0,\n",
              "       0.0, 1.0, 2.05), diagram=Compose(envelope=<chalk.envelope.Envelope object at 0x7dd8e4bc7310>, diagrams=[ApplyStyle(style=Style(line_width_=None, line_color_=None, fill_color_=None, fill_opacity_=0.5, dashing_=None, output_size=None), diagram=ApplyStyle(style=Style(line_width_=None, line_color_=None, fill_color_=<Color green>, fill_opacity_=None, dashing_=None, output_size=None), diagram=ApplyTransform(transform=Affine(1.0, 0.0, 0.0,\n",
              "       0.0, 1.0, 0.025), diagram=ApplyTransform(transform=Affine(1.0, 0.0, 0.0,\n",
              "       0.0, 1.0, 0.5), diagram=Compose(envelope=<chalk.envelope.Envelope object at 0x7dd8e4bc5000>, diagrams=[Primitive(shape=Path(loc_trails=[Located(trail=Trail(segments=[Segment(offset=Vec2(0.375, 0.0), origin=Vec2(0.0, 0.0)), Segment(offset=Vec2(0.0, 1.0), origin=Vec2(0.0, 0.0)), Segment(offset=Vec2(-0.375, 0.0), origin=Vec2(0.0, 0.0)), Segment(offset=Vec2(0.0, -1.0), origin=Vec2(0.0, 0.0))], closed=True), location=Vec2(0.0, 0.0))]), style=Style(line_width_=(<WidthType.NORMALIZED: 2>, 0.01), line_color_=<Color white>, fill_color_=None, fill_opacity_=None, dashing_=None, output_size=None), transform=Affine(1.0, 0.0, 0.0,\n",
              "       0.0, 1.0, -0.5)), Primitive(shape=Path(loc_trails=[Located(trail=Trail(segments=[Segment(offset=Vec2(0.375, 0.0), origin=Vec2(0.0, 0.0)), Segment(offset=Vec2(0.0, 1.0), origin=Vec2(0.0, 0.0)), Segment(offset=Vec2(-0.375, 0.0), origin=Vec2(0.0, 0.0)), Segment(offset=Vec2(0.0, -1.0), origin=Vec2(0.0, 0.0))], closed=True), location=Vec2(0.0, 0.0))]), style=Style(line_width_=(<WidthType.NORMALIZED: 2>, 0.01), line_color_=<Color white>, fill_color_=None, fill_opacity_=None, dashing_=None, output_size=None), transform=Affine(1.0, 0.0, 0.375,\n",
              "       0.0, 1.0, -0.5))]))))), Empty(), Empty()]))]))])"
            ],
            "text/html": [
              "<?xml version=\"1.0\" encoding=\"utf-8\" ?>\n",
              "<svg baseProfile=\"full\" height=\"400\" version=\"1.1\" width=\"233\" xmlns=\"http://www.w3.org/2000/svg\" xmlns:ev=\"http://www.w3.org/2001/xml-events\" xmlns:xlink=\"http://www.w3.org/1999/xlink\"><defs><marker id=\"arrow\" markerHeight=\"3.5\" markerWidth=\"5\" orient=\"auto\" refX=\"5.0\" refY=\"1.7\"><polygon points=\"0,0 5,1.75 0,3.5\" /></marker></defs><g style=\"fill:white;\"><g transform=\"matrix(1.0, 0.0, 0.0, 1.0, 116.50000000000001, 199.99166666666667)\"><g transform=\"matrix(73.96825396825396, 0.0, 0.0, 73.96825396825396, 0.0, 0.0)\"><g><g transform=\"matrix(1.0, 0.0, 0.0, 1.0, -0.0, -2.5749999999999997)\"><g><g style=\"stroke: black;stroke-width: 3.6;\" transform=\"matrix(1.0, 0.0, 0.0, 1.0, -0.75, 0.0)\"><path d=\"M 0.0 0.0 L 1.5 0.0 L 1.5 1.05 L 0.0 1.05 L 0.0 0.0 Z\" style=\"vector-effect: non-scaling-stroke;\" /></g><g style=\"stroke: black;stroke-width: 3.6;\" transform=\"matrix(1.0, 0.0, 0.0, 1.0, -1.5, 0.0)\"><path d=\"M 0.0 0.0 L 3.0 0.0 L 3.0 0.0 L 0.0 0.0 L 0.0 0.0 Z\" style=\"vector-effect: non-scaling-stroke;\" /></g><g transform=\"matrix(1.0, 0.0, 0.0, 1.0, 0.0, 1.05)\"><g transform=\"matrix(0.0, -1.0, 1.0, 0.0, 0.0, 0.0)\"><g /></g></g><g transform=\"matrix(1.0, 0.0, 0.0, 1.0, 0.0, 2.05)\"><g><g style=\"stroke: black;stroke-width: 3.6;\" transform=\"matrix(1.0, 0.0, 0.0, 1.0, -0.75, 0.0)\"><path d=\"M 0.0 0.0 L 1.5 0.0 L 1.5 1.05 L 0.0 1.05 L 0.0 0.0 Z\" style=\"vector-effect: non-scaling-stroke;\" /></g><g style=\"stroke: black;stroke-width: 3.6;\" transform=\"matrix(1.0, 0.0, 0.0, 1.0, -1.5, -1.0)\"><path d=\"M 0.0 0.0 L 3.0 0.0 L 3.0 1.0 L 0.0 1.0 L 0.0 0.0 Z\" style=\"vector-effect: non-scaling-stroke;\" /></g><g transform=\"matrix(1.0, 0.0, 0.0, 1.0, 0.0, 1.05)\"><g transform=\"matrix(0.0, -1.0, 1.0, 0.0, 0.0, 0.0)\"><g /></g></g><g transform=\"matrix(1.0, 0.0, 0.0, 1.0, 0.0, 2.05)\"><g><g style=\"stroke: black;stroke-width: 3.6;\" transform=\"matrix(1.0, 0.0, 0.0, 1.0, -0.75, 0.0)\"><path d=\"M 0.0 0.0 L 1.5 0.0 L 1.5 1.05 L 0.0 1.05 L 0.0 0.0 Z\" style=\"vector-effect: non-scaling-stroke;\" /></g><g style=\"stroke: black;stroke-width: 3.6;\" transform=\"matrix(1.0, 0.0, 0.0, 1.0, -1.5, -1.0)\"><path d=\"M 0.0 0.0 L 3.0 0.0 L 3.0 1.0 L 0.0 1.0 L 0.0 0.0 Z\" style=\"vector-effect: non-scaling-stroke;\" /></g></g></g></g></g><g transform=\"matrix(1.0, 0.0, 0.0, 1.0, 0.0, 0.025)\"><g transform=\"matrix(1.0, 0.0, 0.0, 1.0, 0.0, 0.5)\"><g><g style=\"fill: #ff0000;stroke: #ffffff;stroke-width: 0.18;fill-opacity: 0.5;\" transform=\"matrix(1.0, 0.0, 0.0, 1.0, 0.0, -0.5)\"><path d=\"M 0.0 0.0 L 0.375 0.0 L 0.375 1.0 L 0.0 1.0 L 0.0 0.0 Z\" style=\"vector-effect: non-scaling-stroke;\" /></g><g style=\"fill: #ff0000;stroke: #ffffff;stroke-width: 0.18;fill-opacity: 0.5;\" transform=\"matrix(1.0, 0.0, 0.0, 1.0, 0.375, -0.5)\"><path d=\"M 0.0 0.0 L 0.375 0.0 L 0.375 1.0 L 0.0 1.0 L 0.0 0.0 Z\" style=\"vector-effect: non-scaling-stroke;\" /></g></g></g></g><g /><g /><g transform=\"matrix(1.0, 0.0, 0.0, 1.0, 0.0, 1.05)\"><g transform=\"matrix(0.0, -1.0, 1.0, 0.0, 0.0, 0.0)\"><g /></g></g><g transform=\"matrix(1.0, 0.0, 0.0, 1.0, 0.0, 2.05)\"><g><g /><g /><g /><g transform=\"matrix(1.0, 0.0, 0.0, 1.0, 0.0, 1.05)\"><g transform=\"matrix(0.0, -1.0, 1.0, 0.0, 0.0, 0.0)\"><g /></g></g><g transform=\"matrix(1.0, 0.0, 0.0, 1.0, 0.0, 2.05)\"><g><g /><g /><g /></g></g></g></g><g /><g /><g /><g transform=\"matrix(1.0, 0.0, 0.0, 1.0, 0.0, 1.05)\"><g transform=\"matrix(0.0, -1.0, 1.0, 0.0, 0.0, 0.0)\"><g /></g></g><g transform=\"matrix(1.0, 0.0, 0.0, 1.0, 0.0, 2.05)\"><g><g /><g /><g /><g transform=\"matrix(1.0, 0.0, 0.0, 1.0, 0.0, 1.05)\"><g transform=\"matrix(0.0, -1.0, 1.0, 0.0, 0.0, 0.0)\"><g /></g></g><g transform=\"matrix(1.0, 0.0, 0.0, 1.0, 0.0, 2.05)\"><g><g transform=\"matrix(1.0, 0.0, 0.0, 1.0, 0.0, 0.025)\"><g transform=\"matrix(1.0, 0.0, 0.0, 1.0, 0.0, 0.5)\"><g><g style=\"fill: #008000;stroke: #ffffff;stroke-width: 0.18;fill-opacity: 0.5;\" transform=\"matrix(1.0, 0.0, 0.0, 1.0, 0.0, -0.5)\"><path d=\"M 0.0 0.0 L 0.375 0.0 L 0.375 1.0 L 0.0 1.0 L 0.0 0.0 Z\" style=\"vector-effect: non-scaling-stroke;\" /></g><g style=\"fill: #008000;stroke: #ffffff;stroke-width: 0.18;fill-opacity: 0.5;\" transform=\"matrix(1.0, 0.0, 0.0, 1.0, 0.375, -0.5)\"><path d=\"M 0.0 0.0 L 0.375 0.0 L 0.375 1.0 L 0.0 1.0 L 0.0 0.0 Z\" style=\"vector-effect: non-scaling-stroke;\" /></g></g></g></g><g /><g /></g></g></g></g></g></g><g /></g></g></g></g></svg>"
            ],
            "image/svg+xml": "<?xml version=\"1.0\" encoding=\"utf-8\" ?>\n<svg baseProfile=\"full\" height=\"400\" version=\"1.1\" width=\"233\" xmlns=\"http://www.w3.org/2000/svg\" xmlns:ev=\"http://www.w3.org/2001/xml-events\" xmlns:xlink=\"http://www.w3.org/1999/xlink\"><defs><marker id=\"arrow\" markerHeight=\"3.5\" markerWidth=\"5\" orient=\"auto\" refX=\"5.0\" refY=\"1.7\"><polygon points=\"0,0 5,1.75 0,3.5\" /></marker></defs><g style=\"fill:white;\"><g transform=\"matrix(1.0, 0.0, 0.0, 1.0, 116.50000000000001, 199.99166666666667)\"><g transform=\"matrix(73.96825396825396, 0.0, 0.0, 73.96825396825396, 0.0, 0.0)\"><g><g transform=\"matrix(1.0, 0.0, 0.0, 1.0, -0.0, -2.5749999999999997)\"><g><g style=\"stroke: black;stroke-width: 3.6;\" transform=\"matrix(1.0, 0.0, 0.0, 1.0, -0.75, 0.0)\"><path d=\"M 0.0 0.0 L 1.5 0.0 L 1.5 1.05 L 0.0 1.05 L 0.0 0.0 Z\" style=\"vector-effect: non-scaling-stroke;\" /></g><g style=\"stroke: black;stroke-width: 3.6;\" transform=\"matrix(1.0, 0.0, 0.0, 1.0, -1.5, 0.0)\"><path d=\"M 0.0 0.0 L 3.0 0.0 L 3.0 0.0 L 0.0 0.0 L 0.0 0.0 Z\" style=\"vector-effect: non-scaling-stroke;\" /></g><g transform=\"matrix(1.0, 0.0, 0.0, 1.0, 0.0, 1.05)\"><g transform=\"matrix(0.0, -1.0, 1.0, 0.0, 0.0, 0.0)\"><g /></g></g><g transform=\"matrix(1.0, 0.0, 0.0, 1.0, 0.0, 2.05)\"><g><g style=\"stroke: black;stroke-width: 3.6;\" transform=\"matrix(1.0, 0.0, 0.0, 1.0, -0.75, 0.0)\"><path d=\"M 0.0 0.0 L 1.5 0.0 L 1.5 1.05 L 0.0 1.05 L 0.0 0.0 Z\" style=\"vector-effect: non-scaling-stroke;\" /></g><g style=\"stroke: black;stroke-width: 3.6;\" transform=\"matrix(1.0, 0.0, 0.0, 1.0, -1.5, -1.0)\"><path d=\"M 0.0 0.0 L 3.0 0.0 L 3.0 1.0 L 0.0 1.0 L 0.0 0.0 Z\" style=\"vector-effect: non-scaling-stroke;\" /></g><g transform=\"matrix(1.0, 0.0, 0.0, 1.0, 0.0, 1.05)\"><g transform=\"matrix(0.0, -1.0, 1.0, 0.0, 0.0, 0.0)\"><g /></g></g><g transform=\"matrix(1.0, 0.0, 0.0, 1.0, 0.0, 2.05)\"><g><g style=\"stroke: black;stroke-width: 3.6;\" transform=\"matrix(1.0, 0.0, 0.0, 1.0, -0.75, 0.0)\"><path d=\"M 0.0 0.0 L 1.5 0.0 L 1.5 1.05 L 0.0 1.05 L 0.0 0.0 Z\" style=\"vector-effect: non-scaling-stroke;\" /></g><g style=\"stroke: black;stroke-width: 3.6;\" transform=\"matrix(1.0, 0.0, 0.0, 1.0, -1.5, -1.0)\"><path d=\"M 0.0 0.0 L 3.0 0.0 L 3.0 1.0 L 0.0 1.0 L 0.0 0.0 Z\" style=\"vector-effect: non-scaling-stroke;\" /></g></g></g></g></g><g transform=\"matrix(1.0, 0.0, 0.0, 1.0, 0.0, 0.025)\"><g transform=\"matrix(1.0, 0.0, 0.0, 1.0, 0.0, 0.5)\"><g><g style=\"fill: #ff0000;stroke: #ffffff;stroke-width: 0.18;fill-opacity: 0.5;\" transform=\"matrix(1.0, 0.0, 0.0, 1.0, 0.0, -0.5)\"><path d=\"M 0.0 0.0 L 0.375 0.0 L 0.375 1.0 L 0.0 1.0 L 0.0 0.0 Z\" style=\"vector-effect: non-scaling-stroke;\" /></g><g style=\"fill: #ff0000;stroke: #ffffff;stroke-width: 0.18;fill-opacity: 0.5;\" transform=\"matrix(1.0, 0.0, 0.0, 1.0, 0.375, -0.5)\"><path d=\"M 0.0 0.0 L 0.375 0.0 L 0.375 1.0 L 0.0 1.0 L 0.0 0.0 Z\" style=\"vector-effect: non-scaling-stroke;\" /></g></g></g></g><g /><g /><g transform=\"matrix(1.0, 0.0, 0.0, 1.0, 0.0, 1.05)\"><g transform=\"matrix(0.0, -1.0, 1.0, 0.0, 0.0, 0.0)\"><g /></g></g><g transform=\"matrix(1.0, 0.0, 0.0, 1.0, 0.0, 2.05)\"><g><g /><g /><g /><g transform=\"matrix(1.0, 0.0, 0.0, 1.0, 0.0, 1.05)\"><g transform=\"matrix(0.0, -1.0, 1.0, 0.0, 0.0, 0.0)\"><g /></g></g><g transform=\"matrix(1.0, 0.0, 0.0, 1.0, 0.0, 2.05)\"><g><g /><g /><g /></g></g></g></g><g /><g /><g /><g transform=\"matrix(1.0, 0.0, 0.0, 1.0, 0.0, 1.05)\"><g transform=\"matrix(0.0, -1.0, 1.0, 0.0, 0.0, 0.0)\"><g /></g></g><g transform=\"matrix(1.0, 0.0, 0.0, 1.0, 0.0, 2.05)\"><g><g /><g /><g /><g transform=\"matrix(1.0, 0.0, 0.0, 1.0, 0.0, 1.05)\"><g transform=\"matrix(0.0, -1.0, 1.0, 0.0, 0.0, 0.0)\"><g /></g></g><g transform=\"matrix(1.0, 0.0, 0.0, 1.0, 0.0, 2.05)\"><g><g transform=\"matrix(1.0, 0.0, 0.0, 1.0, 0.0, 0.025)\"><g transform=\"matrix(1.0, 0.0, 0.0, 1.0, 0.0, 0.5)\"><g><g style=\"fill: #008000;stroke: #ffffff;stroke-width: 0.18;fill-opacity: 0.5;\" transform=\"matrix(1.0, 0.0, 0.0, 1.0, 0.0, -0.5)\"><path d=\"M 0.0 0.0 L 0.375 0.0 L 0.375 1.0 L 0.0 1.0 L 0.0 0.0 Z\" style=\"vector-effect: non-scaling-stroke;\" /></g><g style=\"fill: #008000;stroke: #ffffff;stroke-width: 0.18;fill-opacity: 0.5;\" transform=\"matrix(1.0, 0.0, 0.0, 1.0, 0.375, -0.5)\"><path d=\"M 0.0 0.0 L 0.375 0.0 L 0.375 1.0 L 0.0 1.0 L 0.0 0.0 Z\" style=\"vector-effect: non-scaling-stroke;\" /></g></g></g></g><g /><g /></g></g></g></g></g></g><g /></g></g></g></g></svg>"
          },
          "metadata": {},
          "execution_count": 11
        }
      ],
      "source": [
        "# We can use delete to remove any memory that is not longer needed.\n",
        "print(\"Before memory:\", model.memory())\n",
        "del grad_activations[1]\n",
        "print(\"After memory:\", model.memory())\n",
        "model.status()\n",
        "draw_group(grad_activations)"
      ]
    },
    {
      "cell_type": "code",
      "execution_count": 12,
      "id": "f48969f0",
      "metadata": {
        "id": "f48969f0",
        "outputId": "bb0a65e0-1dec-46ad-c63d-b213cc677ce0",
        "colab": {
          "base_uri": "https://localhost:8080/",
          "height": 421
        }
      },
      "outputs": [
        {
          "output_type": "execute_result",
          "data": {
            "text/plain": [
              "Compose(envelope=<chalk.envelope.Envelope object at 0x7dd8e4be4be0>, diagrams=[Primitive(shape=Path(loc_trails=[Located(trail=Trail(segments=[Segment(offset=Vec2(1.5, 0.0), origin=Vec2(0.0, 0.0)), Segment(offset=Vec2(0.0, 1.05), origin=Vec2(0.0, 0.0)), Segment(offset=Vec2(-1.5, 0.0), origin=Vec2(0.0, 0.0)), Segment(offset=Vec2(0.0, -1.05), origin=Vec2(0.0, 0.0))], closed=True), location=Vec2(0.0, 0.0))]), style=Style(line_width_=(<WidthType.NORMALIZED: 2>, 0.2), line_color_=None, fill_color_=None, fill_opacity_=None, dashing_=None, output_size=None), transform=Affine(1.0, 0.0, -0.75,\n",
              "       0.0, 1.0, 0.0)), Primitive(shape=Path(loc_trails=[Located(trail=Trail(segments=[Segment(offset=Vec2(3.0, 0.0), origin=Vec2(0.0, 0.0)), Segment(offset=Vec2(0.0, 0.0), origin=Vec2(0.0, 0.0)), Segment(offset=Vec2(-3.0, 0.0), origin=Vec2(0.0, 0.0)), Segment(offset=Vec2(0.0, 0.0), origin=Vec2(0.0, 0.0))], closed=True), location=Vec2(0.0, 0.0))]), style=Style(line_width_=(<WidthType.NORMALIZED: 2>, 0.2), line_color_=None, fill_color_=None, fill_opacity_=None, dashing_=None, output_size=None), transform=Affine(1.0, 0.0, -1.5,\n",
              "       0.0, 1.0, 0.0)), ApplyTransform(transform=Affine(1.0, 0.0, 0.0,\n",
              "       0.0, 1.0, 1.05), diagram=ApplyTransform(transform=Affine(0.0, 1.0, 0.0,\n",
              "       -1.0, 0.0, 0.0), diagram=Empty())), ApplyTransform(transform=Affine(1.0, 0.0, 0.0,\n",
              "       0.0, 1.0, 2.05), diagram=Compose(envelope=<chalk.envelope.Envelope object at 0x7dd8e4bb1870>, diagrams=[Primitive(shape=Path(loc_trails=[Located(trail=Trail(segments=[Segment(offset=Vec2(1.5, 0.0), origin=Vec2(0.0, 0.0)), Segment(offset=Vec2(0.0, 1.05), origin=Vec2(0.0, 0.0)), Segment(offset=Vec2(-1.5, 0.0), origin=Vec2(0.0, 0.0)), Segment(offset=Vec2(0.0, -1.05), origin=Vec2(0.0, 0.0))], closed=True), location=Vec2(0.0, 0.0))]), style=Style(line_width_=(<WidthType.NORMALIZED: 2>, 0.2), line_color_=None, fill_color_=None, fill_opacity_=None, dashing_=None, output_size=None), transform=Affine(1.0, 0.0, -0.75,\n",
              "       0.0, 1.0, 0.0)), Primitive(shape=Path(loc_trails=[Located(trail=Trail(segments=[Segment(offset=Vec2(3.0, 0.0), origin=Vec2(0.0, 0.0)), Segment(offset=Vec2(0.0, 1.0), origin=Vec2(0.0, 0.0)), Segment(offset=Vec2(-3.0, 0.0), origin=Vec2(0.0, 0.0)), Segment(offset=Vec2(0.0, -1.0), origin=Vec2(0.0, 0.0))], closed=True), location=Vec2(0.0, 0.0))]), style=Style(line_width_=(<WidthType.NORMALIZED: 2>, 0.2), line_color_=None, fill_color_=None, fill_opacity_=None, dashing_=None, output_size=None), transform=Affine(1.0, 0.0, -1.5,\n",
              "       0.0, 1.0, -1.0)), ApplyTransform(transform=Affine(1.0, 0.0, 0.0,\n",
              "       0.0, 1.0, 1.05), diagram=ApplyTransform(transform=Affine(0.0, 1.0, 0.0,\n",
              "       -1.0, 0.0, 0.0), diagram=Empty())), ApplyTransform(transform=Affine(1.0, 0.0, 0.0,\n",
              "       0.0, 1.0, 2.05), diagram=Compose(envelope=<chalk.envelope.Envelope object at 0x7dd8e5f77700>, diagrams=[Primitive(shape=Path(loc_trails=[Located(trail=Trail(segments=[Segment(offset=Vec2(1.5, 0.0), origin=Vec2(0.0, 0.0)), Segment(offset=Vec2(0.0, 1.05), origin=Vec2(0.0, 0.0)), Segment(offset=Vec2(-1.5, 0.0), origin=Vec2(0.0, 0.0)), Segment(offset=Vec2(0.0, -1.05), origin=Vec2(0.0, 0.0))], closed=True), location=Vec2(0.0, 0.0))]), style=Style(line_width_=(<WidthType.NORMALIZED: 2>, 0.2), line_color_=None, fill_color_=None, fill_opacity_=None, dashing_=None, output_size=None), transform=Affine(1.0, 0.0, -0.75,\n",
              "       0.0, 1.0, 0.0)), Primitive(shape=Path(loc_trails=[Located(trail=Trail(segments=[Segment(offset=Vec2(3.0, 0.0), origin=Vec2(0.0, 0.0)), Segment(offset=Vec2(0.0, 1.0), origin=Vec2(0.0, 0.0)), Segment(offset=Vec2(-3.0, 0.0), origin=Vec2(0.0, 0.0)), Segment(offset=Vec2(0.0, -1.0), origin=Vec2(0.0, 0.0))], closed=True), location=Vec2(0.0, 0.0))]), style=Style(line_width_=(<WidthType.NORMALIZED: 2>, 0.2), line_color_=None, fill_color_=None, fill_opacity_=None, dashing_=None, output_size=None), transform=Affine(1.0, 0.0, -1.5,\n",
              "       0.0, 1.0, -1.0))]))])), Empty(), Empty(), Empty(), ApplyTransform(transform=Affine(1.0, 0.0, 0.0,\n",
              "       0.0, 1.0, 1.05), diagram=ApplyTransform(transform=Affine(0.0, 1.0, 0.0,\n",
              "       -1.0, 0.0, 0.0), diagram=Empty())), ApplyTransform(transform=Affine(1.0, 0.0, 0.0,\n",
              "       0.0, 1.0, 2.05), diagram=Compose(envelope=<chalk.envelope.Envelope object at 0x7dd8e4bf2080>, diagrams=[Empty(), ApplyStyle(style=Style(line_width_=None, line_color_=None, fill_color_=None, fill_opacity_=0.5, dashing_=None, output_size=None), diagram=ApplyStyle(style=Style(line_width_=None, line_color_=None, fill_color_=<Color #bfbf00>, fill_opacity_=None, dashing_=None, output_size=None), diagram=Compose(envelope=<chalk.envelope.Envelope object at 0x7dd8e4a00cd0>, diagrams=[Primitive(shape=Path(loc_trails=[Located(trail=Trail(segments=[Segment(offset=Vec2(0.75, 0.0), origin=Vec2(0.0, 0.0)), Segment(offset=Vec2(0.0, 1.0), origin=Vec2(0.0, 0.0)), Segment(offset=Vec2(-0.75, 0.0), origin=Vec2(0.0, 0.0)), Segment(offset=Vec2(0.0, -1.0), origin=Vec2(0.0, 0.0))], closed=True), location=Vec2(0.0, 0.0))]), style=Style(line_width_=(<WidthType.NORMALIZED: 2>, 0.01), line_color_=<Color white>, fill_color_=None, fill_opacity_=None, dashing_=None, output_size=None), transform=Affine(1.0, 0.0, 0.0,\n",
              "       0.0, 1.0, -1.0)), Primitive(shape=Path(loc_trails=[Located(trail=Trail(segments=[Segment(offset=Vec2(0.75, 0.0), origin=Vec2(0.0, 0.0)), Segment(offset=Vec2(0.0, 1.0), origin=Vec2(0.0, 0.0)), Segment(offset=Vec2(-0.75, 0.0), origin=Vec2(0.0, 0.0)), Segment(offset=Vec2(0.0, -1.0), origin=Vec2(0.0, 0.0))], closed=True), location=Vec2(0.0, 0.0))]), style=Style(line_width_=(<WidthType.NORMALIZED: 2>, 0.01), line_color_=<Color white>, fill_color_=None, fill_opacity_=None, dashing_=None, output_size=None), transform=Affine(1.0, 0.0, 0.75,\n",
              "       0.0, 1.0, -1.0))]))), Empty(), ApplyTransform(transform=Affine(1.0, 0.0, 0.0,\n",
              "       0.0, 1.0, 1.05), diagram=ApplyTransform(transform=Affine(0.0, 1.0, 0.0,\n",
              "       -1.0, 0.0, 0.0), diagram=Empty())), ApplyTransform(transform=Affine(1.0, 0.0, 0.0,\n",
              "       0.0, 1.0, 2.05), diagram=Compose(envelope=<chalk.envelope.Envelope object at 0x7dd8e4bf21a0>, diagrams=[Empty(), Empty(), Empty()]))])), Empty(), Empty(), Empty(), ApplyTransform(transform=Affine(1.0, 0.0, 0.0,\n",
              "       0.0, 1.0, 1.05), diagram=ApplyTransform(transform=Affine(0.0, 1.0, 0.0,\n",
              "       -1.0, 0.0, 0.0), diagram=Empty())), ApplyTransform(transform=Affine(1.0, 0.0, 0.0,\n",
              "       0.0, 1.0, 2.05), diagram=Compose(envelope=<chalk.envelope.Envelope object at 0x7dd8e4a0cd00>, diagrams=[Empty(), Empty(), Empty(), ApplyTransform(transform=Affine(1.0, 0.0, 0.0,\n",
              "       0.0, 1.0, 1.05), diagram=ApplyTransform(transform=Affine(0.0, 1.0, 0.0,\n",
              "       -1.0, 0.0, 0.0), diagram=Empty())), ApplyTransform(transform=Affine(1.0, 0.0, 0.0,\n",
              "       0.0, 1.0, 2.05), diagram=Compose(envelope=<chalk.envelope.Envelope object at 0x7dd8e4a18040>, diagrams=[Empty(), ApplyStyle(style=Style(line_width_=None, line_color_=None, fill_color_=None, fill_opacity_=0.5, dashing_=None, output_size=None), diagram=ApplyStyle(style=Style(line_width_=None, line_color_=None, fill_color_=<Color green>, fill_opacity_=None, dashing_=None, output_size=None), diagram=Compose(envelope=<chalk.envelope.Envelope object at 0x7dd8e4a0f310>, diagrams=[Primitive(shape=Path(loc_trails=[Located(trail=Trail(segments=[Segment(offset=Vec2(0.75, 0.0), origin=Vec2(0.0, 0.0)), Segment(offset=Vec2(0.0, 1.0), origin=Vec2(0.0, 0.0)), Segment(offset=Vec2(-0.75, 0.0), origin=Vec2(0.0, 0.0)), Segment(offset=Vec2(0.0, -1.0), origin=Vec2(0.0, 0.0))], closed=True), location=Vec2(0.0, 0.0))]), style=Style(line_width_=(<WidthType.NORMALIZED: 2>, 0.01), line_color_=<Color white>, fill_color_=None, fill_opacity_=None, dashing_=None, output_size=None), transform=Affine(1.0, 0.0, 0.0,\n",
              "       0.0, 1.0, -1.0)), Primitive(shape=Path(loc_trails=[Located(trail=Trail(segments=[Segment(offset=Vec2(0.75, 0.0), origin=Vec2(0.0, 0.0)), Segment(offset=Vec2(0.0, 1.0), origin=Vec2(0.0, 0.0)), Segment(offset=Vec2(-0.75, 0.0), origin=Vec2(0.0, 0.0)), Segment(offset=Vec2(0.0, -1.0), origin=Vec2(0.0, 0.0))], closed=True), location=Vec2(0.0, 0.0))]), style=Style(line_width_=(<WidthType.NORMALIZED: 2>, 0.01), line_color_=<Color white>, fill_color_=None, fill_opacity_=None, dashing_=None, output_size=None), transform=Affine(1.0, 0.0, 0.75,\n",
              "       0.0, 1.0, -1.0))]))), Empty()]))]))])"
            ],
            "text/html": [
              "<?xml version=\"1.0\" encoding=\"utf-8\" ?>\n",
              "<svg baseProfile=\"full\" height=\"400\" version=\"1.1\" width=\"233\" xmlns=\"http://www.w3.org/2000/svg\" xmlns:ev=\"http://www.w3.org/2001/xml-events\" xmlns:xlink=\"http://www.w3.org/1999/xlink\"><defs><marker id=\"arrow\" markerHeight=\"3.5\" markerWidth=\"5\" orient=\"auto\" refX=\"5.0\" refY=\"1.7\"><polygon points=\"0,0 5,1.75 0,3.5\" /></marker></defs><g style=\"fill:white;\"><g transform=\"matrix(1.0, 0.0, 0.0, 1.0, 116.50000000000001, 199.99166666666667)\"><g transform=\"matrix(73.96825396825396, 0.0, 0.0, 73.96825396825396, 0.0, 0.0)\"><g><g transform=\"matrix(1.0, 0.0, 0.0, 1.0, -0.0, -2.5749999999999997)\"><g><g style=\"stroke: black;stroke-width: 3.6;\" transform=\"matrix(1.0, 0.0, 0.0, 1.0, -0.75, 0.0)\"><path d=\"M 0.0 0.0 L 1.5 0.0 L 1.5 1.05 L 0.0 1.05 L 0.0 0.0 Z\" style=\"vector-effect: non-scaling-stroke;\" /></g><g style=\"stroke: black;stroke-width: 3.6;\" transform=\"matrix(1.0, 0.0, 0.0, 1.0, -1.5, 0.0)\"><path d=\"M 0.0 0.0 L 3.0 0.0 L 3.0 0.0 L 0.0 0.0 L 0.0 0.0 Z\" style=\"vector-effect: non-scaling-stroke;\" /></g><g transform=\"matrix(1.0, 0.0, 0.0, 1.0, 0.0, 1.05)\"><g transform=\"matrix(0.0, -1.0, 1.0, 0.0, 0.0, 0.0)\"><g /></g></g><g transform=\"matrix(1.0, 0.0, 0.0, 1.0, 0.0, 2.05)\"><g><g style=\"stroke: black;stroke-width: 3.6;\" transform=\"matrix(1.0, 0.0, 0.0, 1.0, -0.75, 0.0)\"><path d=\"M 0.0 0.0 L 1.5 0.0 L 1.5 1.05 L 0.0 1.05 L 0.0 0.0 Z\" style=\"vector-effect: non-scaling-stroke;\" /></g><g style=\"stroke: black;stroke-width: 3.6;\" transform=\"matrix(1.0, 0.0, 0.0, 1.0, -1.5, -1.0)\"><path d=\"M 0.0 0.0 L 3.0 0.0 L 3.0 1.0 L 0.0 1.0 L 0.0 0.0 Z\" style=\"vector-effect: non-scaling-stroke;\" /></g><g transform=\"matrix(1.0, 0.0, 0.0, 1.0, 0.0, 1.05)\"><g transform=\"matrix(0.0, -1.0, 1.0, 0.0, 0.0, 0.0)\"><g /></g></g><g transform=\"matrix(1.0, 0.0, 0.0, 1.0, 0.0, 2.05)\"><g><g style=\"stroke: black;stroke-width: 3.6;\" transform=\"matrix(1.0, 0.0, 0.0, 1.0, -0.75, 0.0)\"><path d=\"M 0.0 0.0 L 1.5 0.0 L 1.5 1.05 L 0.0 1.05 L 0.0 0.0 Z\" style=\"vector-effect: non-scaling-stroke;\" /></g><g style=\"stroke: black;stroke-width: 3.6;\" transform=\"matrix(1.0, 0.0, 0.0, 1.0, -1.5, -1.0)\"><path d=\"M 0.0 0.0 L 3.0 0.0 L 3.0 1.0 L 0.0 1.0 L 0.0 0.0 Z\" style=\"vector-effect: non-scaling-stroke;\" /></g></g></g></g></g><g /><g /><g /><g transform=\"matrix(1.0, 0.0, 0.0, 1.0, 0.0, 1.05)\"><g transform=\"matrix(0.0, -1.0, 1.0, 0.0, 0.0, 0.0)\"><g /></g></g><g transform=\"matrix(1.0, 0.0, 0.0, 1.0, 0.0, 2.05)\"><g><g /><g><g style=\"fill: #bfbf00;stroke: #ffffff;stroke-width: 0.18;fill-opacity: 0.5;\" transform=\"matrix(1.0, 0.0, 0.0, 1.0, 0.0, -1.0)\"><path d=\"M 0.0 0.0 L 0.75 0.0 L 0.75 1.0 L 0.0 1.0 L 0.0 0.0 Z\" style=\"vector-effect: non-scaling-stroke;\" /></g><g style=\"fill: #bfbf00;stroke: #ffffff;stroke-width: 0.18;fill-opacity: 0.5;\" transform=\"matrix(1.0, 0.0, 0.0, 1.0, 0.75, -1.0)\"><path d=\"M 0.0 0.0 L 0.75 0.0 L 0.75 1.0 L 0.0 1.0 L 0.0 0.0 Z\" style=\"vector-effect: non-scaling-stroke;\" /></g></g><g /><g transform=\"matrix(1.0, 0.0, 0.0, 1.0, 0.0, 1.05)\"><g transform=\"matrix(0.0, -1.0, 1.0, 0.0, 0.0, 0.0)\"><g /></g></g><g transform=\"matrix(1.0, 0.0, 0.0, 1.0, 0.0, 2.05)\"><g><g /><g /><g /></g></g></g></g><g /><g /><g /><g transform=\"matrix(1.0, 0.0, 0.0, 1.0, 0.0, 1.05)\"><g transform=\"matrix(0.0, -1.0, 1.0, 0.0, 0.0, 0.0)\"><g /></g></g><g transform=\"matrix(1.0, 0.0, 0.0, 1.0, 0.0, 2.05)\"><g><g /><g /><g /><g transform=\"matrix(1.0, 0.0, 0.0, 1.0, 0.0, 1.05)\"><g transform=\"matrix(0.0, -1.0, 1.0, 0.0, 0.0, 0.0)\"><g /></g></g><g transform=\"matrix(1.0, 0.0, 0.0, 1.0, 0.0, 2.05)\"><g><g /><g><g style=\"fill: #008000;stroke: #ffffff;stroke-width: 0.18;fill-opacity: 0.5;\" transform=\"matrix(1.0, 0.0, 0.0, 1.0, 0.0, -1.0)\"><path d=\"M 0.0 0.0 L 0.75 0.0 L 0.75 1.0 L 0.0 1.0 L 0.0 0.0 Z\" style=\"vector-effect: non-scaling-stroke;\" /></g><g style=\"fill: #008000;stroke: #ffffff;stroke-width: 0.18;fill-opacity: 0.5;\" transform=\"matrix(1.0, 0.0, 0.0, 1.0, 0.75, -1.0)\"><path d=\"M 0.0 0.0 L 0.75 0.0 L 0.75 1.0 L 0.0 1.0 L 0.0 0.0 Z\" style=\"vector-effect: non-scaling-stroke;\" /></g></g><g /></g></g></g></g></g></g><g /></g></g></g></g></svg>"
            ],
            "image/svg+xml": "<?xml version=\"1.0\" encoding=\"utf-8\" ?>\n<svg baseProfile=\"full\" height=\"400\" version=\"1.1\" width=\"233\" xmlns=\"http://www.w3.org/2000/svg\" xmlns:ev=\"http://www.w3.org/2001/xml-events\" xmlns:xlink=\"http://www.w3.org/1999/xlink\"><defs><marker id=\"arrow\" markerHeight=\"3.5\" markerWidth=\"5\" orient=\"auto\" refX=\"5.0\" refY=\"1.7\"><polygon points=\"0,0 5,1.75 0,3.5\" /></marker></defs><g style=\"fill:white;\"><g transform=\"matrix(1.0, 0.0, 0.0, 1.0, 116.50000000000001, 199.99166666666667)\"><g transform=\"matrix(73.96825396825396, 0.0, 0.0, 73.96825396825396, 0.0, 0.0)\"><g><g transform=\"matrix(1.0, 0.0, 0.0, 1.0, -0.0, -2.5749999999999997)\"><g><g style=\"stroke: black;stroke-width: 3.6;\" transform=\"matrix(1.0, 0.0, 0.0, 1.0, -0.75, 0.0)\"><path d=\"M 0.0 0.0 L 1.5 0.0 L 1.5 1.05 L 0.0 1.05 L 0.0 0.0 Z\" style=\"vector-effect: non-scaling-stroke;\" /></g><g style=\"stroke: black;stroke-width: 3.6;\" transform=\"matrix(1.0, 0.0, 0.0, 1.0, -1.5, 0.0)\"><path d=\"M 0.0 0.0 L 3.0 0.0 L 3.0 0.0 L 0.0 0.0 L 0.0 0.0 Z\" style=\"vector-effect: non-scaling-stroke;\" /></g><g transform=\"matrix(1.0, 0.0, 0.0, 1.0, 0.0, 1.05)\"><g transform=\"matrix(0.0, -1.0, 1.0, 0.0, 0.0, 0.0)\"><g /></g></g><g transform=\"matrix(1.0, 0.0, 0.0, 1.0, 0.0, 2.05)\"><g><g style=\"stroke: black;stroke-width: 3.6;\" transform=\"matrix(1.0, 0.0, 0.0, 1.0, -0.75, 0.0)\"><path d=\"M 0.0 0.0 L 1.5 0.0 L 1.5 1.05 L 0.0 1.05 L 0.0 0.0 Z\" style=\"vector-effect: non-scaling-stroke;\" /></g><g style=\"stroke: black;stroke-width: 3.6;\" transform=\"matrix(1.0, 0.0, 0.0, 1.0, -1.5, -1.0)\"><path d=\"M 0.0 0.0 L 3.0 0.0 L 3.0 1.0 L 0.0 1.0 L 0.0 0.0 Z\" style=\"vector-effect: non-scaling-stroke;\" /></g><g transform=\"matrix(1.0, 0.0, 0.0, 1.0, 0.0, 1.05)\"><g transform=\"matrix(0.0, -1.0, 1.0, 0.0, 0.0, 0.0)\"><g /></g></g><g transform=\"matrix(1.0, 0.0, 0.0, 1.0, 0.0, 2.05)\"><g><g style=\"stroke: black;stroke-width: 3.6;\" transform=\"matrix(1.0, 0.0, 0.0, 1.0, -0.75, 0.0)\"><path d=\"M 0.0 0.0 L 1.5 0.0 L 1.5 1.05 L 0.0 1.05 L 0.0 0.0 Z\" style=\"vector-effect: non-scaling-stroke;\" /></g><g style=\"stroke: black;stroke-width: 3.6;\" transform=\"matrix(1.0, 0.0, 0.0, 1.0, -1.5, -1.0)\"><path d=\"M 0.0 0.0 L 3.0 0.0 L 3.0 1.0 L 0.0 1.0 L 0.0 0.0 Z\" style=\"vector-effect: non-scaling-stroke;\" /></g></g></g></g></g><g /><g /><g /><g transform=\"matrix(1.0, 0.0, 0.0, 1.0, 0.0, 1.05)\"><g transform=\"matrix(0.0, -1.0, 1.0, 0.0, 0.0, 0.0)\"><g /></g></g><g transform=\"matrix(1.0, 0.0, 0.0, 1.0, 0.0, 2.05)\"><g><g /><g><g style=\"fill: #bfbf00;stroke: #ffffff;stroke-width: 0.18;fill-opacity: 0.5;\" transform=\"matrix(1.0, 0.0, 0.0, 1.0, 0.0, -1.0)\"><path d=\"M 0.0 0.0 L 0.75 0.0 L 0.75 1.0 L 0.0 1.0 L 0.0 0.0 Z\" style=\"vector-effect: non-scaling-stroke;\" /></g><g style=\"fill: #bfbf00;stroke: #ffffff;stroke-width: 0.18;fill-opacity: 0.5;\" transform=\"matrix(1.0, 0.0, 0.0, 1.0, 0.75, -1.0)\"><path d=\"M 0.0 0.0 L 0.75 0.0 L 0.75 1.0 L 0.0 1.0 L 0.0 0.0 Z\" style=\"vector-effect: non-scaling-stroke;\" /></g></g><g /><g transform=\"matrix(1.0, 0.0, 0.0, 1.0, 0.0, 1.05)\"><g transform=\"matrix(0.0, -1.0, 1.0, 0.0, 0.0, 0.0)\"><g /></g></g><g transform=\"matrix(1.0, 0.0, 0.0, 1.0, 0.0, 2.05)\"><g><g /><g /><g /></g></g></g></g><g /><g /><g /><g transform=\"matrix(1.0, 0.0, 0.0, 1.0, 0.0, 1.05)\"><g transform=\"matrix(0.0, -1.0, 1.0, 0.0, 0.0, 0.0)\"><g /></g></g><g transform=\"matrix(1.0, 0.0, 0.0, 1.0, 0.0, 2.05)\"><g><g /><g /><g /><g transform=\"matrix(1.0, 0.0, 0.0, 1.0, 0.0, 1.05)\"><g transform=\"matrix(0.0, -1.0, 1.0, 0.0, 0.0, 0.0)\"><g /></g></g><g transform=\"matrix(1.0, 0.0, 0.0, 1.0, 0.0, 2.05)\"><g><g /><g><g style=\"fill: #008000;stroke: #ffffff;stroke-width: 0.18;fill-opacity: 0.5;\" transform=\"matrix(1.0, 0.0, 0.0, 1.0, 0.0, -1.0)\"><path d=\"M 0.0 0.0 L 0.75 0.0 L 0.75 1.0 L 0.0 1.0 L 0.0 0.0 Z\" style=\"vector-effect: non-scaling-stroke;\" /></g><g style=\"fill: #008000;stroke: #ffffff;stroke-width: 0.18;fill-opacity: 0.5;\" transform=\"matrix(1.0, 0.0, 0.0, 1.0, 0.75, -1.0)\"><path d=\"M 0.0 0.0 L 0.75 0.0 L 0.75 1.0 L 0.0 1.0 L 0.0 0.0 Z\" style=\"vector-effect: non-scaling-stroke;\" /></g></g><g /></g></g></g></g></g></g><g /></g></g></g></g></svg>"
          },
          "metadata": {},
          "execution_count": 12
        }
      ],
      "source": [
        "# Grad weights keep track of which batches they are for. Here we only have the grad weights for batches 2 and 3.\n",
        "draw_group(grad_weights)"
      ]
    },
    {
      "cell_type": "code",
      "execution_count": 13,
      "id": "d3d469f7",
      "metadata": {
        "id": "d3d469f7",
        "outputId": "e8aa8707-76ff-495c-a66d-f47f7a64d4fa",
        "colab": {
          "base_uri": "https://localhost:8080/"
        }
      },
      "outputs": [
        {
          "output_type": "stream",
          "name": "stdout",
          "text": [
            "Error! Only have batches\n",
            "{2, 3}\n"
          ]
        }
      ],
      "source": [
        "# If we try to update with the grad weights we will get an error.\n",
        "try:\n",
        "    model.update(0, weight_grad=grad_weights[0], weight=weights[0], opt_state=opt_states[0])\n",
        "except AssertionError as e:\n",
        "    print(\"Error! Only have batches\")\n",
        "    print(e)"
      ]
    },
    {
      "cell_type": "code",
      "execution_count": 14,
      "id": "55046513",
      "metadata": {
        "lines_to_next_cell": 2,
        "id": "55046513",
        "outputId": "f4cbd283-9292-4504-ebe5-65488173a90b",
        "colab": {
          "base_uri": "https://localhost:8080/",
          "height": 421
        }
      },
      "outputs": [
        {
          "output_type": "execute_result",
          "data": {
            "text/plain": [
              "WeightGrad(layer=0, layers=2, batches=frozenset({0, 1}), total_batches=4, shards=frozenset({0}), total=1)"
            ],
            "image/svg+xml": "<?xml version=\"1.0\" encoding=\"utf-8\" ?>\n<svg baseProfile=\"full\" height=\"400\" version=\"1.1\" width=\"233\" xmlns=\"http://www.w3.org/2000/svg\" xmlns:ev=\"http://www.w3.org/2001/xml-events\" xmlns:xlink=\"http://www.w3.org/1999/xlink\"><defs><marker id=\"arrow\" markerHeight=\"3.5\" markerWidth=\"5\" orient=\"auto\" refX=\"5.0\" refY=\"1.7\"><polygon points=\"0,0 5,1.75 0,3.5\" /></marker></defs><g style=\"fill:white;\"><g transform=\"matrix(1.0, 0.0, 0.0, 1.0, 116.50000000000001, 199.99166666666667)\"><g transform=\"matrix(73.96825396825396, 0.0, 0.0, 73.96825396825396, 0.0, 0.0)\"><g><g transform=\"matrix(1.0, 0.0, 0.0, 1.0, -0.0, -2.5749999999999997)\"><g><g style=\"stroke: black;stroke-width: 3.6;\" transform=\"matrix(1.0, 0.0, 0.0, 1.0, -0.75, 0.0)\"><path d=\"M 0.0 0.0 L 1.5 0.0 L 1.5 1.05 L 0.0 1.05 L 0.0 0.0 Z\" style=\"vector-effect: non-scaling-stroke;\" /></g><g style=\"stroke: black;stroke-width: 3.6;\" transform=\"matrix(1.0, 0.0, 0.0, 1.0, -1.5, 0.0)\"><path d=\"M 0.0 0.0 L 3.0 0.0 L 3.0 0.0 L 0.0 0.0 L 0.0 0.0 Z\" style=\"vector-effect: non-scaling-stroke;\" /></g><g transform=\"matrix(1.0, 0.0, 0.0, 1.0, 0.0, 1.05)\"><g transform=\"matrix(0.0, -1.0, 1.0, 0.0, 0.0, 0.0)\"><g /></g></g><g transform=\"matrix(1.0, 0.0, 0.0, 1.0, 0.0, 2.05)\"><g><g style=\"stroke: black;stroke-width: 3.6;\" transform=\"matrix(1.0, 0.0, 0.0, 1.0, -0.75, 0.0)\"><path d=\"M 0.0 0.0 L 1.5 0.0 L 1.5 1.05 L 0.0 1.05 L 0.0 0.0 Z\" style=\"vector-effect: non-scaling-stroke;\" /></g><g style=\"stroke: black;stroke-width: 3.6;\" transform=\"matrix(1.0, 0.0, 0.0, 1.0, -1.5, -1.0)\"><path d=\"M 0.0 0.0 L 3.0 0.0 L 3.0 1.0 L 0.0 1.0 L 0.0 0.0 Z\" style=\"vector-effect: non-scaling-stroke;\" /></g><g transform=\"matrix(1.0, 0.0, 0.0, 1.0, 0.0, 1.05)\"><g transform=\"matrix(0.0, -1.0, 1.0, 0.0, 0.0, 0.0)\"><g /></g></g><g transform=\"matrix(1.0, 0.0, 0.0, 1.0, 0.0, 2.05)\"><g><g style=\"stroke: black;stroke-width: 3.6;\" transform=\"matrix(1.0, 0.0, 0.0, 1.0, -0.75, 0.0)\"><path d=\"M 0.0 0.0 L 1.5 0.0 L 1.5 1.05 L 0.0 1.05 L 0.0 0.0 Z\" style=\"vector-effect: non-scaling-stroke;\" /></g><g style=\"stroke: black;stroke-width: 3.6;\" transform=\"matrix(1.0, 0.0, 0.0, 1.0, -1.5, -1.0)\"><path d=\"M 0.0 0.0 L 3.0 0.0 L 3.0 1.0 L 0.0 1.0 L 0.0 0.0 Z\" style=\"vector-effect: non-scaling-stroke;\" /></g></g></g></g></g><g /><g /><g /><g transform=\"matrix(1.0, 0.0, 0.0, 1.0, 0.0, 1.05)\"><g transform=\"matrix(0.0, -1.0, 1.0, 0.0, 0.0, 0.0)\"><g /></g></g><g transform=\"matrix(1.0, 0.0, 0.0, 1.0, 0.0, 2.05)\"><g><g /><g /><g /><g transform=\"matrix(1.0, 0.0, 0.0, 1.0, 0.0, 1.05)\"><g transform=\"matrix(0.0, -1.0, 1.0, 0.0, 0.0, 0.0)\"><g /></g></g><g transform=\"matrix(1.0, 0.0, 0.0, 1.0, 0.0, 2.05)\"><g><g /><g><g style=\"fill: #008000;stroke: #ffffff;stroke-width: 0.18;fill-opacity: 0.5;\" transform=\"matrix(1.0, 0.0, 0.0, 1.0, -1.5, -1.0)\"><path d=\"M 0.0 0.0 L 0.75 0.0 L 0.75 1.0 L 0.0 1.0 L 0.0 0.0 Z\" style=\"vector-effect: non-scaling-stroke;\" /></g><g style=\"fill: #008000;stroke: #ffffff;stroke-width: 0.18;fill-opacity: 0.5;\" transform=\"matrix(1.0, 0.0, 0.0, 1.0, -0.75, -1.0)\"><path d=\"M 0.0 0.0 L 0.75 0.0 L 0.75 1.0 L 0.0 1.0 L 0.0 0.0 Z\" style=\"vector-effect: non-scaling-stroke;\" /></g></g><g /></g></g></g></g></g></g><g /></g></g></g></g></svg>"
          },
          "metadata": {},
          "execution_count": 14
        }
      ],
      "source": [
        "# For this example, we can cheat. Pretend we had the other gradients we needed.\n",
        "grad_weights[0, 0] = model.fake_grad(0, [0,1])\n",
        "grad_weights[1, 0] = model.fake_grad(1, [0,1])\n",
        "grad_weights[0, 0]"
      ]
    },
    {
      "cell_type": "code",
      "execution_count": 15,
      "id": "f5caee88",
      "metadata": {
        "id": "f5caee88"
      },
      "outputs": [],
      "source": [
        "# Summing together grad_weights gives the full gradient.\n",
        "grad_weights[0] = grad_weights[0] + grad_weights[0, 0]"
      ]
    },
    {
      "cell_type": "code",
      "execution_count": 16,
      "id": "dfe2165e",
      "metadata": {
        "lines_to_next_cell": 2,
        "id": "dfe2165e"
      },
      "outputs": [],
      "source": [
        "# Now we can call update to the get the new weights and opt_state.\n",
        "weights[0], opt_states[0] = model.update(0, weight_grad=grad_weights[0], weight=weights[0],\n",
        "                                         opt_state=opt_states[0])\n",
        "\n",
        "# WARNING: You need to set all variables. Otherwise they are not counted towards memory.\n",
        "grad_weights[1] = grad_weights[1] + grad_weights[1, 0]\n",
        "weights[1], opt_states[1] = model.update(1, weight_grad=grad_weights[1],\n",
        "                                         weight=weights[1], opt_state=opt_states[1])"
      ]
    },
    {
      "cell_type": "code",
      "execution_count": 17,
      "id": "f9582594",
      "metadata": {
        "id": "f9582594",
        "outputId": "a7ba8073-69a7-4306-cc5b-43363c2004a0",
        "colab": {
          "base_uri": "https://localhost:8080/",
          "height": 439
        }
      },
      "outputs": [
        {
          "output_type": "stream",
          "name": "stdout",
          "text": [
            "Correct!\n"
          ]
        },
        {
          "output_type": "execute_result",
          "data": {
            "text/plain": [
              "Compose(envelope=<chalk.envelope.Envelope object at 0x7dd8e4be1030>, diagrams=[Primitive(shape=Path(loc_trails=[Located(trail=Trail(segments=[Segment(offset=Vec2(1.5, 0.0), origin=Vec2(0.0, 0.0)), Segment(offset=Vec2(0.0, 1.05), origin=Vec2(0.0, 0.0)), Segment(offset=Vec2(-1.5, 0.0), origin=Vec2(0.0, 0.0)), Segment(offset=Vec2(0.0, -1.05), origin=Vec2(0.0, 0.0))], closed=True), location=Vec2(0.0, 0.0))]), style=Style(line_width_=(<WidthType.NORMALIZED: 2>, 0.2), line_color_=None, fill_color_=None, fill_opacity_=None, dashing_=None, output_size=None), transform=Affine(1.0, 0.0, -0.75,\n",
              "       0.0, 1.0, 0.0)), Primitive(shape=Path(loc_trails=[Located(trail=Trail(segments=[Segment(offset=Vec2(3.0, 0.0), origin=Vec2(0.0, 0.0)), Segment(offset=Vec2(0.0, 0.0), origin=Vec2(0.0, 0.0)), Segment(offset=Vec2(-3.0, 0.0), origin=Vec2(0.0, 0.0)), Segment(offset=Vec2(0.0, 0.0), origin=Vec2(0.0, 0.0))], closed=True), location=Vec2(0.0, 0.0))]), style=Style(line_width_=(<WidthType.NORMALIZED: 2>, 0.2), line_color_=None, fill_color_=None, fill_opacity_=None, dashing_=None, output_size=None), transform=Affine(1.0, 0.0, -1.5,\n",
              "       0.0, 1.0, 0.0)), ApplyTransform(transform=Affine(1.0, 0.0, 0.0,\n",
              "       0.0, 1.0, 1.05), diagram=ApplyTransform(transform=Affine(0.0, 1.0, 0.0,\n",
              "       -1.0, 0.0, 0.0), diagram=Empty())), ApplyTransform(transform=Affine(1.0, 0.0, 0.0,\n",
              "       0.0, 1.0, 2.05), diagram=Compose(envelope=<chalk.envelope.Envelope object at 0x7dd8e4a26f50>, diagrams=[Primitive(shape=Path(loc_trails=[Located(trail=Trail(segments=[Segment(offset=Vec2(1.5, 0.0), origin=Vec2(0.0, 0.0)), Segment(offset=Vec2(0.0, 1.05), origin=Vec2(0.0, 0.0)), Segment(offset=Vec2(-1.5, 0.0), origin=Vec2(0.0, 0.0)), Segment(offset=Vec2(0.0, -1.05), origin=Vec2(0.0, 0.0))], closed=True), location=Vec2(0.0, 0.0))]), style=Style(line_width_=(<WidthType.NORMALIZED: 2>, 0.2), line_color_=None, fill_color_=None, fill_opacity_=None, dashing_=None, output_size=None), transform=Affine(1.0, 0.0, -0.75,\n",
              "       0.0, 1.0, 0.0)), Primitive(shape=Path(loc_trails=[Located(trail=Trail(segments=[Segment(offset=Vec2(3.0, 0.0), origin=Vec2(0.0, 0.0)), Segment(offset=Vec2(0.0, 1.0), origin=Vec2(0.0, 0.0)), Segment(offset=Vec2(-3.0, 0.0), origin=Vec2(0.0, 0.0)), Segment(offset=Vec2(0.0, -1.0), origin=Vec2(0.0, 0.0))], closed=True), location=Vec2(0.0, 0.0))]), style=Style(line_width_=(<WidthType.NORMALIZED: 2>, 0.2), line_color_=None, fill_color_=None, fill_opacity_=None, dashing_=None, output_size=None), transform=Affine(1.0, 0.0, -1.5,\n",
              "       0.0, 1.0, -1.0)), ApplyTransform(transform=Affine(1.0, 0.0, 0.0,\n",
              "       0.0, 1.0, 1.05), diagram=ApplyTransform(transform=Affine(0.0, 1.0, 0.0,\n",
              "       -1.0, 0.0, 0.0), diagram=Empty())), ApplyTransform(transform=Affine(1.0, 0.0, 0.0,\n",
              "       0.0, 1.0, 2.05), diagram=Compose(envelope=<chalk.envelope.Envelope object at 0x7dd8e4be5540>, diagrams=[Primitive(shape=Path(loc_trails=[Located(trail=Trail(segments=[Segment(offset=Vec2(1.5, 0.0), origin=Vec2(0.0, 0.0)), Segment(offset=Vec2(0.0, 1.05), origin=Vec2(0.0, 0.0)), Segment(offset=Vec2(-1.5, 0.0), origin=Vec2(0.0, 0.0)), Segment(offset=Vec2(0.0, -1.05), origin=Vec2(0.0, 0.0))], closed=True), location=Vec2(0.0, 0.0))]), style=Style(line_width_=(<WidthType.NORMALIZED: 2>, 0.2), line_color_=None, fill_color_=None, fill_opacity_=None, dashing_=None, output_size=None), transform=Affine(1.0, 0.0, -0.75,\n",
              "       0.0, 1.0, 0.0)), Primitive(shape=Path(loc_trails=[Located(trail=Trail(segments=[Segment(offset=Vec2(3.0, 0.0), origin=Vec2(0.0, 0.0)), Segment(offset=Vec2(0.0, 1.0), origin=Vec2(0.0, 0.0)), Segment(offset=Vec2(-3.0, 0.0), origin=Vec2(0.0, 0.0)), Segment(offset=Vec2(0.0, -1.0), origin=Vec2(0.0, 0.0))], closed=True), location=Vec2(0.0, 0.0))]), style=Style(line_width_=(<WidthType.NORMALIZED: 2>, 0.2), line_color_=None, fill_color_=None, fill_opacity_=None, dashing_=None, output_size=None), transform=Affine(1.0, 0.0, -1.5,\n",
              "       0.0, 1.0, -1.0))]))])), Empty(), Empty(), Empty(), ApplyTransform(transform=Affine(1.0, 0.0, 0.0,\n",
              "       0.0, 1.0, 1.05), diagram=ApplyTransform(transform=Affine(0.0, 1.0, 0.0,\n",
              "       -1.0, 0.0, 0.0), diagram=Empty())), ApplyTransform(transform=Affine(1.0, 0.0, 0.0,\n",
              "       0.0, 1.0, 2.05), diagram=Compose(envelope=<chalk.envelope.Envelope object at 0x7dd8e4be2830>, diagrams=[Empty(), Empty(), Empty(), ApplyTransform(transform=Affine(1.0, 0.0, 0.0,\n",
              "       0.0, 1.0, 1.05), diagram=ApplyTransform(transform=Affine(0.0, 1.0, 0.0,\n",
              "       -1.0, 0.0, 0.0), diagram=Empty())), ApplyTransform(transform=Affine(1.0, 0.0, 0.0,\n",
              "       0.0, 1.0, 2.05), diagram=Compose(envelope=<chalk.envelope.Envelope object at 0x7dd8e4a46620>, diagrams=[Empty(), Primitive(shape=Path(loc_trails=[Located(trail=Trail(segments=[Segment(offset=Vec2(3.0, 0.0), origin=Vec2(0.0, 0.0)), Segment(offset=Vec2(0.0, 1.0), origin=Vec2(0.0, 0.0)), Segment(offset=Vec2(-3.0, 0.0), origin=Vec2(0.0, 0.0)), Segment(offset=Vec2(0.0, -1.0), origin=Vec2(0.0, 0.0))], closed=True), location=Vec2(0.0, 0.0))]), style=Style(line_width_=(<WidthType.NORMALIZED: 2>, 0.01), line_color_=<Color white>, fill_color_=<Color green>, fill_opacity_=None, dashing_=None, output_size=None), transform=Affine(1.0, 0.0, -1.5,\n",
              "       0.0, 1.0, -1.0)), Empty()]))])), Empty(), Empty(), Empty(), ApplyTransform(transform=Affine(1.0, 0.0, 0.0,\n",
              "       0.0, 1.0, 1.05), diagram=ApplyTransform(transform=Affine(0.0, 1.0, 0.0,\n",
              "       -1.0, 0.0, 0.0), diagram=Empty())), ApplyTransform(transform=Affine(1.0, 0.0, 0.0,\n",
              "       0.0, 1.0, 2.05), diagram=Compose(envelope=<chalk.envelope.Envelope object at 0x7dd8e4a65210>, diagrams=[Empty(), Primitive(shape=Path(loc_trails=[Located(trail=Trail(segments=[Segment(offset=Vec2(3.0, 0.0), origin=Vec2(0.0, 0.0)), Segment(offset=Vec2(0.0, 1.0), origin=Vec2(0.0, 0.0)), Segment(offset=Vec2(-3.0, 0.0), origin=Vec2(0.0, 0.0)), Segment(offset=Vec2(0.0, -1.0), origin=Vec2(0.0, 0.0))], closed=True), location=Vec2(0.0, 0.0))]), style=Style(line_width_=(<WidthType.NORMALIZED: 2>, 0.01), line_color_=<Color white>, fill_color_=<Color #bfbf00>, fill_opacity_=None, dashing_=None, output_size=None), transform=Affine(1.0, 0.0, -1.5,\n",
              "       0.0, 1.0, -1.0)), Empty(), ApplyTransform(transform=Affine(1.0, 0.0, 0.0,\n",
              "       0.0, 1.0, 1.05), diagram=ApplyTransform(transform=Affine(0.0, 1.0, 0.0,\n",
              "       -1.0, 0.0, 0.0), diagram=Empty())), ApplyTransform(transform=Affine(1.0, 0.0, 0.0,\n",
              "       0.0, 1.0, 2.05), diagram=Compose(envelope=<chalk.envelope.Envelope object at 0x7dd8e4a536d0>, diagrams=[Empty(), Empty(), Empty()]))]))])"
            ],
            "text/html": [
              "<?xml version=\"1.0\" encoding=\"utf-8\" ?>\n",
              "<svg baseProfile=\"full\" height=\"400\" version=\"1.1\" width=\"233\" xmlns=\"http://www.w3.org/2000/svg\" xmlns:ev=\"http://www.w3.org/2001/xml-events\" xmlns:xlink=\"http://www.w3.org/1999/xlink\"><defs><marker id=\"arrow\" markerHeight=\"3.5\" markerWidth=\"5\" orient=\"auto\" refX=\"5.0\" refY=\"1.7\"><polygon points=\"0,0 5,1.75 0,3.5\" /></marker></defs><g style=\"fill:white;\"><g transform=\"matrix(1.0, 0.0, 0.0, 1.0, 116.50000000000001, 199.99166666666667)\"><g transform=\"matrix(73.96825396825396, 0.0, 0.0, 73.96825396825396, 0.0, 0.0)\"><g><g transform=\"matrix(1.0, 0.0, 0.0, 1.0, -0.0, -2.5749999999999997)\"><g><g style=\"stroke: black;stroke-width: 3.6;\" transform=\"matrix(1.0, 0.0, 0.0, 1.0, -0.75, 0.0)\"><path d=\"M 0.0 0.0 L 1.5 0.0 L 1.5 1.05 L 0.0 1.05 L 0.0 0.0 Z\" style=\"vector-effect: non-scaling-stroke;\" /></g><g style=\"stroke: black;stroke-width: 3.6;\" transform=\"matrix(1.0, 0.0, 0.0, 1.0, -1.5, 0.0)\"><path d=\"M 0.0 0.0 L 3.0 0.0 L 3.0 0.0 L 0.0 0.0 L 0.0 0.0 Z\" style=\"vector-effect: non-scaling-stroke;\" /></g><g transform=\"matrix(1.0, 0.0, 0.0, 1.0, 0.0, 1.05)\"><g transform=\"matrix(0.0, -1.0, 1.0, 0.0, 0.0, 0.0)\"><g /></g></g><g transform=\"matrix(1.0, 0.0, 0.0, 1.0, 0.0, 2.05)\"><g><g style=\"stroke: black;stroke-width: 3.6;\" transform=\"matrix(1.0, 0.0, 0.0, 1.0, -0.75, 0.0)\"><path d=\"M 0.0 0.0 L 1.5 0.0 L 1.5 1.05 L 0.0 1.05 L 0.0 0.0 Z\" style=\"vector-effect: non-scaling-stroke;\" /></g><g style=\"stroke: black;stroke-width: 3.6;\" transform=\"matrix(1.0, 0.0, 0.0, 1.0, -1.5, -1.0)\"><path d=\"M 0.0 0.0 L 3.0 0.0 L 3.0 1.0 L 0.0 1.0 L 0.0 0.0 Z\" style=\"vector-effect: non-scaling-stroke;\" /></g><g transform=\"matrix(1.0, 0.0, 0.0, 1.0, 0.0, 1.05)\"><g transform=\"matrix(0.0, -1.0, 1.0, 0.0, 0.0, 0.0)\"><g /></g></g><g transform=\"matrix(1.0, 0.0, 0.0, 1.0, 0.0, 2.05)\"><g><g style=\"stroke: black;stroke-width: 3.6;\" transform=\"matrix(1.0, 0.0, 0.0, 1.0, -0.75, 0.0)\"><path d=\"M 0.0 0.0 L 1.5 0.0 L 1.5 1.05 L 0.0 1.05 L 0.0 0.0 Z\" style=\"vector-effect: non-scaling-stroke;\" /></g><g style=\"stroke: black;stroke-width: 3.6;\" transform=\"matrix(1.0, 0.0, 0.0, 1.0, -1.5, -1.0)\"><path d=\"M 0.0 0.0 L 3.0 0.0 L 3.0 1.0 L 0.0 1.0 L 0.0 0.0 Z\" style=\"vector-effect: non-scaling-stroke;\" /></g></g></g></g></g><g /><g /><g /><g transform=\"matrix(1.0, 0.0, 0.0, 1.0, 0.0, 1.05)\"><g transform=\"matrix(0.0, -1.0, 1.0, 0.0, 0.0, 0.0)\"><g /></g></g><g transform=\"matrix(1.0, 0.0, 0.0, 1.0, 0.0, 2.05)\"><g><g /><g /><g /><g transform=\"matrix(1.0, 0.0, 0.0, 1.0, 0.0, 1.05)\"><g transform=\"matrix(0.0, -1.0, 1.0, 0.0, 0.0, 0.0)\"><g /></g></g><g transform=\"matrix(1.0, 0.0, 0.0, 1.0, 0.0, 2.05)\"><g><g /><g style=\"fill: #008000;stroke: #ffffff;stroke-width: 0.18;\" transform=\"matrix(1.0, 0.0, 0.0, 1.0, -1.5, -1.0)\"><path d=\"M 0.0 0.0 L 3.0 0.0 L 3.0 1.0 L 0.0 1.0 L 0.0 0.0 Z\" style=\"vector-effect: non-scaling-stroke;\" /></g><g /></g></g></g></g><g /><g /><g /><g transform=\"matrix(1.0, 0.0, 0.0, 1.0, 0.0, 1.05)\"><g transform=\"matrix(0.0, -1.0, 1.0, 0.0, 0.0, 0.0)\"><g /></g></g><g transform=\"matrix(1.0, 0.0, 0.0, 1.0, 0.0, 2.05)\"><g><g /><g style=\"fill: #bfbf00;stroke: #ffffff;stroke-width: 0.18;\" transform=\"matrix(1.0, 0.0, 0.0, 1.0, -1.5, -1.0)\"><path d=\"M 0.0 0.0 L 3.0 0.0 L 3.0 1.0 L 0.0 1.0 L 0.0 0.0 Z\" style=\"vector-effect: non-scaling-stroke;\" /></g><g /><g transform=\"matrix(1.0, 0.0, 0.0, 1.0, 0.0, 1.05)\"><g transform=\"matrix(0.0, -1.0, 1.0, 0.0, 0.0, 0.0)\"><g /></g></g><g transform=\"matrix(1.0, 0.0, 0.0, 1.0, 0.0, 2.05)\"><g><g /><g /><g /></g></g></g></g></g></g><g /></g></g></g></g></svg>"
            ],
            "image/svg+xml": "<?xml version=\"1.0\" encoding=\"utf-8\" ?>\n<svg baseProfile=\"full\" height=\"400\" version=\"1.1\" width=\"233\" xmlns=\"http://www.w3.org/2000/svg\" xmlns:ev=\"http://www.w3.org/2001/xml-events\" xmlns:xlink=\"http://www.w3.org/1999/xlink\"><defs><marker id=\"arrow\" markerHeight=\"3.5\" markerWidth=\"5\" orient=\"auto\" refX=\"5.0\" refY=\"1.7\"><polygon points=\"0,0 5,1.75 0,3.5\" /></marker></defs><g style=\"fill:white;\"><g transform=\"matrix(1.0, 0.0, 0.0, 1.0, 116.50000000000001, 199.99166666666667)\"><g transform=\"matrix(73.96825396825396, 0.0, 0.0, 73.96825396825396, 0.0, 0.0)\"><g><g transform=\"matrix(1.0, 0.0, 0.0, 1.0, -0.0, -2.5749999999999997)\"><g><g style=\"stroke: black;stroke-width: 3.6;\" transform=\"matrix(1.0, 0.0, 0.0, 1.0, -0.75, 0.0)\"><path d=\"M 0.0 0.0 L 1.5 0.0 L 1.5 1.05 L 0.0 1.05 L 0.0 0.0 Z\" style=\"vector-effect: non-scaling-stroke;\" /></g><g style=\"stroke: black;stroke-width: 3.6;\" transform=\"matrix(1.0, 0.0, 0.0, 1.0, -1.5, 0.0)\"><path d=\"M 0.0 0.0 L 3.0 0.0 L 3.0 0.0 L 0.0 0.0 L 0.0 0.0 Z\" style=\"vector-effect: non-scaling-stroke;\" /></g><g transform=\"matrix(1.0, 0.0, 0.0, 1.0, 0.0, 1.05)\"><g transform=\"matrix(0.0, -1.0, 1.0, 0.0, 0.0, 0.0)\"><g /></g></g><g transform=\"matrix(1.0, 0.0, 0.0, 1.0, 0.0, 2.05)\"><g><g style=\"stroke: black;stroke-width: 3.6;\" transform=\"matrix(1.0, 0.0, 0.0, 1.0, -0.75, 0.0)\"><path d=\"M 0.0 0.0 L 1.5 0.0 L 1.5 1.05 L 0.0 1.05 L 0.0 0.0 Z\" style=\"vector-effect: non-scaling-stroke;\" /></g><g style=\"stroke: black;stroke-width: 3.6;\" transform=\"matrix(1.0, 0.0, 0.0, 1.0, -1.5, -1.0)\"><path d=\"M 0.0 0.0 L 3.0 0.0 L 3.0 1.0 L 0.0 1.0 L 0.0 0.0 Z\" style=\"vector-effect: non-scaling-stroke;\" /></g><g transform=\"matrix(1.0, 0.0, 0.0, 1.0, 0.0, 1.05)\"><g transform=\"matrix(0.0, -1.0, 1.0, 0.0, 0.0, 0.0)\"><g /></g></g><g transform=\"matrix(1.0, 0.0, 0.0, 1.0, 0.0, 2.05)\"><g><g style=\"stroke: black;stroke-width: 3.6;\" transform=\"matrix(1.0, 0.0, 0.0, 1.0, -0.75, 0.0)\"><path d=\"M 0.0 0.0 L 1.5 0.0 L 1.5 1.05 L 0.0 1.05 L 0.0 0.0 Z\" style=\"vector-effect: non-scaling-stroke;\" /></g><g style=\"stroke: black;stroke-width: 3.6;\" transform=\"matrix(1.0, 0.0, 0.0, 1.0, -1.5, -1.0)\"><path d=\"M 0.0 0.0 L 3.0 0.0 L 3.0 1.0 L 0.0 1.0 L 0.0 0.0 Z\" style=\"vector-effect: non-scaling-stroke;\" /></g></g></g></g></g><g /><g /><g /><g transform=\"matrix(1.0, 0.0, 0.0, 1.0, 0.0, 1.05)\"><g transform=\"matrix(0.0, -1.0, 1.0, 0.0, 0.0, 0.0)\"><g /></g></g><g transform=\"matrix(1.0, 0.0, 0.0, 1.0, 0.0, 2.05)\"><g><g /><g /><g /><g transform=\"matrix(1.0, 0.0, 0.0, 1.0, 0.0, 1.05)\"><g transform=\"matrix(0.0, -1.0, 1.0, 0.0, 0.0, 0.0)\"><g /></g></g><g transform=\"matrix(1.0, 0.0, 0.0, 1.0, 0.0, 2.05)\"><g><g /><g style=\"fill: #008000;stroke: #ffffff;stroke-width: 0.18;\" transform=\"matrix(1.0, 0.0, 0.0, 1.0, -1.5, -1.0)\"><path d=\"M 0.0 0.0 L 3.0 0.0 L 3.0 1.0 L 0.0 1.0 L 0.0 0.0 Z\" style=\"vector-effect: non-scaling-stroke;\" /></g><g /></g></g></g></g><g /><g /><g /><g transform=\"matrix(1.0, 0.0, 0.0, 1.0, 0.0, 1.05)\"><g transform=\"matrix(0.0, -1.0, 1.0, 0.0, 0.0, 0.0)\"><g /></g></g><g transform=\"matrix(1.0, 0.0, 0.0, 1.0, 0.0, 2.05)\"><g><g /><g style=\"fill: #bfbf00;stroke: #ffffff;stroke-width: 0.18;\" transform=\"matrix(1.0, 0.0, 0.0, 1.0, -1.5, -1.0)\"><path d=\"M 0.0 0.0 L 3.0 0.0 L 3.0 1.0 L 0.0 1.0 L 0.0 0.0 Z\" style=\"vector-effect: non-scaling-stroke;\" /></g><g /><g transform=\"matrix(1.0, 0.0, 0.0, 1.0, 0.0, 1.05)\"><g transform=\"matrix(0.0, -1.0, 1.0, 0.0, 0.0, 0.0)\"><g /></g></g><g transform=\"matrix(1.0, 0.0, 0.0, 1.0, 0.0, 2.05)\"><g><g /><g /><g /></g></g></g></g></g></g><g /></g></g></g></g></svg>"
          },
          "metadata": {},
          "execution_count": 17
        }
      ],
      "source": [
        "# We can complete the tests by setting these as the final weights and calling check.\n",
        "model.set_final_weight(0, weights[0])\n",
        "model.set_final_weight(1, weights[1])\n",
        "Model.check([model])\n",
        "draw_group(model.final_weights)"
      ]
    },
    {
      "cell_type": "code",
      "execution_count": 18,
      "id": "7b2f0a3b",
      "metadata": {
        "id": "7b2f0a3b",
        "outputId": "70fe49f0-fdfe-478c-da99-57a89635f500",
        "colab": {
          "base_uri": "https://localhost:8080/",
          "height": 457
        }
      },
      "outputs": [
        {
          "output_type": "stream",
          "name": "stdout",
          "text": [
            "Timesteps: 8.5 \n",
            "Maximum Memory: 3407872.0 at GPU: 0 time: 8\n"
          ]
        },
        {
          "output_type": "execute_result",
          "data": {
            "text/plain": [
              "Compose(envelope=<chalk.envelope.Envelope object at 0x7dd8e4aadcf0>, diagrams=[Primitive(shape=Path(loc_trails=[Located(trail=Trail(segments=[Segment(offset=Vec2(1.5, 0.0), origin=Vec2(0.0, 0.0)), Segment(offset=Vec2(0.0, 8.0), origin=Vec2(0.0, 0.0)), Segment(offset=Vec2(-1.5, 0.0), origin=Vec2(0.0, 0.0)), Segment(offset=Vec2(0.0, -8.0), origin=Vec2(0.0, 0.0))], closed=True), location=Vec2(0.0, 0.0))]), style=Style(line_width_=(<WidthType.NORMALIZED: 2>, 0), line_color_=None, fill_color_=None, fill_opacity_=None, dashing_=None, output_size=None), transform=Affine(1.0, 0.0, -0.75,\n",
              "       0.0, 1.0, -4.0)), ApplyTransform(transform=Affine(1.0, 0.0, -4.0,\n",
              "       0.0, 1.0, -0.25), diagram=ApplyTransform(transform=Affine(0.5, 0.0, 0.0,\n",
              "       0.0, 0.5, 0.0), diagram=Compose(envelope=<chalk.envelope.Envelope object at 0x7dd8e4aacdf0>, diagrams=[Empty(), Primitive(shape=Path(loc_trails=[Located(trail=Trail(segments=[Segment(offset=Vec2(19.0, 0.0), origin=Vec2(0.0, 0.0)), Segment(offset=Vec2(0.0, 1.0), origin=Vec2(0.0, 0.0)), Segment(offset=Vec2(-19.0, 0.0), origin=Vec2(0.0, 0.0)), Segment(offset=Vec2(0.0, -1.0), origin=Vec2(0.0, 0.0))], closed=True), location=Vec2(0.0, 0.0))]), style=Style(line_width_=None, line_color_=None, fill_color_=<Color LightGray>, fill_opacity_=None, dashing_=None, output_size=None), transform=Affine(1.0, 0.0, 0.0,\n",
              "       0.0, 1.0, -0.5)), ApplyStyle(style=Style(line_width_=None, line_color_=None, fill_color_=<Color orange>, fill_opacity_=None, dashing_=None, output_size=None), diagram=ApplyTransform(transform=Affine(1.0, 0.0, -2.0,\n",
              "       0.0, 1.0, 0.0), diagram=Compose(envelope=<chalk.envelope.Envelope object at 0x7dd8e4be3010>, diagrams=[Primitive(shape=Text(text='0', font_size=1), style=Style(line_width_=(<WidthType.NORMALIZED: 2>, 0), line_color_=None, fill_color_=None, fill_opacity_=None, dashing_=None, output_size=None), transform=Affine(1.0, 0.0, 0.0,\n",
              "       0.0, 1.0, 0.0)), Empty()]))), ApplyStyle(style=Style(line_width_=None, line_color_=None, fill_color_=<Color green>, fill_opacity_=None, dashing_=None, output_size=None), diagram=ApplyTransform(transform=Affine(1.0, 0.0, 0.0,\n",
              "       0.0, 1.0, 0.0), diagram=ApplyTransform(transform=Affine(1.0, 0.0, 1.975,\n",
              "       0.0, 1.0, 0.0), diagram=Compose(envelope=<chalk.envelope.Envelope object at 0x7dd8e4a26110>, diagrams=[Primitive(shape=Path(loc_trails=[Located(trail=Trail(segments=[Segment(offset=Vec2(3.95, 0.0), origin=Vec2(0.0, 0.0)), Segment(offset=Vec2(0.0, 0.9), origin=Vec2(0.0, 0.0)), Segment(offset=Vec2(-3.95, 0.0), origin=Vec2(0.0, 0.0)), Segment(offset=Vec2(0.0, -0.9), origin=Vec2(0.0, 0.0))], closed=True), location=Vec2(0.0, 0.0))]), style=Style(line_width_=(<WidthType.NORMALIZED: 2>, 0), line_color_=None, fill_color_=None, fill_opacity_=None, dashing_=None, output_size=None), transform=Affine(1.0, 0.0, -1.975,\n",
              "       0.0, 1.0, -0.45)), Primitive(shape=Text(text='2 3', font_size=0.9), style=Style(line_width_=(<WidthType.NORMALIZED: 2>, 0.05), line_color_=None, fill_color_=<Color black>, fill_opacity_=None, dashing_=None, output_size=None), transform=Affine(1.0, 0.0, 0.0,\n",
              "       0.0, 1.0, 0.1))])))), ApplyStyle(style=Style(line_width_=None, line_color_=None, fill_color_=<Color #bfbf00>, fill_opacity_=None, dashing_=None, output_size=None), diagram=ApplyTransform(transform=Affine(1.0, 0.0, 4.0,\n",
              "       0.0, 1.0, 0.0), diagram=ApplyTransform(transform=Affine(1.0, 0.0, 1.975,\n",
              "       0.0, 1.0, 0.0), diagram=Compose(envelope=<chalk.envelope.Envelope object at 0x7dd8e4bf3e20>, diagrams=[Primitive(shape=Path(loc_trails=[Located(trail=Trail(segments=[Segment(offset=Vec2(3.95, 0.0), origin=Vec2(0.0, 0.0)), Segment(offset=Vec2(0.0, 0.9), origin=Vec2(0.0, 0.0)), Segment(offset=Vec2(-3.95, 0.0), origin=Vec2(0.0, 0.0)), Segment(offset=Vec2(0.0, -0.9), origin=Vec2(0.0, 0.0))], closed=True), location=Vec2(0.0, 0.0))]), style=Style(line_width_=(<WidthType.NORMALIZED: 2>, 0), line_color_=None, fill_color_=None, fill_opacity_=None, dashing_=None, output_size=None), transform=Affine(1.0, 0.0, -1.975,\n",
              "       0.0, 1.0, -0.45)), Primitive(shape=Text(text='2 3', font_size=0.9), style=Style(line_width_=(<WidthType.NORMALIZED: 2>, 0.05), line_color_=None, fill_color_=<Color black>, fill_opacity_=None, dashing_=None, output_size=None), transform=Affine(1.0, 0.0, 0.0,\n",
              "       0.0, 1.0, 0.1))])))), ApplyStyle(style=Style(line_width_=None, line_color_=None, fill_color_=None, fill_opacity_=0.2, dashing_=None, output_size=None), diagram=ApplyStyle(style=Style(line_width_=None, line_color_=None, fill_color_=<Color #bfbf00>, fill_opacity_=None, dashing_=None, output_size=None), diagram=ApplyTransform(transform=Affine(1.0, 0.0, 8.0,\n",
              "       0.0, 1.0, 0.0), diagram=ApplyTransform(transform=Affine(1.0, 0.0, 1.975,\n",
              "       0.0, 1.0, 0.0), diagram=Compose(envelope=<chalk.envelope.Envelope object at 0x7dd8e4a676d0>, diagrams=[Primitive(shape=Path(loc_trails=[Located(trail=Trail(segments=[Segment(offset=Vec2(3.95, 0.0), origin=Vec2(0.0, 0.0)), Segment(offset=Vec2(0.0, 0.9), origin=Vec2(0.0, 0.0)), Segment(offset=Vec2(-3.95, 0.0), origin=Vec2(0.0, 0.0)), Segment(offset=Vec2(0.0, -0.9), origin=Vec2(0.0, 0.0))], closed=True), location=Vec2(0.0, 0.0))]), style=Style(line_width_=(<WidthType.NORMALIZED: 2>, 0), line_color_=None, fill_color_=None, fill_opacity_=None, dashing_=None, output_size=None), transform=Affine(1.0, 0.0, -1.975,\n",
              "       0.0, 1.0, -0.45)), Primitive(shape=Text(text='2 3', font_size=0.9), style=Style(line_width_=(<WidthType.NORMALIZED: 2>, 0.05), line_color_=None, fill_color_=<Color black>, fill_opacity_=None, dashing_=None, output_size=None), transform=Affine(1.0, 0.0, 0.0,\n",
              "       0.0, 1.0, 0.1))]))))), ApplyStyle(style=Style(line_width_=None, line_color_=None, fill_color_=None, fill_opacity_=0.2, dashing_=None, output_size=None), diagram=ApplyStyle(style=Style(line_width_=None, line_color_=None, fill_color_=<Color green>, fill_opacity_=None, dashing_=None, output_size=None), diagram=ApplyTransform(transform=Affine(1.0, 0.0, 12.0,\n",
              "       0.0, 1.0, 0.0), diagram=ApplyTransform(transform=Affine(1.0, 0.0, 1.975,\n",
              "       0.0, 1.0, 0.0), diagram=Compose(envelope=<chalk.envelope.Envelope object at 0x7dd8e4a78e20>, diagrams=[Primitive(shape=Path(loc_trails=[Located(trail=Trail(segments=[Segment(offset=Vec2(3.95, 0.0), origin=Vec2(0.0, 0.0)), Segment(offset=Vec2(0.0, 0.9), origin=Vec2(0.0, 0.0)), Segment(offset=Vec2(-3.95, 0.0), origin=Vec2(0.0, 0.0)), Segment(offset=Vec2(0.0, -0.9), origin=Vec2(0.0, 0.0))], closed=True), location=Vec2(0.0, 0.0))]), style=Style(line_width_=(<WidthType.NORMALIZED: 2>, 0), line_color_=None, fill_color_=None, fill_opacity_=None, dashing_=None, output_size=None), transform=Affine(1.0, 0.0, -1.975,\n",
              "       0.0, 1.0, -0.45)), Primitive(shape=Text(text='2 3', font_size=0.9), style=Style(line_width_=(<WidthType.NORMALIZED: 2>, 0.05), line_color_=None, fill_color_=<Color black>, fill_opacity_=None, dashing_=None, output_size=None), transform=Affine(1.0, 0.0, 0.0,\n",
              "       0.0, 1.0, 0.1))]))))), ApplyStyle(style=Style(line_width_=None, line_color_=None, fill_color_=None, fill_opacity_=0.5, dashing_=None, output_size=None), diagram=ApplyStyle(style=Style(line_width_=None, line_color_=None, fill_color_=<Color yellow>, fill_opacity_=None, dashing_=None, output_size=None), diagram=ApplyTransform(transform=Affine(1.0, 0.0, 16.0,\n",
              "       0.0, 1.0, 0.0), diagram=ApplyTransform(transform=Affine(1.0, 0.0, 0.475,\n",
              "       0.0, 1.0, 0.0), diagram=Compose(envelope=<chalk.envelope.Envelope object at 0x7dd8e4a7a590>, diagrams=[Primitive(shape=Path(loc_trails=[Located(trail=Trail(segments=[Segment(offset=Vec2(0.95, 0.0), origin=Vec2(0.0, 0.0)), Segment(offset=Vec2(0.0, 0.9), origin=Vec2(0.0, 0.0)), Segment(offset=Vec2(-0.95, 0.0), origin=Vec2(0.0, 0.0)), Segment(offset=Vec2(0.0, -0.9), origin=Vec2(0.0, 0.0))], closed=True), location=Vec2(0.0, 0.0))]), style=Style(line_width_=(<WidthType.NORMALIZED: 2>, 0), line_color_=None, fill_color_=None, fill_opacity_=None, dashing_=None, output_size=None), transform=Affine(1.0, 0.0, -0.475,\n",
              "       0.0, 1.0, -0.45)), Primitive(shape=Text(text='', font_size=0.9), style=Style(line_width_=(<WidthType.NORMALIZED: 2>, 0.05), line_color_=None, fill_color_=<Color black>, fill_opacity_=None, dashing_=None, output_size=None), transform=Affine(1.0, 0.0, 0.0,\n",
              "       0.0, 1.0, 0.1))]))))), ApplyStyle(style=Style(line_width_=None, line_color_=None, fill_color_=None, fill_opacity_=0.5, dashing_=None, output_size=None), diagram=ApplyStyle(style=Style(line_width_=None, line_color_=None, fill_color_=<Color yellow>, fill_opacity_=None, dashing_=None, output_size=None), diagram=ApplyTransform(transform=Affine(1.0, 0.0, 17.0,\n",
              "       0.0, 1.0, 0.0), diagram=ApplyTransform(transform=Affine(1.0, 0.0, 0.475,\n",
              "       0.0, 1.0, 0.0), diagram=Compose(envelope=<chalk.envelope.Envelope object at 0x7dd8e4a7bd90>, diagrams=[Primitive(shape=Path(loc_trails=[Located(trail=Trail(segments=[Segment(offset=Vec2(0.95, 0.0), origin=Vec2(0.0, 0.0)), Segment(offset=Vec2(0.0, 0.9), origin=Vec2(0.0, 0.0)), Segment(offset=Vec2(-0.95, 0.0), origin=Vec2(0.0, 0.0)), Segment(offset=Vec2(0.0, -0.9), origin=Vec2(0.0, 0.0))], closed=True), location=Vec2(0.0, 0.0))]), style=Style(line_width_=(<WidthType.NORMALIZED: 2>, 0), line_color_=None, fill_color_=None, fill_opacity_=None, dashing_=None, output_size=None), transform=Affine(1.0, 0.0, -0.475,\n",
              "       0.0, 1.0, -0.45)), Primitive(shape=Text(text='', font_size=0.9), style=Style(line_width_=(<WidthType.NORMALIZED: 2>, 0.05), line_color_=None, fill_color_=<Color black>, fill_opacity_=None, dashing_=None, output_size=None), transform=Affine(1.0, 0.0, 0.0,\n",
              "       0.0, 1.0, 0.1))]))))), ApplyTransform(transform=Affine(1.0, 0.0, 0.0,\n",
              "       0.0, 1.0, 0.5), diagram=ApplyTransform(transform=Affine(0.0, 1.0, 0.0,\n",
              "       -1.0, 0.0, 0.0), diagram=Empty())), ApplyTransform(transform=Affine(1.0, 0.0, 0.0,\n",
              "       0.0, 1.0, 0.5), diagram=Empty()), ApplyTransform(transform=Affine(1.0, 0.0, 0.0,\n",
              "       0.0, 1.0, 0.5), diagram=ApplyTransform(transform=Affine(0.0, 1.0, 0.0,\n",
              "       -1.0, 0.0, 0.0), diagram=Empty())), ApplyTransform(transform=Affine(1.0, 0.0, 0.0,\n",
              "       0.0, 1.0, 1.5), diagram=Compose(envelope=<chalk.envelope.Envelope object at 0x7dd8e4aac6d0>, diagrams=[ApplyTransform(transform=Affine(1.0, 0.0, -0.0,\n",
              "       0.0, 1.0, -0.0), diagram=Compose(envelope=<chalk.envelope.Envelope object at 0x7dd8e4aa19c0>, diagrams=[ApplyTransform(transform=Affine(1.0, 0.0, -0.0,\n",
              "       0.0, 1.0, -0.0), diagram=Compose(envelope=<chalk.envelope.Envelope object at 0x7dd8e4aa0850>, diagrams=[ApplyTransform(transform=Affine(1.0, 0.0, -0.0,\n",
              "       0.0, 1.0, -0.0), diagram=Compose(envelope=<chalk.envelope.Envelope object at 0x7dd8e4a933d0>, diagrams=[ApplyTransform(transform=Affine(1.0, 0.0, -0.0,\n",
              "       0.0, 1.0, -0.0), diagram=Compose(envelope=<chalk.envelope.Envelope object at 0x7dd8e4a92320>, diagrams=[ApplyTransform(transform=Affine(1.0, 0.0, -0.0,\n",
              "       0.0, 1.0, -0.0), diagram=Compose(envelope=<chalk.envelope.Envelope object at 0x7dd8e4a915d0>, diagrams=[ApplyTransform(transform=Affine(1.0, 0.0, -0.0,\n",
              "       0.0, 1.0, -0.0), diagram=Compose(envelope=<chalk.envelope.Envelope object at 0x7dd8e4a90490>, diagrams=[ApplyTransform(transform=Affine(1.0, 0.0, -0.0,\n",
              "       0.0, 1.0, -0.0), diagram=Compose(envelope=<chalk.envelope.Envelope object at 0x7dd8e4a8b820>, diagrams=[ApplyTransform(transform=Affine(1.0, 0.0, -0.0,\n",
              "       0.0, 1.0, -0.5), diagram=Compose(envelope=<chalk.envelope.Envelope object at 0x7dd8e4a8a980>, diagrams=[Primitive(shape=Path(loc_trails=[Located(trail=Trail(segments=[Segment(offset=Vec2(19.0, 0.0), origin=Vec2(0.0, 0.0)), Segment(offset=Vec2(0.0, 1.0), origin=Vec2(0.0, 0.0)), Segment(offset=Vec2(-19.0, 0.0), origin=Vec2(0.0, 0.0)), Segment(offset=Vec2(0.0, -1.0), origin=Vec2(0.0, 0.0))], closed=True), location=Vec2(0.0, 0.0))]), style=Style(line_width_=None, line_color_=None, fill_color_=<Color white>, fill_opacity_=None, dashing_=None, output_size=None), transform=Affine(1.0, 0.0, 0.0,\n",
              "       0.0, 1.0, -0.5)), ApplyStyle(style=Style(line_width_=None, line_color_=None, fill_color_=<Color gray>, fill_opacity_=None, dashing_=None, output_size=None), diagram=ApplyTransform(transform=Affine(1.0, 0.0, -2.0,\n",
              "       0.0, 1.0, 0.0), diagram=Compose(envelope=<chalk.envelope.Envelope object at 0x7dd8e4a89d80>, diagrams=[Primitive(shape=Text(text='0', font_size=1), style=Style(line_width_=(<WidthType.NORMALIZED: 2>, 0), line_color_=None, fill_color_=None, fill_opacity_=None, dashing_=None, output_size=None), transform=Affine(1.0, 0.0, 0.0,\n",
              "       0.0, 1.0, 0.0)), Empty()])))])), Primitive(shape=Path(loc_trails=[Located(trail=Trail(segments=[Segment(offset=Vec2(4.0, 0.0), origin=Vec2(0.0, 0.0)), Segment(offset=Vec2(0.0, 0.2564102564102564), origin=Vec2(0.0, 0.0)), Segment(offset=Vec2(-4.0, 0.0), origin=Vec2(0.0, 0.0)), Segment(offset=Vec2(0.0, -0.2564102564102564), origin=Vec2(0.0, 0.0))], closed=True), location=Vec2(0.0, 0.0))]), style=Style(line_width_=(<WidthType.NORMALIZED: 2>, 0), line_color_=None, fill_color_=<Color gray>, fill_opacity_=None, dashing_=None, output_size=None), transform=Affine(1.0, 0.0, 0.0,\n",
              "       0.0, 1.0, -0.2564102564102564))])), Primitive(shape=Path(loc_trails=[Located(trail=Trail(segments=[Segment(offset=Vec2(4.0, 0.0), origin=Vec2(0.0, 0.0)), Segment(offset=Vec2(0.0, 0.3076923076923077), origin=Vec2(0.0, 0.0)), Segment(offset=Vec2(-4.0, 0.0), origin=Vec2(0.0, 0.0)), Segment(offset=Vec2(0.0, -0.3076923076923077), origin=Vec2(0.0, 0.0))], closed=True), location=Vec2(0.0, 0.0))]), style=Style(line_width_=(<WidthType.NORMALIZED: 2>, 0), line_color_=None, fill_color_=<Color gray>, fill_opacity_=None, dashing_=None, output_size=None), transform=Affine(1.0, 0.0, 4.0,\n",
              "       0.0, 1.0, -0.3076923076923077))])), Primitive(shape=Path(loc_trails=[Located(trail=Trail(segments=[Segment(offset=Vec2(0.0, 0.0), origin=Vec2(0.0, 0.0)), Segment(offset=Vec2(0.0, 0.358974358974359), origin=Vec2(0.0, 0.0)), Segment(offset=Vec2(0.0, 0.0), origin=Vec2(0.0, 0.0)), Segment(offset=Vec2(0.0, -0.358974358974359), origin=Vec2(0.0, 0.0))], closed=True), location=Vec2(0.0, 0.0))]), style=Style(line_width_=(<WidthType.NORMALIZED: 2>, 0), line_color_=None, fill_color_=<Color gray>, fill_opacity_=None, dashing_=None, output_size=None), transform=Affine(1.0, 0.0, 8.0,\n",
              "       0.0, 1.0, -0.358974358974359))])), Primitive(shape=Path(loc_trails=[Located(trail=Trail(segments=[Segment(offset=Vec2(0.0, 0.0), origin=Vec2(0.0, 0.0)), Segment(offset=Vec2(0.0, 0.41025641025641024), origin=Vec2(0.0, 0.0)), Segment(offset=Vec2(0.0, 0.0), origin=Vec2(0.0, 0.0)), Segment(offset=Vec2(0.0, -0.41025641025641024), origin=Vec2(0.0, 0.0))], closed=True), location=Vec2(0.0, 0.0))]), style=Style(line_width_=(<WidthType.NORMALIZED: 2>, 0), line_color_=None, fill_color_=<Color gray>, fill_opacity_=None, dashing_=None, output_size=None), transform=Affine(1.0, 0.0, 8.0,\n",
              "       0.0, 1.0, -0.41025641025641024))])), Primitive(shape=Path(loc_trails=[Located(trail=Trail(segments=[Segment(offset=Vec2(4.0, 0.0), origin=Vec2(0.0, 0.0)), Segment(offset=Vec2(0.0, 0.41025641025641024), origin=Vec2(0.0, 0.0)), Segment(offset=Vec2(-4.0, 0.0), origin=Vec2(0.0, 0.0)), Segment(offset=Vec2(0.0, -0.41025641025641024), origin=Vec2(0.0, 0.0))], closed=True), location=Vec2(0.0, 0.0))]), style=Style(line_width_=(<WidthType.NORMALIZED: 2>, 0), line_color_=None, fill_color_=<Color gray>, fill_opacity_=None, dashing_=None, output_size=None), transform=Affine(1.0, 0.0, 8.0,\n",
              "       0.0, 1.0, -0.41025641025641024))])), Primitive(shape=Path(loc_trails=[Located(trail=Trail(segments=[Segment(offset=Vec2(4.0, 0.0), origin=Vec2(0.0, 0.0)), Segment(offset=Vec2(0.0, 0.5128205128205128), origin=Vec2(0.0, 0.0)), Segment(offset=Vec2(-4.0, 0.0), origin=Vec2(0.0, 0.0)), Segment(offset=Vec2(0.0, -0.5128205128205128), origin=Vec2(0.0, 0.0))], closed=True), location=Vec2(0.0, 0.0))]), style=Style(line_width_=(<WidthType.NORMALIZED: 2>, 0), line_color_=None, fill_color_=<Color gray>, fill_opacity_=None, dashing_=None, output_size=None), transform=Affine(1.0, 0.0, 12.0,\n",
              "       0.0, 1.0, -0.5128205128205128))])), Primitive(shape=Path(loc_trails=[Located(trail=Trail(segments=[Segment(offset=Vec2(1.0, 0.0), origin=Vec2(0.0, 0.0)), Segment(offset=Vec2(0.0, 0.6666666666666666), origin=Vec2(0.0, 0.0)), Segment(offset=Vec2(-1.0, 0.0), origin=Vec2(0.0, 0.0)), Segment(offset=Vec2(0.0, -0.6666666666666666), origin=Vec2(0.0, 0.0))], closed=True), location=Vec2(0.0, 0.0))]), style=Style(line_width_=(<WidthType.NORMALIZED: 2>, 0), line_color_=None, fill_color_=<Color gray>, fill_opacity_=None, dashing_=None, output_size=None), transform=Affine(1.0, 0.0, 16.0,\n",
              "       0.0, 1.0, -0.6666666666666666))])), Primitive(shape=Path(loc_trails=[Located(trail=Trail(segments=[Segment(offset=Vec2(1.0, 0.0), origin=Vec2(0.0, 0.0)), Segment(offset=Vec2(0.0, 0.6666666666666666), origin=Vec2(0.0, 0.0)), Segment(offset=Vec2(-1.0, 0.0), origin=Vec2(0.0, 0.0)), Segment(offset=Vec2(0.0, -0.6666666666666666), origin=Vec2(0.0, 0.0))], closed=True), location=Vec2(0.0, 0.0))]), style=Style(line_width_=(<WidthType.NORMALIZED: 2>, 0), line_color_=None, fill_color_=<Color gray>, fill_opacity_=None, dashing_=None, output_size=None), transform=Affine(1.0, 0.0, 17.0,\n",
              "       0.0, 1.0, -0.6666666666666666)), Primitive(shape=Path(loc_trails=[Located(trail=Trail(segments=[Segment(offset=Vec2(0.1, 0.0), origin=Vec2(0.0, 0.0)), Segment(offset=Vec2(0.0, 1.0), origin=Vec2(0.0, 0.0)), Segment(offset=Vec2(-0.1, 0.0), origin=Vec2(0.0, 0.0)), Segment(offset=Vec2(0.0, -1.0), origin=Vec2(0.0, 0.0))], closed=True), location=Vec2(0.0, 0.0))]), style=Style(line_width_=None, line_color_=<Color red>, fill_color_=None, fill_opacity_=None, dashing_=None, output_size=None), transform=Affine(1.0, 0.0, 15.95,\n",
              "       0.0, 1.0, -1.0)), ApplyTransform(transform=Affine(1.0, 0.0, 0.0,\n",
              "       0.0, 1.0, 0.0), diagram=ApplyTransform(transform=Affine(0.0, 1.0, 0.0,\n",
              "       -1.0, 0.0, 0.0), diagram=Empty())), ApplyTransform(transform=Affine(1.0, 0.0, 0.0,\n",
              "       0.0, 1.0, 0.0), diagram=Empty())]))])))])"
            ],
            "text/html": [
              "<?xml version=\"1.0\" encoding=\"utf-8\" ?>\n",
              "<svg baseProfile=\"full\" height=\"400\" version=\"1.1\" width=\"550\" xmlns=\"http://www.w3.org/2000/svg\" xmlns:ev=\"http://www.w3.org/2001/xml-events\" xmlns:xlink=\"http://www.w3.org/1999/xlink\"><defs><marker id=\"arrow\" markerHeight=\"3.5\" markerWidth=\"5\" orient=\"auto\" refX=\"5.0\" refY=\"1.7\"><polygon points=\"0,0 5,1.75 0,3.5\" /></marker></defs><g style=\"fill:white;\"><g transform=\"matrix(1.0, 0.0, 0.0, 1.0, 275.0, 200.0)\"><g transform=\"matrix(47.61904761904762, 0.0, 0.0, 47.61904761904762, 0.0, 0.0)\"><g><g transform=\"matrix(1.0, 0.0, 0.0, 1.0, -0.0, -0.0)\"><g><g style=\"stroke: black;stroke-width: 0.0;\" transform=\"matrix(1.0, 0.0, 0.0, 1.0, -0.75, -4.0)\"><path d=\"M 0.0 0.0 L 1.5 0.0 L 1.5 8.0 L 0.0 8.0 L 0.0 0.0 Z\" style=\"vector-effect: non-scaling-stroke;\" /></g><g transform=\"matrix(1.0, 0.0, 0.0, 1.0, -4.0, -0.25)\"><g transform=\"matrix(0.5, 0.0, 0.0, 0.5, 0.0, 0.0)\"><g><g /><g style=\"fill: #d3d3d3;stroke: black;stroke-width: 1.8;\" transform=\"matrix(1.0, 0.0, 0.0, 1.0, 0.0, -0.5)\"><path d=\"M 0.0 0.0 L 19.0 0.0 L 19.0 1.0 L 0.0 1.0 L 0.0 0.0 Z\" style=\"vector-effect: non-scaling-stroke;\" /></g><g transform=\"matrix(1.0, 0.0, 0.0, 1.0, -2.0, 0.0)\"><g><g style=\"fill: #ffa500;stroke: black;stroke-width: 0.0;\" transform=\"matrix(1.0, 0.0, 0.0, 1.0, 0.0, 0.0)\"><text style=\"text-align:center; text-anchor:middle; dominant-baseline:middle;&#10;                      font-family:sans-serif; font-weight: bold;&#10;                      font-size:1px;&#10;                      vector-effect: non-scaling-stroke;\" transform=\"translate(-5e-05, 0)\">0</text></g><g /></g></g><g transform=\"matrix(1.0, 0.0, 0.0, 1.0, 0.0, 0.0)\"><g transform=\"matrix(1.0, 0.0, 0.0, 1.0, 1.975, 0.0)\"><g><g style=\"fill: #008000;stroke: black;stroke-width: 0.0;\" transform=\"matrix(1.0, 0.0, 0.0, 1.0, -1.975, -0.45)\"><path d=\"M 0.0 0.0 L 3.95 0.0 L 3.95 0.9 L 0.0 0.9 L 0.0 0.0 Z\" style=\"vector-effect: non-scaling-stroke;\" /></g><g style=\"fill: #008000;stroke: black;stroke-width: 0.9;\" transform=\"matrix(1.0, 0.0, 0.0, 1.0, 0.0, 0.1)\"><text style=\"text-align:center; text-anchor:middle; dominant-baseline:middle;&#10;                      font-family:sans-serif; font-weight: bold;&#10;                      font-size:0.9px;&#10;                      vector-effect: non-scaling-stroke;\" transform=\"translate(-5e-05, 0)\">2 3</text></g></g></g></g><g transform=\"matrix(1.0, 0.0, 0.0, 1.0, 4.0, 0.0)\"><g transform=\"matrix(1.0, 0.0, 0.0, 1.0, 1.975, 0.0)\"><g><g style=\"fill: #bfbf00;stroke: black;stroke-width: 0.0;\" transform=\"matrix(1.0, 0.0, 0.0, 1.0, -1.975, -0.45)\"><path d=\"M 0.0 0.0 L 3.95 0.0 L 3.95 0.9 L 0.0 0.9 L 0.0 0.0 Z\" style=\"vector-effect: non-scaling-stroke;\" /></g><g style=\"fill: #bfbf00;stroke: black;stroke-width: 0.9;\" transform=\"matrix(1.0, 0.0, 0.0, 1.0, 0.0, 0.1)\"><text style=\"text-align:center; text-anchor:middle; dominant-baseline:middle;&#10;                      font-family:sans-serif; font-weight: bold;&#10;                      font-size:0.9px;&#10;                      vector-effect: non-scaling-stroke;\" transform=\"translate(-5e-05, 0)\">2 3</text></g></g></g></g><g transform=\"matrix(1.0, 0.0, 0.0, 1.0, 8.0, 0.0)\"><g transform=\"matrix(1.0, 0.0, 0.0, 1.0, 1.975, 0.0)\"><g><g style=\"fill: #bfbf00;stroke: black;stroke-width: 0.0;fill-opacity: 0.2;\" transform=\"matrix(1.0, 0.0, 0.0, 1.0, -1.975, -0.45)\"><path d=\"M 0.0 0.0 L 3.95 0.0 L 3.95 0.9 L 0.0 0.9 L 0.0 0.0 Z\" style=\"vector-effect: non-scaling-stroke;\" /></g><g style=\"fill: #bfbf00;stroke: black;stroke-width: 0.9;fill-opacity: 0.2;\" transform=\"matrix(1.0, 0.0, 0.0, 1.0, 0.0, 0.1)\"><text style=\"text-align:center; text-anchor:middle; dominant-baseline:middle;&#10;                      font-family:sans-serif; font-weight: bold;&#10;                      font-size:0.9px;&#10;                      vector-effect: non-scaling-stroke;\" transform=\"translate(-5e-05, 0)\">2 3</text></g></g></g></g><g transform=\"matrix(1.0, 0.0, 0.0, 1.0, 12.0, 0.0)\"><g transform=\"matrix(1.0, 0.0, 0.0, 1.0, 1.975, 0.0)\"><g><g style=\"fill: #008000;stroke: black;stroke-width: 0.0;fill-opacity: 0.2;\" transform=\"matrix(1.0, 0.0, 0.0, 1.0, -1.975, -0.45)\"><path d=\"M 0.0 0.0 L 3.95 0.0 L 3.95 0.9 L 0.0 0.9 L 0.0 0.0 Z\" style=\"vector-effect: non-scaling-stroke;\" /></g><g style=\"fill: #008000;stroke: black;stroke-width: 0.9;fill-opacity: 0.2;\" transform=\"matrix(1.0, 0.0, 0.0, 1.0, 0.0, 0.1)\"><text style=\"text-align:center; text-anchor:middle; dominant-baseline:middle;&#10;                      font-family:sans-serif; font-weight: bold;&#10;                      font-size:0.9px;&#10;                      vector-effect: non-scaling-stroke;\" transform=\"translate(-5e-05, 0)\">2 3</text></g></g></g></g><g transform=\"matrix(1.0, 0.0, 0.0, 1.0, 16.0, 0.0)\"><g transform=\"matrix(1.0, 0.0, 0.0, 1.0, 0.475, 0.0)\"><g><g style=\"fill: #ffff00;stroke: black;stroke-width: 0.0;fill-opacity: 0.5;\" transform=\"matrix(1.0, 0.0, 0.0, 1.0, -0.475, -0.45)\"><path d=\"M 0.0 0.0 L 0.95 0.0 L 0.95 0.9 L 0.0 0.9 L 0.0 0.0 Z\" style=\"vector-effect: non-scaling-stroke;\" /></g><g style=\"fill: #ffff00;stroke: black;stroke-width: 0.9;fill-opacity: 0.5;\" transform=\"matrix(1.0, 0.0, 0.0, 1.0, 0.0, 0.1)\"><text style=\"text-align:center; text-anchor:middle; dominant-baseline:middle;&#10;                      font-family:sans-serif; font-weight: bold;&#10;                      font-size:0.9px;&#10;                      vector-effect: non-scaling-stroke;\" transform=\"translate(-5e-05, 0)\" /></g></g></g></g><g transform=\"matrix(1.0, 0.0, 0.0, 1.0, 17.0, 0.0)\"><g transform=\"matrix(1.0, 0.0, 0.0, 1.0, 0.475, 0.0)\"><g><g style=\"fill: #ffff00;stroke: black;stroke-width: 0.0;fill-opacity: 0.5;\" transform=\"matrix(1.0, 0.0, 0.0, 1.0, -0.475, -0.45)\"><path d=\"M 0.0 0.0 L 0.95 0.0 L 0.95 0.9 L 0.0 0.9 L 0.0 0.0 Z\" style=\"vector-effect: non-scaling-stroke;\" /></g><g style=\"fill: #ffff00;stroke: black;stroke-width: 0.9;fill-opacity: 0.5;\" transform=\"matrix(1.0, 0.0, 0.0, 1.0, 0.0, 0.1)\"><text style=\"text-align:center; text-anchor:middle; dominant-baseline:middle;&#10;                      font-family:sans-serif; font-weight: bold;&#10;                      font-size:0.9px;&#10;                      vector-effect: non-scaling-stroke;\" transform=\"translate(-5e-05, 0)\" /></g></g></g></g><g transform=\"matrix(1.0, 0.0, 0.0, 1.0, 0.0, 0.5)\"><g transform=\"matrix(0.0, -1.0, 1.0, 0.0, 0.0, 0.0)\"><g /></g></g><g transform=\"matrix(1.0, 0.0, 0.0, 1.0, 0.0, 0.5)\"><g /></g><g transform=\"matrix(1.0, 0.0, 0.0, 1.0, 0.0, 0.5)\"><g transform=\"matrix(0.0, -1.0, 1.0, 0.0, 0.0, 0.0)\"><g /></g></g><g transform=\"matrix(1.0, 0.0, 0.0, 1.0, 0.0, 1.5)\"><g><g transform=\"matrix(1.0, 0.0, 0.0, 1.0, -0.0, -0.0)\"><g><g transform=\"matrix(1.0, 0.0, 0.0, 1.0, -0.0, -0.0)\"><g><g transform=\"matrix(1.0, 0.0, 0.0, 1.0, -0.0, -0.0)\"><g><g transform=\"matrix(1.0, 0.0, 0.0, 1.0, -0.0, -0.0)\"><g><g transform=\"matrix(1.0, 0.0, 0.0, 1.0, -0.0, -0.0)\"><g><g transform=\"matrix(1.0, 0.0, 0.0, 1.0, -0.0, -0.0)\"><g><g transform=\"matrix(1.0, 0.0, 0.0, 1.0, -0.0, -0.0)\"><g><g transform=\"matrix(1.0, 0.0, 0.0, 1.0, -0.0, -0.5)\"><g><g style=\"fill: #ffffff;stroke: black;stroke-width: 1.8;\" transform=\"matrix(1.0, 0.0, 0.0, 1.0, 0.0, -0.5)\"><path d=\"M 0.0 0.0 L 19.0 0.0 L 19.0 1.0 L 0.0 1.0 L 0.0 0.0 Z\" style=\"vector-effect: non-scaling-stroke;\" /></g><g transform=\"matrix(1.0, 0.0, 0.0, 1.0, -2.0, 0.0)\"><g><g style=\"fill: #808080;stroke: black;stroke-width: 0.0;\" transform=\"matrix(1.0, 0.0, 0.0, 1.0, 0.0, 0.0)\"><text style=\"text-align:center; text-anchor:middle; dominant-baseline:middle;&#10;                      font-family:sans-serif; font-weight: bold;&#10;                      font-size:1px;&#10;                      vector-effect: non-scaling-stroke;\" transform=\"translate(-5e-05, 0)\">0</text></g><g /></g></g></g></g><g style=\"fill: #808080;stroke: black;stroke-width: 0.0;\" transform=\"matrix(1.0, 0.0, 0.0, 1.0, 0.0, -0.2564102564102564)\"><path d=\"M 0.0 0.0 L 4.0 0.0 L 4.0 0.2564102564102564 L 0.0 0.2564102564102564 L 0.0 0.0 Z\" style=\"vector-effect: non-scaling-stroke;\" /></g></g></g><g style=\"fill: #808080;stroke: black;stroke-width: 0.0;\" transform=\"matrix(1.0, 0.0, 0.0, 1.0, 4.0, -0.3076923076923077)\"><path d=\"M 0.0 0.0 L 4.0 0.0 L 4.0 0.3076923076923077 L 0.0 0.3076923076923077 L 0.0 0.0 Z\" style=\"vector-effect: non-scaling-stroke;\" /></g></g></g><g style=\"fill: #808080;stroke: black;stroke-width: 0.0;\" transform=\"matrix(1.0, 0.0, 0.0, 1.0, 8.0, -0.358974358974359)\"><path d=\"M 0.0 0.0 L 0.0 0.0 L 0.0 0.358974358974359 L 0.0 0.358974358974359 L 0.0 0.0 Z\" style=\"vector-effect: non-scaling-stroke;\" /></g></g></g><g style=\"fill: #808080;stroke: black;stroke-width: 0.0;\" transform=\"matrix(1.0, 0.0, 0.0, 1.0, 8.0, -0.41025641025641024)\"><path d=\"M 0.0 0.0 L 0.0 0.0 L 0.0 0.41025641025641024 L 0.0 0.41025641025641024 L 0.0 0.0 Z\" style=\"vector-effect: non-scaling-stroke;\" /></g></g></g><g style=\"fill: #808080;stroke: black;stroke-width: 0.0;\" transform=\"matrix(1.0, 0.0, 0.0, 1.0, 8.0, -0.41025641025641024)\"><path d=\"M 0.0 0.0 L 4.0 0.0 L 4.0 0.41025641025641024 L 0.0 0.41025641025641024 L 0.0 0.0 Z\" style=\"vector-effect: non-scaling-stroke;\" /></g></g></g><g style=\"fill: #808080;stroke: black;stroke-width: 0.0;\" transform=\"matrix(1.0, 0.0, 0.0, 1.0, 12.0, -0.5128205128205128)\"><path d=\"M 0.0 0.0 L 4.0 0.0 L 4.0 0.5128205128205128 L 0.0 0.5128205128205128 L 0.0 0.0 Z\" style=\"vector-effect: non-scaling-stroke;\" /></g></g></g><g style=\"fill: #808080;stroke: black;stroke-width: 0.0;\" transform=\"matrix(1.0, 0.0, 0.0, 1.0, 16.0, -0.6666666666666666)\"><path d=\"M 0.0 0.0 L 1.0 0.0 L 1.0 0.6666666666666666 L 0.0 0.6666666666666666 L 0.0 0.0 Z\" style=\"vector-effect: non-scaling-stroke;\" /></g></g></g><g style=\"fill: #808080;stroke: black;stroke-width: 0.0;\" transform=\"matrix(1.0, 0.0, 0.0, 1.0, 17.0, -0.6666666666666666)\"><path d=\"M 0.0 0.0 L 1.0 0.0 L 1.0 0.6666666666666666 L 0.0 0.6666666666666666 L 0.0 0.0 Z\" style=\"vector-effect: non-scaling-stroke;\" /></g><g style=\"stroke: #ff0000;stroke-width: 1.8;\" transform=\"matrix(1.0, 0.0, 0.0, 1.0, 15.95, -1.0)\"><path d=\"M 0.0 0.0 L 0.1 0.0 L 0.1 1.0 L 0.0 1.0 L 0.0 0.0 Z\" style=\"vector-effect: non-scaling-stroke;\" /></g><g transform=\"matrix(1.0, 0.0, 0.0, 1.0, 0.0, 0.0)\"><g transform=\"matrix(0.0, -1.0, 1.0, 0.0, 0.0, 0.0)\"><g /></g></g><g transform=\"matrix(1.0, 0.0, 0.0, 1.0, 0.0, 0.0)\"><g /></g></g></g></g></g></g></g></g><g /></g></g></g></g></svg>"
            ],
            "image/svg+xml": "<?xml version=\"1.0\" encoding=\"utf-8\" ?>\n<svg baseProfile=\"full\" height=\"400\" version=\"1.1\" width=\"550\" xmlns=\"http://www.w3.org/2000/svg\" xmlns:ev=\"http://www.w3.org/2001/xml-events\" xmlns:xlink=\"http://www.w3.org/1999/xlink\"><defs><marker id=\"arrow\" markerHeight=\"3.5\" markerWidth=\"5\" orient=\"auto\" refX=\"5.0\" refY=\"1.7\"><polygon points=\"0,0 5,1.75 0,3.5\" /></marker></defs><g style=\"fill:white;\"><g transform=\"matrix(1.0, 0.0, 0.0, 1.0, 275.0, 200.0)\"><g transform=\"matrix(47.61904761904762, 0.0, 0.0, 47.61904761904762, 0.0, 0.0)\"><g><g transform=\"matrix(1.0, 0.0, 0.0, 1.0, -0.0, -0.0)\"><g><g style=\"stroke: black;stroke-width: 0.0;\" transform=\"matrix(1.0, 0.0, 0.0, 1.0, -0.75, -4.0)\"><path d=\"M 0.0 0.0 L 1.5 0.0 L 1.5 8.0 L 0.0 8.0 L 0.0 0.0 Z\" style=\"vector-effect: non-scaling-stroke;\" /></g><g transform=\"matrix(1.0, 0.0, 0.0, 1.0, -4.0, -0.25)\"><g transform=\"matrix(0.5, 0.0, 0.0, 0.5, 0.0, 0.0)\"><g><g /><g style=\"fill: #d3d3d3;stroke: black;stroke-width: 1.8;\" transform=\"matrix(1.0, 0.0, 0.0, 1.0, 0.0, -0.5)\"><path d=\"M 0.0 0.0 L 19.0 0.0 L 19.0 1.0 L 0.0 1.0 L 0.0 0.0 Z\" style=\"vector-effect: non-scaling-stroke;\" /></g><g transform=\"matrix(1.0, 0.0, 0.0, 1.0, -2.0, 0.0)\"><g><g style=\"fill: #ffa500;stroke: black;stroke-width: 0.0;\" transform=\"matrix(1.0, 0.0, 0.0, 1.0, 0.0, 0.0)\"><text style=\"text-align:center; text-anchor:middle; dominant-baseline:middle;&#10;                      font-family:sans-serif; font-weight: bold;&#10;                      font-size:1px;&#10;                      vector-effect: non-scaling-stroke;\" transform=\"translate(-5e-05, 0)\">0</text></g><g /></g></g><g transform=\"matrix(1.0, 0.0, 0.0, 1.0, 0.0, 0.0)\"><g transform=\"matrix(1.0, 0.0, 0.0, 1.0, 1.975, 0.0)\"><g><g style=\"fill: #008000;stroke: black;stroke-width: 0.0;\" transform=\"matrix(1.0, 0.0, 0.0, 1.0, -1.975, -0.45)\"><path d=\"M 0.0 0.0 L 3.95 0.0 L 3.95 0.9 L 0.0 0.9 L 0.0 0.0 Z\" style=\"vector-effect: non-scaling-stroke;\" /></g><g style=\"fill: #008000;stroke: black;stroke-width: 0.9;\" transform=\"matrix(1.0, 0.0, 0.0, 1.0, 0.0, 0.1)\"><text style=\"text-align:center; text-anchor:middle; dominant-baseline:middle;&#10;                      font-family:sans-serif; font-weight: bold;&#10;                      font-size:0.9px;&#10;                      vector-effect: non-scaling-stroke;\" transform=\"translate(-5e-05, 0)\">2 3</text></g></g></g></g><g transform=\"matrix(1.0, 0.0, 0.0, 1.0, 4.0, 0.0)\"><g transform=\"matrix(1.0, 0.0, 0.0, 1.0, 1.975, 0.0)\"><g><g style=\"fill: #bfbf00;stroke: black;stroke-width: 0.0;\" transform=\"matrix(1.0, 0.0, 0.0, 1.0, -1.975, -0.45)\"><path d=\"M 0.0 0.0 L 3.95 0.0 L 3.95 0.9 L 0.0 0.9 L 0.0 0.0 Z\" style=\"vector-effect: non-scaling-stroke;\" /></g><g style=\"fill: #bfbf00;stroke: black;stroke-width: 0.9;\" transform=\"matrix(1.0, 0.0, 0.0, 1.0, 0.0, 0.1)\"><text style=\"text-align:center; text-anchor:middle; dominant-baseline:middle;&#10;                      font-family:sans-serif; font-weight: bold;&#10;                      font-size:0.9px;&#10;                      vector-effect: non-scaling-stroke;\" transform=\"translate(-5e-05, 0)\">2 3</text></g></g></g></g><g transform=\"matrix(1.0, 0.0, 0.0, 1.0, 8.0, 0.0)\"><g transform=\"matrix(1.0, 0.0, 0.0, 1.0, 1.975, 0.0)\"><g><g style=\"fill: #bfbf00;stroke: black;stroke-width: 0.0;fill-opacity: 0.2;\" transform=\"matrix(1.0, 0.0, 0.0, 1.0, -1.975, -0.45)\"><path d=\"M 0.0 0.0 L 3.95 0.0 L 3.95 0.9 L 0.0 0.9 L 0.0 0.0 Z\" style=\"vector-effect: non-scaling-stroke;\" /></g><g style=\"fill: #bfbf00;stroke: black;stroke-width: 0.9;fill-opacity: 0.2;\" transform=\"matrix(1.0, 0.0, 0.0, 1.0, 0.0, 0.1)\"><text style=\"text-align:center; text-anchor:middle; dominant-baseline:middle;&#10;                      font-family:sans-serif; font-weight: bold;&#10;                      font-size:0.9px;&#10;                      vector-effect: non-scaling-stroke;\" transform=\"translate(-5e-05, 0)\">2 3</text></g></g></g></g><g transform=\"matrix(1.0, 0.0, 0.0, 1.0, 12.0, 0.0)\"><g transform=\"matrix(1.0, 0.0, 0.0, 1.0, 1.975, 0.0)\"><g><g style=\"fill: #008000;stroke: black;stroke-width: 0.0;fill-opacity: 0.2;\" transform=\"matrix(1.0, 0.0, 0.0, 1.0, -1.975, -0.45)\"><path d=\"M 0.0 0.0 L 3.95 0.0 L 3.95 0.9 L 0.0 0.9 L 0.0 0.0 Z\" style=\"vector-effect: non-scaling-stroke;\" /></g><g style=\"fill: #008000;stroke: black;stroke-width: 0.9;fill-opacity: 0.2;\" transform=\"matrix(1.0, 0.0, 0.0, 1.0, 0.0, 0.1)\"><text style=\"text-align:center; text-anchor:middle; dominant-baseline:middle;&#10;                      font-family:sans-serif; font-weight: bold;&#10;                      font-size:0.9px;&#10;                      vector-effect: non-scaling-stroke;\" transform=\"translate(-5e-05, 0)\">2 3</text></g></g></g></g><g transform=\"matrix(1.0, 0.0, 0.0, 1.0, 16.0, 0.0)\"><g transform=\"matrix(1.0, 0.0, 0.0, 1.0, 0.475, 0.0)\"><g><g style=\"fill: #ffff00;stroke: black;stroke-width: 0.0;fill-opacity: 0.5;\" transform=\"matrix(1.0, 0.0, 0.0, 1.0, -0.475, -0.45)\"><path d=\"M 0.0 0.0 L 0.95 0.0 L 0.95 0.9 L 0.0 0.9 L 0.0 0.0 Z\" style=\"vector-effect: non-scaling-stroke;\" /></g><g style=\"fill: #ffff00;stroke: black;stroke-width: 0.9;fill-opacity: 0.5;\" transform=\"matrix(1.0, 0.0, 0.0, 1.0, 0.0, 0.1)\"><text style=\"text-align:center; text-anchor:middle; dominant-baseline:middle;&#10;                      font-family:sans-serif; font-weight: bold;&#10;                      font-size:0.9px;&#10;                      vector-effect: non-scaling-stroke;\" transform=\"translate(-5e-05, 0)\" /></g></g></g></g><g transform=\"matrix(1.0, 0.0, 0.0, 1.0, 17.0, 0.0)\"><g transform=\"matrix(1.0, 0.0, 0.0, 1.0, 0.475, 0.0)\"><g><g style=\"fill: #ffff00;stroke: black;stroke-width: 0.0;fill-opacity: 0.5;\" transform=\"matrix(1.0, 0.0, 0.0, 1.0, -0.475, -0.45)\"><path d=\"M 0.0 0.0 L 0.95 0.0 L 0.95 0.9 L 0.0 0.9 L 0.0 0.0 Z\" style=\"vector-effect: non-scaling-stroke;\" /></g><g style=\"fill: #ffff00;stroke: black;stroke-width: 0.9;fill-opacity: 0.5;\" transform=\"matrix(1.0, 0.0, 0.0, 1.0, 0.0, 0.1)\"><text style=\"text-align:center; text-anchor:middle; dominant-baseline:middle;&#10;                      font-family:sans-serif; font-weight: bold;&#10;                      font-size:0.9px;&#10;                      vector-effect: non-scaling-stroke;\" transform=\"translate(-5e-05, 0)\" /></g></g></g></g><g transform=\"matrix(1.0, 0.0, 0.0, 1.0, 0.0, 0.5)\"><g transform=\"matrix(0.0, -1.0, 1.0, 0.0, 0.0, 0.0)\"><g /></g></g><g transform=\"matrix(1.0, 0.0, 0.0, 1.0, 0.0, 0.5)\"><g /></g><g transform=\"matrix(1.0, 0.0, 0.0, 1.0, 0.0, 0.5)\"><g transform=\"matrix(0.0, -1.0, 1.0, 0.0, 0.0, 0.0)\"><g /></g></g><g transform=\"matrix(1.0, 0.0, 0.0, 1.0, 0.0, 1.5)\"><g><g transform=\"matrix(1.0, 0.0, 0.0, 1.0, -0.0, -0.0)\"><g><g transform=\"matrix(1.0, 0.0, 0.0, 1.0, -0.0, -0.0)\"><g><g transform=\"matrix(1.0, 0.0, 0.0, 1.0, -0.0, -0.0)\"><g><g transform=\"matrix(1.0, 0.0, 0.0, 1.0, -0.0, -0.0)\"><g><g transform=\"matrix(1.0, 0.0, 0.0, 1.0, -0.0, -0.0)\"><g><g transform=\"matrix(1.0, 0.0, 0.0, 1.0, -0.0, -0.0)\"><g><g transform=\"matrix(1.0, 0.0, 0.0, 1.0, -0.0, -0.0)\"><g><g transform=\"matrix(1.0, 0.0, 0.0, 1.0, -0.0, -0.5)\"><g><g style=\"fill: #ffffff;stroke: black;stroke-width: 1.8;\" transform=\"matrix(1.0, 0.0, 0.0, 1.0, 0.0, -0.5)\"><path d=\"M 0.0 0.0 L 19.0 0.0 L 19.0 1.0 L 0.0 1.0 L 0.0 0.0 Z\" style=\"vector-effect: non-scaling-stroke;\" /></g><g transform=\"matrix(1.0, 0.0, 0.0, 1.0, -2.0, 0.0)\"><g><g style=\"fill: #808080;stroke: black;stroke-width: 0.0;\" transform=\"matrix(1.0, 0.0, 0.0, 1.0, 0.0, 0.0)\"><text style=\"text-align:center; text-anchor:middle; dominant-baseline:middle;&#10;                      font-family:sans-serif; font-weight: bold;&#10;                      font-size:1px;&#10;                      vector-effect: non-scaling-stroke;\" transform=\"translate(-5e-05, 0)\">0</text></g><g /></g></g></g></g><g style=\"fill: #808080;stroke: black;stroke-width: 0.0;\" transform=\"matrix(1.0, 0.0, 0.0, 1.0, 0.0, -0.2564102564102564)\"><path d=\"M 0.0 0.0 L 4.0 0.0 L 4.0 0.2564102564102564 L 0.0 0.2564102564102564 L 0.0 0.0 Z\" style=\"vector-effect: non-scaling-stroke;\" /></g></g></g><g style=\"fill: #808080;stroke: black;stroke-width: 0.0;\" transform=\"matrix(1.0, 0.0, 0.0, 1.0, 4.0, -0.3076923076923077)\"><path d=\"M 0.0 0.0 L 4.0 0.0 L 4.0 0.3076923076923077 L 0.0 0.3076923076923077 L 0.0 0.0 Z\" style=\"vector-effect: non-scaling-stroke;\" /></g></g></g><g style=\"fill: #808080;stroke: black;stroke-width: 0.0;\" transform=\"matrix(1.0, 0.0, 0.0, 1.0, 8.0, -0.358974358974359)\"><path d=\"M 0.0 0.0 L 0.0 0.0 L 0.0 0.358974358974359 L 0.0 0.358974358974359 L 0.0 0.0 Z\" style=\"vector-effect: non-scaling-stroke;\" /></g></g></g><g style=\"fill: #808080;stroke: black;stroke-width: 0.0;\" transform=\"matrix(1.0, 0.0, 0.0, 1.0, 8.0, -0.41025641025641024)\"><path d=\"M 0.0 0.0 L 0.0 0.0 L 0.0 0.41025641025641024 L 0.0 0.41025641025641024 L 0.0 0.0 Z\" style=\"vector-effect: non-scaling-stroke;\" /></g></g></g><g style=\"fill: #808080;stroke: black;stroke-width: 0.0;\" transform=\"matrix(1.0, 0.0, 0.0, 1.0, 8.0, -0.41025641025641024)\"><path d=\"M 0.0 0.0 L 4.0 0.0 L 4.0 0.41025641025641024 L 0.0 0.41025641025641024 L 0.0 0.0 Z\" style=\"vector-effect: non-scaling-stroke;\" /></g></g></g><g style=\"fill: #808080;stroke: black;stroke-width: 0.0;\" transform=\"matrix(1.0, 0.0, 0.0, 1.0, 12.0, -0.5128205128205128)\"><path d=\"M 0.0 0.0 L 4.0 0.0 L 4.0 0.5128205128205128 L 0.0 0.5128205128205128 L 0.0 0.0 Z\" style=\"vector-effect: non-scaling-stroke;\" /></g></g></g><g style=\"fill: #808080;stroke: black;stroke-width: 0.0;\" transform=\"matrix(1.0, 0.0, 0.0, 1.0, 16.0, -0.6666666666666666)\"><path d=\"M 0.0 0.0 L 1.0 0.0 L 1.0 0.6666666666666666 L 0.0 0.6666666666666666 L 0.0 0.0 Z\" style=\"vector-effect: non-scaling-stroke;\" /></g></g></g><g style=\"fill: #808080;stroke: black;stroke-width: 0.0;\" transform=\"matrix(1.0, 0.0, 0.0, 1.0, 17.0, -0.6666666666666666)\"><path d=\"M 0.0 0.0 L 1.0 0.0 L 1.0 0.6666666666666666 L 0.0 0.6666666666666666 L 0.0 0.0 Z\" style=\"vector-effect: non-scaling-stroke;\" /></g><g style=\"stroke: #ff0000;stroke-width: 1.8;\" transform=\"matrix(1.0, 0.0, 0.0, 1.0, 15.95, -1.0)\"><path d=\"M 0.0 0.0 L 0.1 0.0 L 0.1 1.0 L 0.0 1.0 L 0.0 0.0 Z\" style=\"vector-effect: non-scaling-stroke;\" /></g><g transform=\"matrix(1.0, 0.0, 0.0, 1.0, 0.0, 0.0)\"><g transform=\"matrix(0.0, -1.0, 1.0, 0.0, 0.0, 0.0)\"><g /></g></g><g transform=\"matrix(1.0, 0.0, 0.0, 1.0, 0.0, 0.0)\"><g /></g></g></g></g></g></g></g></g><g /></g></g></g></g></svg>"
          },
          "metadata": {},
          "execution_count": 18
        }
      ],
      "source": [
        "# We can view the final outcome of the system as a diagram.\n",
        "# This show the forward and backward passes (numbers of batches) and the updates.\n",
        "# The lines on the bottom show the memory that is used at each time step.\n",
        "draw([model])"
      ]
    },
    {
      "cell_type": "code",
      "execution_count": 18,
      "id": "01aa8d66",
      "metadata": {
        "id": "01aa8d66"
      },
      "outputs": [],
      "source": []
    },
    {
      "cell_type": "markdown",
      "id": "26e5ea60",
      "metadata": {
        "id": "26e5ea60"
      },
      "source": [
        "### Puzzle 0 - Standard Training\n",
        "\n",
        "Write a standard (non-distributed) training loop that acts on all the batches and loads all the weights. It should just run forward, loss, backward, and update. Aim for the least amount of max memory used.\n",
        "\n",
        "* Target Time:  17 steps\n",
        "* Target Memory: 2600000"
      ]
    },
    {
      "cell_type": "code",
      "execution_count": 19,
      "id": "04dbf7ea",
      "metadata": {
        "id": "04dbf7ea"
      },
      "outputs": [],
      "source": [
        "def basic(model: Model) -> Model:\n",
        "    # Storage on device.\n",
        "    weights, opt_states, activations, grad_activations, grad_weights = model.storage()\n",
        "\n",
        "    # Load in the full weights\n",
        "    for l in range(model.LAYERS):\n",
        "        weights[l], opt_states[l] = model.load_weights(l)\n",
        "\n",
        "    # Load the input layer activations\n",
        "    activations[0] = model.get_activation(range(model.BATCHES))\n",
        "\n",
        "    # assert False, 'TODO: Implement me'\n",
        "\n",
        "\n",
        "    for l in range(model.LAYERS):\n",
        "        model.set_final_weight(l, weights[l])\n",
        "    return model"
      ]
    },
    {
      "cell_type": "code",
      "execution_count": 20,
      "id": "e3632f24",
      "metadata": {
        "id": "e3632f24",
        "outputId": "a721b370-efd5-4a4f-8d3e-eb063d3bd9d8",
        "colab": {
          "base_uri": "https://localhost:8080/",
          "height": 287
        }
      },
      "outputs": [
        {
          "output_type": "error",
          "ename": "AssertionError",
          "evalue": "TODO: Implement me",
          "traceback": [
            "\u001b[0;31m---------------------------------------------------------------------------\u001b[0m",
            "\u001b[0;31mAssertionError\u001b[0m                            Traceback (most recent call last)",
            "\u001b[0;32m<ipython-input-20-0e8e3d2c62b4>\u001b[0m in \u001b[0;36m<cell line: 1>\u001b[0;34m()\u001b[0m\n\u001b[0;32m----> 1\u001b[0;31m \u001b[0mout\u001b[0m \u001b[0;34m=\u001b[0m \u001b[0mbasic\u001b[0m\u001b[0;34m(\u001b[0m\u001b[0mModel\u001b[0m\u001b[0;34m(\u001b[0m\u001b[0mlayers\u001b[0m\u001b[0;34m=\u001b[0m\u001b[0;36m2\u001b[0m\u001b[0;34m,\u001b[0m \u001b[0mbatches\u001b[0m\u001b[0;34m=\u001b[0m\u001b[0;36m4\u001b[0m\u001b[0;34m,\u001b[0m \u001b[0mrank\u001b[0m\u001b[0;34m=\u001b[0m\u001b[0;36m0\u001b[0m\u001b[0;34m,\u001b[0m \u001b[0mdist\u001b[0m\u001b[0;34m=\u001b[0m\u001b[0mDist\u001b[0m\u001b[0;34m(\u001b[0m\u001b[0;36m1\u001b[0m\u001b[0;34m)\u001b[0m\u001b[0;34m)\u001b[0m\u001b[0;34m)\u001b[0m\u001b[0;34m\u001b[0m\u001b[0;34m\u001b[0m\u001b[0m\n\u001b[0m\u001b[1;32m      2\u001b[0m \u001b[0mdraw_group\u001b[0m\u001b[0;34m(\u001b[0m\u001b[0mout\u001b[0m\u001b[0;34m.\u001b[0m\u001b[0mfinal_weights\u001b[0m\u001b[0;34m)\u001b[0m\u001b[0;34m\u001b[0m\u001b[0;34m\u001b[0m\u001b[0m\n",
            "\u001b[0;32m<ipython-input-19-21383b452cbb>\u001b[0m in \u001b[0;36mbasic\u001b[0;34m(model)\u001b[0m\n\u001b[1;32m     10\u001b[0m     \u001b[0mactivations\u001b[0m\u001b[0;34m[\u001b[0m\u001b[0;36m0\u001b[0m\u001b[0;34m]\u001b[0m \u001b[0;34m=\u001b[0m \u001b[0mmodel\u001b[0m\u001b[0;34m.\u001b[0m\u001b[0mget_activation\u001b[0m\u001b[0;34m(\u001b[0m\u001b[0mrange\u001b[0m\u001b[0;34m(\u001b[0m\u001b[0mmodel\u001b[0m\u001b[0;34m.\u001b[0m\u001b[0mBATCHES\u001b[0m\u001b[0;34m)\u001b[0m\u001b[0;34m)\u001b[0m\u001b[0;34m\u001b[0m\u001b[0;34m\u001b[0m\u001b[0m\n\u001b[1;32m     11\u001b[0m \u001b[0;34m\u001b[0m\u001b[0m\n\u001b[0;32m---> 12\u001b[0;31m     \u001b[0;32massert\u001b[0m \u001b[0;32mFalse\u001b[0m\u001b[0;34m,\u001b[0m \u001b[0;34m'TODO: Implement me'\u001b[0m\u001b[0;34m\u001b[0m\u001b[0;34m\u001b[0m\u001b[0m\n\u001b[0m\u001b[1;32m     13\u001b[0m \u001b[0;34m\u001b[0m\u001b[0m\n\u001b[1;32m     14\u001b[0m     \u001b[0;32mfor\u001b[0m \u001b[0ml\u001b[0m \u001b[0;32min\u001b[0m \u001b[0mrange\u001b[0m\u001b[0;34m(\u001b[0m\u001b[0mmodel\u001b[0m\u001b[0;34m.\u001b[0m\u001b[0mLAYERS\u001b[0m\u001b[0;34m)\u001b[0m\u001b[0;34m:\u001b[0m\u001b[0;34m\u001b[0m\u001b[0;34m\u001b[0m\u001b[0m\n",
            "\u001b[0;31mAssertionError\u001b[0m: TODO: Implement me"
          ]
        }
      ],
      "source": [
        "out = basic(Model(layers=2, batches=4, rank=0, dist=Dist(1)))\n",
        "draw_group(out.final_weights)"
      ]
    },
    {
      "cell_type": "code",
      "execution_count": null,
      "id": "21c87306",
      "metadata": {
        "id": "21c87306"
      },
      "outputs": [],
      "source": [
        "draw([out])"
      ]
    },
    {
      "cell_type": "code",
      "execution_count": null,
      "id": "74e71f5a",
      "metadata": {
        "id": "74e71f5a"
      },
      "outputs": [],
      "source": [
        "Model.check([out])"
      ]
    },
    {
      "cell_type": "markdown",
      "id": "d25bbcaf",
      "metadata": {
        "id": "d25bbcaf"
      },
      "source": [
        "### Puzzle 1 - Gradient Accumulation\n",
        "\n",
        "For this puzzle, the goal is to reduce max memory usage. To do so you are going to run on each batch individually instead of all together.\n",
        "\n",
        "Write a function with four parts. First run on batches {0} and then {1} etc. Sum the grad weights and then update.\n",
        "\n",
        "* Target Time:  17 steps\n",
        "* Target Memory: 2000000"
      ]
    },
    {
      "cell_type": "code",
      "execution_count": null,
      "id": "4c870ae6",
      "metadata": {
        "id": "4c870ae6"
      },
      "outputs": [],
      "source": [
        "def grad_accum(model: Model) -> Model:\n",
        "    # Storage on device.\n",
        "    weights, opt_states, activations, grad_activations, grad_weights = model.storage()\n",
        "\n",
        "    # Load in the full weights\n",
        "    for l in range(model.LAYERS):\n",
        "        weights[l], opt_states[l] = model.load_weights(l)\n",
        "\n",
        "    assert False, 'TODO: Implement me'\n",
        "    for l in range(model.LAYERS):\n",
        "        model.set_final_weight(l, weights[l])\n",
        "    return model"
      ]
    },
    {
      "cell_type": "code",
      "execution_count": null,
      "id": "672563cf",
      "metadata": {
        "id": "672563cf"
      },
      "outputs": [],
      "source": [
        "out = grad_accum(Model(layers=2, batches=4, rank=0, dist=Dist(1)))\n",
        "draw_group(out.final_weights)"
      ]
    },
    {
      "cell_type": "code",
      "execution_count": null,
      "id": "77bb31d7",
      "metadata": {
        "id": "77bb31d7"
      },
      "outputs": [],
      "source": [
        "draw([out])"
      ]
    },
    {
      "cell_type": "code",
      "execution_count": null,
      "id": "28cf8167",
      "metadata": {
        "id": "28cf8167"
      },
      "outputs": [],
      "source": [
        "Model.check([out])"
      ]
    },
    {
      "cell_type": "markdown",
      "id": "ccfb345c",
      "metadata": {
        "id": "ccfb345c"
      },
      "source": [
        "## Communications: AllReduce"
      ]
    },
    {
      "cell_type": "markdown",
      "id": "17383602",
      "metadata": {
        "id": "17383602"
      },
      "source": [
        "When working with multiple GPUs we need to have communication.\n",
        "The primary communication primitives for GPUs are implemented in NCCL.\n",
        "\n",
        "https://docs.nvidia.com/deeplearning/nccl/user-guide/docs/usage/operations.html\n",
        "\n",
        "We are not going to use these directly, but simulate them using Python and asyncio.\n",
        "\n",
        "The first operation is AllReduce. We will have 4 GPUs (ranks=4) and use them each to compute a batch of weight grads."
      ]
    },
    {
      "cell_type": "code",
      "execution_count": null,
      "id": "1f7bb767",
      "metadata": {
        "id": "1f7bb767"
      },
      "outputs": [],
      "source": [
        "ranks = 4\n",
        "weight_grads = [WeightGrad(0, 1, {i}, ranks) for i in range(ranks)]\n",
        "weight_grads[0] + weight_grads[1] + weight_grads[2] + weight_grads[3]"
      ]
    },
    {
      "cell_type": "code",
      "execution_count": null,
      "id": "ef0232db",
      "metadata": {
        "id": "ef0232db"
      },
      "outputs": [],
      "source": [
        "# Simple asynchronous function that calls allreduce to sum the weight grads at layer 0\n",
        "async def myfunc(model: Model) -> WeightGrad:\n",
        "    return await model.allreduce(weight_grads[model.rank], 0)"
      ]
    },
    {
      "cell_type": "code",
      "execution_count": null,
      "id": "43a91ae4",
      "metadata": {
        "id": "43a91ae4"
      },
      "outputs": [],
      "source": [
        "# This code uses asyncio to run the above function on 4 \"GPUs\" .\n",
        "dist = Dist(ranks)\n",
        "out_weight_grads = await asyncio.gather(*[\n",
        "    myfunc(Model(layers=1, batches=1, rank=i, dist=dist))\n",
        "    for i in range(ranks)])\n",
        "out_weight_grads[0]"
      ]
    },
    {
      "cell_type": "markdown",
      "id": "73d4ee90",
      "metadata": {
        "id": "73d4ee90"
      },
      "source": [
        "Note: When running communication operations like AllReduce on a GPU, the communication happens in parallel to the computation on that GPU. That means the API for AllReduce does not block, and allows the model to continue running while waiting for this command to run. This means it is beneficial to run AllReduce (and other communication) as early as possible so that other compute can be run during the reduction.\n",
        "\n",
        "We will ignore this in these puzzles and represent communication as happening efficiently."
      ]
    },
    {
      "cell_type": "markdown",
      "id": "1020523e",
      "metadata": {
        "id": "1020523e"
      },
      "source": [
        "### Puzzle 2 - Distributed Data Parallel\n",
        "\n",
        "Write a function with four parts. First run on batches {0} and then {1} etc. Sum the grad weights and then update. The main benefit of this approach is compute efficiency over gradient accumulation.\n",
        "\n",
        "* Total Steps: 5\n",
        "* Total Memory: 1800000"
      ]
    },
    {
      "cell_type": "code",
      "execution_count": null,
      "id": "f492668c",
      "metadata": {
        "lines_to_next_cell": 2,
        "id": "f492668c"
      },
      "outputs": [],
      "source": [
        "async def ddp(model: Model) -> Model:\n",
        "    # Storage on device.\n",
        "    weights, opt_states, activations, grad_activations, grad_weights = model.storage()\n",
        "    # Load all the activations\n",
        "    model.activations[0] = model.get_activation([model.rank])\n",
        "\n",
        "    assert False, 'TODO: Implement me'\n",
        "    for l in range(model.LAYERS):\n",
        "        model.set_final_weight(l, weights[l])\n",
        "    return model"
      ]
    },
    {
      "cell_type": "code",
      "execution_count": null,
      "id": "d6ed44f7",
      "metadata": {
        "id": "d6ed44f7"
      },
      "outputs": [],
      "source": [
        "dist = Dist(ranks)\n",
        "out = await asyncio.gather(*[\n",
        "    ddp(Model(layers=2, batches=ranks, rank=i, dist=dist))\n",
        "    for i in range(ranks)])\n",
        "draw_group(out[0].final_weights)"
      ]
    },
    {
      "cell_type": "code",
      "execution_count": null,
      "id": "89411fad",
      "metadata": {
        "id": "89411fad"
      },
      "outputs": [],
      "source": [
        "draw(out)"
      ]
    },
    {
      "cell_type": "code",
      "execution_count": null,
      "id": "2df8166f",
      "metadata": {
        "id": "2df8166f"
      },
      "outputs": [],
      "source": [
        "Model.check(out)"
      ]
    },
    {
      "cell_type": "markdown",
      "id": "8c3df405",
      "metadata": {
        "id": "8c3df405"
      },
      "source": [
        "## Communication: AllGather / Sharding\n",
        "\n",
        "Our next primitive is AllGather. This allows us to communicate \"shards\" of an object stored on different GPUs to all the GPUs."
      ]
    },
    {
      "cell_type": "code",
      "execution_count": null,
      "id": "5b4bad85",
      "metadata": {
        "id": "5b4bad85"
      },
      "outputs": [],
      "source": [
        "# Load only part of a weights.\n",
        "model = Model(layers=2, batches=1, rank=0, dist=Dist(1))\n",
        "weight, _ = model.load_weights(0, shard=0, total=4)\n",
        "weight"
      ]
    },
    {
      "cell_type": "code",
      "execution_count": null,
      "id": "2597b152",
      "metadata": {
        "id": "2597b152"
      },
      "outputs": [],
      "source": [
        "# Combine togegher two shards on one machine.\n",
        "weights = [model.load_weights(0, shard=i, total=ranks)[0] for i in range(ranks)]\n",
        "weights[0].combine(weights[2])"
      ]
    },
    {
      "cell_type": "code",
      "execution_count": null,
      "id": "5e3d10b6",
      "metadata": {
        "id": "5e3d10b6"
      },
      "outputs": [],
      "source": [
        "# Use allgather to collect the shards from all machines.\n",
        "async def mygather(model: Model) -> WeightGrad:\n",
        "    # Allreduce sums together all the weight grads\n",
        "    return await model.allgather(weights[model.rank], 0)\n",
        "\n",
        "dist = Dist(ranks)\n",
        "out_weights = await asyncio.gather(*[\n",
        "    mygather(Model(layers=1, batches=1, rank=i, dist=dist))\n",
        "    for i in range(ranks)])\n",
        "out_weights[0]"
      ]
    },
    {
      "cell_type": "markdown",
      "id": "c3903613",
      "metadata": {
        "id": "c3903613"
      },
      "source": [
        "### Puzzle 3: Weight-Sharded Data Parallel\n",
        "\n",
        "Run a model that shards each layer weight over all the machines. Reconstruct the layer weight at each layer using allgather. Finally update the weights on each machine using allreduce.\n",
        "\n",
        "* Total Steps: 20\n",
        "* Total Memory: 2800000"
      ]
    },
    {
      "cell_type": "code",
      "execution_count": null,
      "id": "4b674be7",
      "metadata": {
        "id": "4b674be7"
      },
      "outputs": [],
      "source": [
        "async def wsdp(model: Model) -> Model:\n",
        "    # Storage on device.\n",
        "    weights, opt_states, activations, grad_activations, grad_weights = model.storage()\n",
        "\n",
        "    # Load all the activations\n",
        "    model.activations[0] = model.get_activation([model.rank])\n",
        "\n",
        "    # Load a shard of the weights for every layer. Load in the full weights\n",
        "    for l in range(model.LAYERS):\n",
        "        weights[l], opt_states[l] = model.load_weights(l, model.rank, model.RANKS)\n",
        "\n",
        "    assert False, 'TODO: Implement me'\n",
        "    for l in range(model.LAYERS):\n",
        "        model.set_final_weight(l, weights[l])\n",
        "\n",
        "    return model"
      ]
    },
    {
      "cell_type": "code",
      "execution_count": null,
      "id": "6c23a1eb",
      "metadata": {
        "id": "6c23a1eb"
      },
      "outputs": [],
      "source": [
        "dist = Dist(ranks)\n",
        "out = await asyncio.gather(*[\n",
        "    wsdp(Model(layers=6, batches=ranks, rank=i, dist=dist))\n",
        "    for i in range(ranks)])\n",
        "draw_group(out[1].final_weights)"
      ]
    },
    {
      "cell_type": "code",
      "execution_count": null,
      "id": "09731c67",
      "metadata": {
        "id": "09731c67"
      },
      "outputs": [],
      "source": [
        "draw(out)"
      ]
    },
    {
      "cell_type": "code",
      "execution_count": null,
      "id": "d3ff46b6",
      "metadata": {
        "id": "d3ff46b6"
      },
      "outputs": [],
      "source": [
        "Model.check(out)"
      ]
    },
    {
      "cell_type": "markdown",
      "id": "32243386",
      "metadata": {
        "id": "32243386"
      },
      "source": [
        "## Communication: Scatter-Reduce"
      ]
    },
    {
      "cell_type": "markdown",
      "id": "44610031",
      "metadata": {
        "id": "44610031"
      },
      "source": [
        "Scatter across shards\n",
        "Reduce across batches"
      ]
    },
    {
      "cell_type": "code",
      "execution_count": null,
      "id": "1034dbb9",
      "metadata": {
        "id": "1034dbb9"
      },
      "outputs": [],
      "source": [
        "grad_weight = WeightGrad(0, 1, batches={1}, total_batches=4,\n",
        "                         shards={1}, total=4)\n",
        "grad_weight"
      ]
    },
    {
      "cell_type": "code",
      "execution_count": null,
      "id": "02680e7e",
      "metadata": {
        "id": "02680e7e"
      },
      "outputs": [],
      "source": [
        "grad_weights = {i: WeightGrad(0, 1, batches={i}, total_batches=4,\n",
        "                         shards={0,1,2,3}, total=4) for i in range(4)}\n",
        "grad_weights[2]"
      ]
    },
    {
      "cell_type": "code",
      "execution_count": null,
      "id": "1498773a",
      "metadata": {
        "lines_to_next_cell": 0,
        "id": "1498773a"
      },
      "outputs": [],
      "source": [
        "async def scatterreduce(model: Model) -> WeightGrad:\n",
        "    # Allreduce sums together all the weight grads\n",
        "    return await model.scatterreduce(grad_weights[model.rank], 0)\n",
        "\n",
        "dist = Dist(ranks)\n",
        "out = await asyncio.gather(*[\n",
        "    scatterreduce(Model(layers=1, batches=1, rank=i, dist=dist))\n",
        "    for i in range(ranks)])\n",
        "out[0]"
      ]
    },
    {
      "cell_type": "code",
      "execution_count": null,
      "id": "261435f2",
      "metadata": {
        "lines_to_next_cell": 2,
        "id": "261435f2"
      },
      "outputs": [],
      "source": []
    },
    {
      "cell_type": "markdown",
      "id": "7e62da15",
      "metadata": {
        "id": "7e62da15"
      },
      "source": [
        "### Puzzle 4: Fully-Sharded Data Parallel\n",
        "\n",
        "Run a model that shards each layer weight over all the machines. Reconstruct the layer weight at each layer using allgather. Collect the gradients with scatter-reduce.\n",
        "\n",
        "* Total Steps: 20\n",
        "* Total Memory: 2300000"
      ]
    },
    {
      "cell_type": "code",
      "execution_count": null,
      "id": "43a35535",
      "metadata": {
        "lines_to_next_cell": 2,
        "id": "43a35535"
      },
      "outputs": [],
      "source": [
        "async def fsdp(model: Model) -> Model:\n",
        "    # Storage on device.\n",
        "    weights, opt_states, activations, grad_activations, grad_weights = model.storage()\n",
        "\n",
        "    # Load all the activations\n",
        "    model.activations[0] = model.get_activation([model.rank])\n",
        "\n",
        "    # Load a shard of the weights for every layer. Load in the full weights\n",
        "    for l in range(model.LAYERS):\n",
        "        weights[l], opt_states[l] = model.load_weights(l, model.rank, model.RANKS)\n",
        "\n",
        "    assert False, 'TODO: Implement me'\n",
        "    for l in range(model.LAYERS):\n",
        "        model.set_final_weight(l, weights[l])\n",
        "    return model"
      ]
    },
    {
      "cell_type": "code",
      "execution_count": null,
      "id": "dec61bda",
      "metadata": {
        "id": "dec61bda"
      },
      "outputs": [],
      "source": [
        "dist = Dist(ranks)\n",
        "out = await asyncio.gather(*[\n",
        "    fsdp(Model(layers=6, batches=ranks, rank=i, dist=dist))\n",
        "    for i in range(ranks)])\n",
        "draw_group(out[1].final_weights)"
      ]
    },
    {
      "cell_type": "code",
      "execution_count": null,
      "id": "b9f62f28",
      "metadata": {
        "id": "b9f62f28"
      },
      "outputs": [],
      "source": [
        "draw(out)"
      ]
    },
    {
      "cell_type": "code",
      "execution_count": null,
      "id": "3a527fc7",
      "metadata": {
        "id": "3a527fc7"
      },
      "outputs": [],
      "source": [
        "Model.check(out)"
      ]
    },
    {
      "cell_type": "markdown",
      "id": "0858bb4f",
      "metadata": {
        "id": "0858bb4f"
      },
      "source": [
        "## Communication: Point-to-Point\n",
        "\n",
        "An alternative approach to communication is to directly communicate specific information between GPUs. In our model, both GPUs talking to each other block and wait for the handoff."
      ]
    },
    {
      "cell_type": "code",
      "execution_count": null,
      "id": "de38df4d",
      "metadata": {
        "lines_to_next_cell": 2,
        "id": "de38df4d"
      },
      "outputs": [],
      "source": [
        "async def talk(model: Model) -> None:\n",
        "    if model.rank == 0:\n",
        "        await model.pass_to(1, \"extra cheese\")\n",
        "        val = await model.receive()\n",
        "        print(val)\n",
        "    else:\n",
        "        val = await model.receive()\n",
        "        print(val)\n",
        "        val = await model.pass_to(0, \"pizza\")\n",
        "\n",
        "dist = Dist(2)\n",
        "result = await asyncio.gather(*[\n",
        "    talk(Model(layers=1, batches=1, rank=i, dist=dist))\n",
        "    for i in range(2)])"
      ]
    },
    {
      "cell_type": "markdown",
      "id": "027b159c",
      "metadata": {
        "id": "027b159c"
      },
      "source": [
        "### Puzzle 5: Pipeline Parallelism\n",
        "\n",
        "Split the layer weights and optimizers equally between GPUs. Have each GPU handle only its layer. Pass the full set of batches for activations and grad_activations between layers using p2p communication. No need for any global communication.\n",
        "\n",
        "* Total Steps: 66\n",
        "* Total Memory: 3300000"
      ]
    },
    {
      "cell_type": "code",
      "execution_count": null,
      "id": "09feb2a6",
      "metadata": {
        "lines_to_next_cell": 2,
        "id": "09feb2a6"
      },
      "outputs": [],
      "source": [
        "async def pipeline(model: Model) -> Model:\n",
        "    weights, opt_states, activations, grad_activations, grad_weights = model.storage()\n",
        "    per_rank = model.LAYERS // model.RANKS\n",
        "    my_layers = list([l + (model.rank * per_rank) for l in range(per_rank)])\n",
        "    for l in my_layers:\n",
        "        weights[l], opt_states[l] = model.load_weights(l)\n",
        "    assert False, 'TODO: Implement me'\n",
        "    for l in my_layers:\n",
        "        model.set_final_weight(l, weights[l])\n",
        "    return model"
      ]
    },
    {
      "cell_type": "code",
      "execution_count": null,
      "id": "2e5c381b",
      "metadata": {
        "id": "2e5c381b"
      },
      "outputs": [],
      "source": [
        "dist = Dist(ranks)\n",
        "out = await asyncio.gather(*[\n",
        "    pipeline(Model(layers=8, batches=ranks, rank=i, dist=dist))\n",
        "    for i in range(ranks)])\n",
        "draw_group(out[1].final_weights)"
      ]
    },
    {
      "cell_type": "code",
      "execution_count": null,
      "id": "5a99ecad",
      "metadata": {
        "id": "5a99ecad"
      },
      "outputs": [],
      "source": [
        "draw(out)"
      ]
    },
    {
      "cell_type": "code",
      "execution_count": null,
      "id": "2b2f11d5",
      "metadata": {
        "id": "2b2f11d5"
      },
      "outputs": [],
      "source": [
        "Model.check(out)"
      ]
    },
    {
      "cell_type": "markdown",
      "id": "f6606efc",
      "metadata": {
        "id": "f6606efc"
      },
      "source": [
        "### Puzzle 6: GPipe Schedule\n",
        "\n",
        "A major issue with the pipeline approach is that it causes a \"bubble\", i.e. time in the later layers waiting for the earlier layers to complete. An alternative approach is to split the batches smaller so you can pass them earlier.\n",
        "\n",
        "In this puzzle, you should run each batch by itself, and then pass. The graph should look similar as the one above but with a smaller bubble.\n",
        "\n",
        "* Total Steps: 33\n",
        "* Total Memory: 4100000"
      ]
    },
    {
      "cell_type": "code",
      "execution_count": null,
      "id": "f5f33513",
      "metadata": {
        "lines_to_next_cell": 2,
        "id": "f5f33513"
      },
      "outputs": [],
      "source": [
        "async def gpipe(model: Model) -> Model:\n",
        "    weights, opt_states, activations, grad_activations, grad_weights = model.storage()\n",
        "    per_rank = model.LAYERS // model.RANKS\n",
        "    my_layers = list([l + (model.rank * per_rank) for l in range(per_rank)])\n",
        "    for l in my_layers:\n",
        "        weights[l], opt_states[l] = model.load_weights(l)\n",
        "\n",
        "    assert False, 'TODO: Implement me'\n",
        "    for l in my_layers:\n",
        "        model.set_final_weight(l, weights[l])\n",
        "\n",
        "    return model"
      ]
    },
    {
      "cell_type": "code",
      "execution_count": null,
      "id": "f5c73b29",
      "metadata": {
        "id": "f5c73b29"
      },
      "outputs": [],
      "source": [
        "dist = Dist(ranks)\n",
        "out = await asyncio.gather(*[\n",
        "    gpipe(Model(layers=8, batches=ranks, rank=i, dist=dist))\n",
        "    for i in range(ranks)])\n",
        "draw_group(out[1].final_weights)"
      ]
    },
    {
      "cell_type": "code",
      "execution_count": null,
      "id": "0e759da9",
      "metadata": {
        "id": "0e759da9"
      },
      "outputs": [],
      "source": [
        "draw(out)"
      ]
    },
    {
      "cell_type": "code",
      "execution_count": null,
      "id": "47d3102b",
      "metadata": {
        "lines_to_next_cell": 2,
        "id": "47d3102b"
      },
      "outputs": [],
      "source": [
        "Model.check(out)"
      ]
    },
    {
      "cell_type": "markdown",
      "id": "3a4bc062",
      "metadata": {
        "id": "3a4bc062"
      },
      "source": [
        "### Puzzle 7: Pipeline + FSDP\n",
        "\n",
        "As a last exercise, we can put everything together. Here we are going to run a combination of pipeline parallelism while also sharding our weight between 16 different machines. Here the model only has 4 layers, so we will assign 4 GPUs to each layer in the pipeline parallel approach.\n",
        "\n",
        "This example requires combining both collective communication and p2p communication effectively.\n",
        "\n",
        "* Total Steps: 15\n",
        "* Total Memory: 1000000"
      ]
    },
    {
      "cell_type": "code",
      "execution_count": null,
      "id": "34757c26",
      "metadata": {
        "id": "34757c26"
      },
      "outputs": [],
      "source": [
        "async def pipeline_fsdp(model: Model) -> Model:\n",
        "    weights, opt_states, activations, grad_activations, grad_weights = model.storage()\n",
        "    per_rank = model.LAYERS // (model.RANKS // 4)\n",
        "    my_layers = list([l + ((model.rank % 4)  * per_rank) for l in range(per_rank)])\n",
        "    for l in range(model.LAYERS):\n",
        "        weights[l, 0], opt_states[l, 0] = model.load_weights(l, model.rank, model.RANKS)\n",
        "    def empty_grad(l):\n",
        "        return model.fake_grad(l, [])\n",
        "    assert False, 'TODO: Implement me'\n",
        "    for l in range(model.LAYERS):\n",
        "        model.set_final_weight(l, weights[l])\n",
        "    # Update\n",
        "    return model"
      ]
    },
    {
      "cell_type": "code",
      "execution_count": null,
      "id": "35a0877b",
      "metadata": {
        "lines_to_next_cell": 2,
        "id": "35a0877b"
      },
      "outputs": [],
      "source": [
        "dist = Dist(16)\n",
        "out = await asyncio.gather(*[\n",
        "    pipeline_fsdp(Model(layers=4, batches=ranks, rank=i, dist=dist))\n",
        "    for i in range(16)])"
      ]
    },
    {
      "cell_type": "code",
      "execution_count": null,
      "id": "d93c6256",
      "metadata": {
        "id": "d93c6256"
      },
      "outputs": [],
      "source": [
        "Model.check(out)\n",
        "chalk.set_svg_height(1000)\n",
        "chalk.set_svg_draw_height(1000)\n",
        "\n",
        "draw(out)"
      ]
    },
    {
      "cell_type": "markdown",
      "id": "24393483",
      "metadata": {
        "id": "24393483"
      },
      "source": [
        "### When does it make sense to combine?\n",
        "\n",
        "The goal of these exercises is to give you a sense of the different methods out there for distributed training. However, there is not currently a one size fits all approach for distributed training. The right choice will depend on the constants such as batch size, memory per GPU, communication overhead, implementation complexity, model size, and specifics of architecture.\n",
        "\n",
        "As an example  of what's left to explore, this last method Pipeline + FSDP is often not a great choice due to the complexities of communication speed. And in fact GPipe + FSDP also gets you into a bad place. The paper [Breadth First Pipeline Parallelism](https://arxiv.org/pdf/2211.05953.pdf) proposes instead a combination of pipeline scheduling and communication. Here's what it looks like."
      ]
    },
    {
      "cell_type": "markdown",
      "id": "35c9493a",
      "metadata": {
        "id": "35c9493a"
      },
      "source": [
        "![image.png](https://github.com/srush/LLM-Training-Puzzles/assets/35882/f286089a-83bd-483c-b441-f154821d161c)"
      ]
    }
  ],
  "metadata": {
    "jupytext": {
      "cell_metadata_filter": "-all",
      "custom_cell_magics": "kql"
    },
    "kernelspec": {
      "display_name": "venv",
      "language": "python",
      "name": "python3"
    },
    "colab": {
      "provenance": []
    }
  },
  "nbformat": 4,
  "nbformat_minor": 5
}